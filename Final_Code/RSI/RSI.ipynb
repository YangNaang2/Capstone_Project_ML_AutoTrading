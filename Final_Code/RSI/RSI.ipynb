{
  "nbformat": 4,
  "nbformat_minor": 0,
  "metadata": {
    "colab": {
      "provenance": []
    },
    "kernelspec": {
      "name": "python3",
      "display_name": "Python 3"
    },
    "language_info": {
      "name": "python"
    }
  },
  "cells": [
    {
      "cell_type": "code",
      "source": [
        "!pip install backtrader\n",
        "!pip install yfinance"
      ],
      "metadata": {
        "colab": {
          "base_uri": "https://localhost:8080/"
        },
        "id": "IVN6z4iRku6n",
        "outputId": "053a362a-9923-4227-9647-c40c1ba9dd8d"
      },
      "execution_count": 1,
      "outputs": [
        {
          "output_type": "stream",
          "name": "stdout",
          "text": [
            "Collecting backtrader\n",
            "  Downloading backtrader-1.9.78.123-py2.py3-none-any.whl.metadata (6.8 kB)\n",
            "Downloading backtrader-1.9.78.123-py2.py3-none-any.whl (419 kB)\n",
            "\u001b[?25l   \u001b[90m━━━━━━━━━━━━━━━━━━━━━━━━━━━━━━━━━━━━━━━━\u001b[0m \u001b[32m0.0/419.5 kB\u001b[0m \u001b[31m?\u001b[0m eta \u001b[36m-:--:--\u001b[0m\r\u001b[2K   \u001b[91m━━━━━━━━━━━━━━━━━━━━━━━━━━━━━━━━━━━━━━━\u001b[0m\u001b[90m╺\u001b[0m \u001b[32m409.6/419.5 kB\u001b[0m \u001b[31m13.0 MB/s\u001b[0m eta \u001b[36m0:00:01\u001b[0m\r\u001b[2K   \u001b[90m━━━━━━━━━━━━━━━━━━━━━━━━━━━━━━━━━━━━━━━━\u001b[0m \u001b[32m419.5/419.5 kB\u001b[0m \u001b[31m7.3 MB/s\u001b[0m eta \u001b[36m0:00:00\u001b[0m\n",
            "\u001b[?25hInstalling collected packages: backtrader\n",
            "Successfully installed backtrader-1.9.78.123\n",
            "Requirement already satisfied: yfinance in /usr/local/lib/python3.11/dist-packages (0.2.55)\n",
            "Requirement already satisfied: pandas>=1.3.0 in /usr/local/lib/python3.11/dist-packages (from yfinance) (2.2.2)\n",
            "Requirement already satisfied: numpy>=1.16.5 in /usr/local/lib/python3.11/dist-packages (from yfinance) (2.0.2)\n",
            "Requirement already satisfied: requests>=2.31 in /usr/local/lib/python3.11/dist-packages (from yfinance) (2.32.3)\n",
            "Requirement already satisfied: multitasking>=0.0.7 in /usr/local/lib/python3.11/dist-packages (from yfinance) (0.0.11)\n",
            "Requirement already satisfied: platformdirs>=2.0.0 in /usr/local/lib/python3.11/dist-packages (from yfinance) (4.3.7)\n",
            "Requirement already satisfied: pytz>=2022.5 in /usr/local/lib/python3.11/dist-packages (from yfinance) (2025.1)\n",
            "Requirement already satisfied: frozendict>=2.3.4 in /usr/local/lib/python3.11/dist-packages (from yfinance) (2.4.6)\n",
            "Requirement already satisfied: peewee>=3.16.2 in /usr/local/lib/python3.11/dist-packages (from yfinance) (3.17.9)\n",
            "Requirement already satisfied: beautifulsoup4>=4.11.1 in /usr/local/lib/python3.11/dist-packages (from yfinance) (4.13.3)\n",
            "Requirement already satisfied: soupsieve>1.2 in /usr/local/lib/python3.11/dist-packages (from beautifulsoup4>=4.11.1->yfinance) (2.6)\n",
            "Requirement already satisfied: typing-extensions>=4.0.0 in /usr/local/lib/python3.11/dist-packages (from beautifulsoup4>=4.11.1->yfinance) (4.12.2)\n",
            "Requirement already satisfied: python-dateutil>=2.8.2 in /usr/local/lib/python3.11/dist-packages (from pandas>=1.3.0->yfinance) (2.8.2)\n",
            "Requirement already satisfied: tzdata>=2022.7 in /usr/local/lib/python3.11/dist-packages (from pandas>=1.3.0->yfinance) (2025.1)\n",
            "Requirement already satisfied: charset-normalizer<4,>=2 in /usr/local/lib/python3.11/dist-packages (from requests>=2.31->yfinance) (3.4.1)\n",
            "Requirement already satisfied: idna<4,>=2.5 in /usr/local/lib/python3.11/dist-packages (from requests>=2.31->yfinance) (3.10)\n",
            "Requirement already satisfied: urllib3<3,>=1.21.1 in /usr/local/lib/python3.11/dist-packages (from requests>=2.31->yfinance) (2.3.0)\n",
            "Requirement already satisfied: certifi>=2017.4.17 in /usr/local/lib/python3.11/dist-packages (from requests>=2.31->yfinance) (2025.1.31)\n",
            "Requirement already satisfied: six>=1.5 in /usr/local/lib/python3.11/dist-packages (from python-dateutil>=2.8.2->pandas>=1.3.0->yfinance) (1.17.0)\n"
          ]
        }
      ]
    },
    {
      "cell_type": "code",
      "execution_count": 2,
      "metadata": {
        "id": "x6HXl1nmkklM"
      },
      "outputs": [],
      "source": [
        "import backtrader as bt\n",
        "import math\n",
        "import yfinance as yf"
      ]
    },
    {
      "cell_type": "markdown",
      "source": [
        "RSI 지표 과매수(70)시 매도 청산,  RSI 지표 과매도(30)시 매수 진입"
      ],
      "metadata": {
        "id": "YppRpUeE422D"
      }
    },
    {
      "cell_type": "code",
      "source": [
        "class RSI(bt.Strategy):\n",
        "    params = dict(\n",
        "        rsi_period=14,  # RSI 기간 설정\n",
        "        rsi_low=30,  # RSI low 설정\n",
        "        rsi_high=70  # RSI high 설정\n",
        "    )\n",
        "    def __init__(self):\n",
        "        # RSI 지표 정의\n",
        "        self.rsi = bt.indicators.RSI_SMA(self.data.close, period=self.params.rsi_period)\n",
        "        # 매수 신호 추적 변수\n",
        "        self.order = None\n",
        "\n",
        "    def next(self):\n",
        "        if self.order:  # 만약 주문이 있으면 대기\n",
        "            return\n",
        "        # 포지션이 없을 때(시장 미진입 상태)\n",
        "        if not self.position:\n",
        "            # RSI < 30이면 매수 진입 시도\n",
        "            if self.rsi[-1] <= self.params.rsi_low < self.rsi[0]:  # RSI가 rsi_low보다 낮은지 확인하고 매수\n",
        "                order_size = math.floor(self.broker.get_value() / self.datas[0].close * 0.99)\n",
        "                self.buy(size=order_size)\n",
        "\n",
        "        # 포지션이 있을 때(시장 진입 상태)\n",
        "        else:\n",
        "            if self.rsi[-1] >= self.p.rsi_high > self.rsi[0]:  # RSI가 rsi_high보다 높은지 확인하고 매도\n",
        "                self.close()\n",
        "\n",
        "    def log(self, message):\n",
        "        print(message)\n",
        "\n",
        "    def notify_order(self, order):\n",
        "        if order.status in [order.Submitted, order.Accepted]:\n",
        "            # Buy/Sell order submitted/accepted to/by broker - Nothing to do\n",
        "            return\n",
        "\n",
        "        # Check if an order has been completed\n",
        "        # Attention: broker could reject order if not enough cash\n",
        "        cur_date = None\n",
        "        if order.status in [order.Completed]:\n",
        "            cur_date = order.data.datetime.date(0)\n",
        "            if order.isbuy():\n",
        "                self.log(\n",
        "                    f'{cur_date} [매수 주문 실행] 종목: {order.data._name} \\t 수량: {order.size} \\t 가격: {order.executed.price:.2f}')\n",
        "            elif order.issell():\n",
        "                self.log(\n",
        "                    f'{cur_date} [매도 주문 실행] 종목: {order.data._name} \\t 수량: {order.size} \\t 가격: {order.executed.price:.2f}')\n",
        "            self.bar_executed = len(self)\n",
        "\n",
        "        elif order.status in [order.Canceled, order.Margin, order.Rejected]:\n",
        "            self.log(\n",
        "                f'{cur_date} 주문이 거부되었습니다. 종목: {order.data._name} \\t 수량: {order.size} \\t 가격: {order.executed.price:.2f}')\n"
      ],
      "metadata": {
        "id": "nh4pO-zqmXBM"
      },
      "execution_count": 3,
      "outputs": []
    },
    {
      "cell_type": "code",
      "source": [
        "if __name__ == '__main__':\n",
        "\n",
        "    cerebro = bt.Cerebro()\n",
        "    cerebro.addstrategy(RSI)\n",
        "    cerebro.broker.setcommission(commission=0.003) # 수수료 0.3%\n",
        "    cerebro.broker.setcash(10_000_000)\n",
        "\n",
        "    print('Starting Portfolio Value: %.2f' % cerebro.broker.getvalue())\n",
        "    data = yf.download('BTC-USD', start='2020-01-01', end='2024-12-17')\n",
        "    # 열 이름 전처리\n",
        "    data.columns = [col[0] if isinstance(col, tuple) else col for col in data.columns]\n",
        "    data_bt = bt.feeds.PandasData(dataname=data)\n",
        "    cerebro.adddata(data_bt)\n",
        "    cerebro.run()\n",
        "    print('Final Portfolio Value: %.2f' % cerebro.broker.getvalue())\n",
        "    print(f'수익률: {cerebro.broker.getvalue() / 10_000_000 * 100:.2f}%')\n"
      ],
      "metadata": {
        "colab": {
          "base_uri": "https://localhost:8080/"
        },
        "id": "hGa7ybRCp3n5",
        "outputId": "ac16ccc4-4dfa-4b9a-bae7-0cbfabbcc4e6"
      },
      "execution_count": 4,
      "outputs": [
        {
          "output_type": "stream",
          "name": "stdout",
          "text": [
            "Starting Portfolio Value: 10000000.00\n",
            "YF.download() has changed argument auto_adjust default to True\n"
          ]
        },
        {
          "output_type": "stream",
          "name": "stderr",
          "text": [
            "\r[*********************100%***********************]  1 of 1 completed\n"
          ]
        },
        {
          "output_type": "stream",
          "name": "stdout",
          "text": [
            "2020-03-03 [매수 주문 실행] 종목:  \t 수량: 1116 \t 가격: 8865.39\n",
            "2020-03-28 [매도 주문 실행] 종목:  \t 수량: -1116 \t 가격: 6467.25\n",
            "2020-09-05 [매수 주문 실행] 종목:  \t 수량: 684 \t 가격: 10512.53\n",
            "2020-09-21 [매도 주문 실행] 종목:  \t 수량: -684 \t 가격: 10934.93\n",
            "2021-04-27 [매수 주문 실행] 종목:  \t 수량: 137 \t 가격: 54030.30\n",
            "2021-08-11 [매도 주문 실행] 종목:  \t 수량: -137 \t 가격: 45599.70\n",
            "2021-09-22 [매수 주문 실행] 종목:  \t 수량: 153 \t 가격: 40677.95\n",
            "2021-10-23 [매도 주문 실행] 종목:  \t 수량: -153 \t 가격: 60694.63\n",
            "None 주문이 거부되었습니다. 종목:  \t 수량: 161 \t 가격: 0.00\n",
            "2021-11-28 [매수 주문 실행] 종목:  \t 수량: 168 \t 가격: 54813.02\n",
            "2022-02-12 [매도 주문 실행] 종목:  \t 수량: -168 \t 가격: 42412.30\n",
            "2022-02-25 [매수 주문 실행] 종목:  \t 수량: 186 \t 가격: 38333.75\n",
            "2022-04-03 [매도 주문 실행] 종목:  \t 수량: -186 \t 가격: 45859.13\n",
            "2022-04-20 [매수 주문 실행] 종목:  \t 수량: 204 \t 가격: 41501.75\n",
            "2022-08-10 [매도 주문 실행] 종목:  \t 수량: -204 \t 가격: 23162.90\n",
            "2022-09-03 [매수 주문 실행] 종목:  \t 수량: 236 \t 가격: 19969.72\n",
            "2022-10-28 [매도 주문 실행] 종목:  \t 수량: -236 \t 가격: 20287.96\n",
            "2022-11-11 [매수 주문 실행] 종목:  \t 수량: 271 \t 가격: 17583.25\n",
            "2022-12-15 [매도 주문 실행] 종목:  \t 수량: -271 \t 가격: 17813.64\n",
            "2022-12-30 [매수 주문 실행] 종목:  \t 수량: 288 \t 가격: 16641.33\n",
            "2023-01-31 [매도 주문 실행] 종목:  \t 수량: -288 \t 가격: 22840.80\n",
            "2023-03-06 [매수 주문 실행] 종목:  \t 수량: 291 \t 가격: 22436.82\n",
            "2023-03-28 [매도 주문 실행] 종목:  \t 수량: -291 \t 가격: 27132.89\n",
            "2023-05-16 [매수 주문 실행] 종목:  \t 수량: 288 \t 가격: 27171.51\n",
            "2023-07-06 [매도 주문 실행] 종목:  \t 수량: -288 \t 가격: 30507.15\n",
            "2023-07-29 [매수 주문 실행] 종목:  \t 수량: 298 \t 가격: 29319.45\n",
            "2023-10-10 [매도 주문 실행] 종목:  \t 수량: -298 \t 가격: 27589.20\n",
            "2024-01-27 [매수 주문 실행] 종목:  \t 수량: 195 \t 가격: 41815.62\n",
            "2024-02-26 [매도 주문 실행] 종목:  \t 수량: -195 \t 가격: 51730.54\n",
            "2024-07-01 [매수 주문 실행] 종목:  \t 수량: 160 \t 가격: 62673.61\n",
            "2024-07-30 [매도 주문 실행] 종목:  \t 수량: -160 \t 가격: 66819.05\n",
            "2024-08-09 [매수 주문 실행] 종목:  \t 수량: 172 \t 가격: 61728.21\n",
            "2024-10-01 [매도 주문 실행] 종목:  \t 수량: -172 \t 가격: 63335.61\n",
            "2024-10-12 [매수 주문 실행] 종목:  \t 수량: 173 \t 가격: 62444.62\n",
            "2024-10-22 [매도 주문 실행] 종목:  \t 수량: -173 \t 가격: 67360.70\n",
            "Final Portfolio Value: 11751126.95\n",
            "수익률: 117.51%\n"
          ]
        }
      ]
    },
    {
      "cell_type": "markdown",
      "source": [
        "스탑로스 10%"
      ],
      "metadata": {
        "id": "axmnJePBroDe"
      }
    },
    {
      "cell_type": "code",
      "source": [
        "class RSIStopLoss(bt.Strategy):\n",
        "    params = dict(\n",
        "        rsi_period=14,  # RSI 기간 설정\n",
        "        rsi_low=30,  # RSI low 설정\n",
        "        rsi_high=70,  # RSI high 설정\n",
        "        stop_loss=0.1 # 손절 비율(10%)\n",
        "    )\n",
        "    def __init__(self):\n",
        "        # RSI 지표 정의\n",
        "        self.rsi = bt.indicators.RSI_SMA(self.data.close, period=self.params.rsi_period)\n",
        "        # 매수 신호 추적 변수\n",
        "        self.order = None\n",
        "        # 매수 가격 저장\n",
        "        self.buy_price = None\n",
        "\n",
        "    def next(self):\n",
        "        if self.order:  # 만약 주문이 있으면 대기\n",
        "            return\n",
        "        # 포지션이 없을 때(시장 미진입 상태)\n",
        "        if not self.position:\n",
        "            # RSI < 30이면 매수 진입 시도\n",
        "            if self.rsi[-1] <= self.params.rsi_low < self.rsi[0]:  # RSI가 rsi_low보다 낮은지 확인하고 매수\n",
        "                order_size = math.floor(self.broker.get_value() / self.datas[0].close * 0.99)\n",
        "                self.buy(size=order_size)\n",
        "                self.buy_price = self.data.close[0]\n",
        "\n",
        "        # 포지션이 있을 때(시장 진입 상태)\n",
        "        else:\n",
        "            # RSI가 rsi_high보다 높거나 매수가 대비 10% 하락하면 매도\n",
        "            stop_loss_price = self.buy_price * (1 - self.params.stop_loss) # 손절가 계산\n",
        "            if self.rsi[-1] >= self.p.rsi_high > self.rsi[0] or self.data.close[0] < stop_loss_price:\n",
        "                self.close()\n",
        "                self.buy_price = None # 매도 후 매수 가격 초기화\n",
        "\n",
        "    def log(self, message):\n",
        "        print(message)\n",
        "\n",
        "    def notify_order(self, order):\n",
        "        if order.status in [order.Submitted, order.Accepted]:\n",
        "            # Buy/Sell order submitted/accepted to/by broker - Nothing to do\n",
        "            return\n",
        "\n",
        "        # Check if an order has been completed\n",
        "        # Attention: broker could reject order if not enough cash\n",
        "        cur_date = None\n",
        "        if order.status in [order.Completed]:\n",
        "            cur_date = order.data.datetime.date(0)\n",
        "            if order.isbuy():\n",
        "                self.log(\n",
        "                    f'{cur_date} [매수 주문 실행] 종목: {order.data._name} \\t 수량: {order.size} \\t 가격: {order.executed.price:.2f}')\n",
        "            elif order.issell():\n",
        "                self.log(\n",
        "                    f'{cur_date} [매도 주문 실행] 종목: {order.data._name} \\t 수량: {order.size} \\t 가격: {order.executed.price:.2f}')\n",
        "            self.bar_executed = len(self)\n",
        "\n",
        "        elif order.status in [order.Canceled, order.Margin, order.Rejected]:\n",
        "            self.log(\n",
        "                f'{cur_date} 주문이 거부되었습니다. 종목: {order.data._name} \\t 수량: {order.size} \\t 가격: {order.executed.price:.2f}')\n"
      ],
      "metadata": {
        "id": "ckhDY8q_DupA"
      },
      "execution_count": 5,
      "outputs": []
    },
    {
      "cell_type": "code",
      "source": [
        "if __name__ == '__main__':\n",
        "\n",
        "    cerebro = bt.Cerebro()\n",
        "    cerebro.addstrategy(RSIStopLoss)\n",
        "    cerebro.broker.setcommission(commission=0.003) # 수수료 0.3%\n",
        "    cerebro.broker.setcash(10_000_000)\n",
        "\n",
        "    print('Starting Portfolio Value: %.2f' % cerebro.broker.getvalue())\n",
        "    data = yf.download('BTC-USD', start='2020-01-01', end='2024-12-17')\n",
        "    # 열 이름 전처리\n",
        "    data.columns = [col[0] if isinstance(col, tuple) else col for col in data.columns]\n",
        "    data_bt = bt.feeds.PandasData(dataname=data)\n",
        "    cerebro.adddata(data_bt)\n",
        "    cerebro.run()\n",
        "    print('Final Portfolio Value: %.2f' % cerebro.broker.getvalue())\n",
        "    print(f'수익률: {cerebro.broker.getvalue() / 10_000_000 * 100:.2f}%')\n"
      ],
      "metadata": {
        "colab": {
          "base_uri": "https://localhost:8080/"
        },
        "id": "AmlN4CGdF2OO",
        "outputId": "a8ffc6b3-9807-4343-de99-0971acb273e5"
      },
      "execution_count": 6,
      "outputs": [
        {
          "output_type": "stream",
          "name": "stdout",
          "text": [
            "Starting Portfolio Value: 10000000.00"
          ]
        },
        {
          "output_type": "stream",
          "name": "stderr",
          "text": [
            "\r[*********************100%***********************]  1 of 1 completed"
          ]
        },
        {
          "output_type": "stream",
          "name": "stdout",
          "text": [
            "\n"
          ]
        },
        {
          "output_type": "stream",
          "name": "stderr",
          "text": [
            "\n"
          ]
        },
        {
          "output_type": "stream",
          "name": "stdout",
          "text": [
            "2020-03-03 [매수 주문 실행] 종목:  \t 수량: 1116 \t 가격: 8865.39\n",
            "2020-03-10 [매도 주문 실행] 종목:  \t 수량: -1116 \t 가격: 7922.15\n",
            "2020-03-23 [매수 주문 실행] 종목:  \t 수량: 1509 \t 가격: 5831.37\n",
            "2020-03-28 [매도 주문 실행] 종목:  \t 수량: -1509 \t 가격: 6467.25\n",
            "2020-09-05 [매수 주문 실행] 종목:  \t 수량: 922 \t 가격: 10512.53\n",
            "2020-09-21 [매도 주문 실행] 종목:  \t 수량: -922 \t 가격: 10934.93\n",
            "2021-04-27 [매수 주문 실행] 종목:  \t 수량: 185 \t 가격: 54030.30\n",
            "2021-05-16 [매도 주문 실행] 종목:  \t 수량: -185 \t 가격: 46716.64\n",
            "2021-05-19 [매수 주문 실행] 종목:  \t 수량: 201 \t 가격: 42944.98\n",
            "2021-05-20 [매도 주문 실행] 종목:  \t 수량: -201 \t 가격: 36753.67\n",
            "2021-05-27 [매수 주문 실행] 종목:  \t 수량: 187 \t 가격: 39316.89\n",
            "2021-05-30 [매도 주문 실행] 종목:  \t 수량: -187 \t 가격: 34607.41\n",
            "2021-05-31 [매수 주문 실행] 종목:  \t 수량: 180 \t 가격: 35658.59\n",
            "2021-06-22 [매도 주문 실행] 종목:  \t 수량: -180 \t 가격: 31622.38\n",
            "2021-07-22 [매수 주문 실행] 종목:  \t 수량: 176 \t 가격: 32138.87\n",
            "2021-08-11 [매도 주문 실행] 종목:  \t 수량: -176 \t 가격: 45599.70\n",
            "2021-09-22 [매수 주문 실행] 종목:  \t 수량: 196 \t 가격: 40677.95\n",
            "2021-10-23 [매도 주문 실행] 종목:  \t 수량: -196 \t 가격: 60694.63\n",
            "None 주문이 거부되었습니다. 종목:  \t 수량: 206 \t 가격: 0.00\n",
            "2021-11-28 [매수 주문 실행] 종목:  \t 수량: 215 \t 가격: 54813.02\n",
            "2021-12-05 [매도 주문 실행] 종목:  \t 수량: -215 \t 가격: 49201.52\n",
            "2021-12-07 [매수 주문 실행] 종목:  \t 수량: 208 \t 가격: 50581.83\n",
            "2022-01-06 [매도 주문 실행] 종목:  \t 수량: -208 \t 가격: 43565.51\n",
            "2022-01-13 [매수 주문 실행] 종목:  \t 수량: 205 \t 가격: 43946.74\n",
            "2022-01-22 [매도 주문 실행] 종목:  \t 수량: -205 \t 가격: 36471.59\n",
            "2022-01-25 [매수 주문 실행] 종목:  \t 수량: 204 \t 가격: 36654.80\n",
            "2022-02-12 [매도 주문 실행] 종목:  \t 수량: -204 \t 가격: 42412.30\n",
            "2022-02-25 [매수 주문 실행] 종목:  \t 수량: 224 \t 가격: 38333.75\n",
            "2022-04-03 [매도 주문 실행] 종목:  \t 수량: -224 \t 가격: 45859.13\n",
            "2022-04-20 [매수 주문 실행] 종목:  \t 수량: 245 \t 가격: 41501.75\n",
            "2022-05-06 [매도 주문 실행] 종목:  \t 수량: -245 \t 가격: 36573.18\n",
            "2022-05-18 [매수 주문 실행] 종목:  \t 수량: 294 \t 가격: 30424.48\n",
            "2022-06-13 [매도 주문 실행] 종목:  \t 수량: -294 \t 가격: 26737.58\n",
            "2022-06-28 [매수 주문 실행] 종목:  \t 수량: 377 \t 가격: 20731.54\n",
            "2022-08-10 [매도 주문 실행] 종목:  \t 수량: -377 \t 가격: 23162.90\n",
            "2022-09-03 [매수 주문 실행] 종목:  \t 수량: 435 \t 가격: 19969.72\n",
            "2022-10-28 [매도 주문 실행] 종목:  \t 수량: -435 \t 가격: 20287.96\n",
            "2022-11-11 [매수 주문 실행] 종목:  \t 수량: 499 \t 가격: 17583.25\n",
            "2022-11-22 [매도 주문 실행] 종목:  \t 수량: -499 \t 가격: 15782.30\n",
            "2022-11-23 [매수 주문 실행] 종목:  \t 수량: 484 \t 가격: 16195.59\n",
            "2022-12-15 [매도 주문 실행] 종목:  \t 수량: -484 \t 가격: 17813.64\n",
            "2022-12-30 [매수 주문 실행] 종목:  \t 수량: 514 \t 가격: 16641.33\n",
            "2023-01-31 [매도 주문 실행] 종목:  \t 수량: -514 \t 가격: 22840.80\n",
            "2023-03-06 [매수 주문 실행] 종목:  \t 수량: 519 \t 가격: 22436.82\n",
            "2023-03-11 [매도 주문 실행] 종목:  \t 수량: -519 \t 가격: 20187.88\n",
            "2023-03-13 [매수 주문 실행] 종목:  \t 수량: 470 \t 가격: 22156.41\n",
            "2023-03-28 [매도 주문 실행] 종목:  \t 수량: -470 \t 가격: 27132.89\n",
            "2023-05-16 [매수 주문 실행] 종목:  \t 수량: 466 \t 가격: 27171.51\n",
            "2023-07-06 [매도 주문 실행] 종목:  \t 수량: -466 \t 가격: 30507.15\n",
            "2023-07-29 [매수 주문 실행] 종목:  \t 수량: 482 \t 가격: 29319.45\n",
            "2023-08-19 [매도 주문 실행] 종목:  \t 수량: -482 \t 가격: 26047.83\n",
            "2023-08-30 [매수 주문 실행] 종목:  \t 수량: 450 \t 가격: 27726.08\n",
            "2023-10-10 [매도 주문 실행] 종목:  \t 수량: -450 \t 가격: 27589.20\n",
            "2024-01-27 [매수 주문 실행] 종목:  \t 수량: 295 \t 가격: 41815.62\n",
            "2024-02-26 [매도 주문 실행] 종목:  \t 수량: -295 \t 가격: 51730.54\n",
            "2024-07-01 [매수 주문 실행] 종목:  \t 수량: 242 \t 가격: 62673.61\n",
            "2024-07-08 [매도 주문 실행] 종목:  \t 수량: -242 \t 가격: 55849.57\n",
            "2024-08-09 [매수 주문 실행] 종목:  \t 수량: 218 \t 가격: 61728.21\n",
            "2024-09-07 [매도 주문 실행] 종목:  \t 수량: -218 \t 가격: 53949.09\n",
            "2024-09-10 [매수 주문 실행] 종목:  \t 수량: 205 \t 가격: 57020.10\n",
            "2024-10-01 [매도 주문 실행] 종목:  \t 수량: -205 \t 가격: 63335.61\n",
            "2024-10-12 [매수 주문 실행] 종목:  \t 수량: 206 \t 가격: 62444.62\n",
            "2024-10-22 [매도 주문 실행] 종목:  \t 수량: -206 \t 가격: 67360.70\n",
            "Final Portfolio Value: 13979188.85\n",
            "수익률: 139.79%\n"
          ]
        }
      ]
    },
    {
      "cell_type": "markdown",
      "source": [
        "스탑로스10% + 윌리엄스 리스크고정"
      ],
      "metadata": {
        "id": "pqjf7aSI4Rhl"
      }
    },
    {
      "cell_type": "code",
      "source": [
        "import math\n",
        "import backtrader as bt\n",
        "\n",
        "class RSIStopLossRiskFixed(bt.Strategy):\n",
        "    params = dict(\n",
        "        rsi_period=14,     # RSI 기간 설정\n",
        "        rsi_low=30,        # RSI 진입(low) 임계값\n",
        "        rsi_high=70,       # RSI 청산(high) 임계값\n",
        "        stop_loss=0.1,     # 손절 비율 (10%)\n",
        "        risk_percent=0.03, # 계좌 가치 대비 리스크 비율 (3%)\n",
        "    )\n",
        "\n",
        "    def __init__(self):\n",
        "        # RSI 지표 정의\n",
        "        self.rsi = bt.indicators.RSI_SMA(self.data.close, period=self.params.rsi_period)\n",
        "        # 주문 상태 추적 변수\n",
        "        self.order = None\n",
        "        # 매수 가격 저장\n",
        "        self.buy_price = None\n",
        "\n",
        "    def next(self):\n",
        "        if self.order:  # 미체결 주문이 있으면 대기\n",
        "            return\n",
        "\n",
        "        # 포지션이 없을 때 (시장 미진입 상태)\n",
        "        if not self.position:\n",
        "            # RSI가 이전에 rsi_low 이하였다가 현재 rsi가 rsi_low 이상으로 상승하는 경우 진입\n",
        "            if self.rsi[-1] <= self.params.rsi_low < self.rsi[0]:\n",
        "                self.buy_price = self.data.close[0]\n",
        "                # 리스크 금액: 계좌 가치의 risk_percent\n",
        "                risk_amount = self.broker.get_value() * self.params.risk_percent\n",
        "                # 손절가: 매수가의 stop_loss 비율 만큼 하락한 가격\n",
        "                stop_loss_price = self.buy_price * (1 - self.params.stop_loss)\n",
        "                # 포지션 사이즈 계산: 리스크 금액 / (매수가 - 손절가)\n",
        "                position_size = risk_amount / (self.buy_price - stop_loss_price)\n",
        "                position_size = int(position_size)\n",
        "\n",
        "                if position_size <= 0:\n",
        "                    return\n",
        "\n",
        "                self.buy(size=position_size)\n",
        "        # 포지션이 있을 때 (시장 진입 상태)\n",
        "        else:\n",
        "            # 손절가 재계산\n",
        "            stop_loss_price = self.buy_price * (1 - self.params.stop_loss)\n",
        "            # RSI가 rsi_high 이상으로 하락 반전하거나, 현재 가격이 손절가 아래로 내려가면 청산\n",
        "            if self.rsi[-1] >= self.params.rsi_high > self.rsi[0] or self.data.close[0] < stop_loss_price:\n",
        "                self.close()\n",
        "                self.buy_price = None  # 청산 후 매수 가격 초기화\n",
        "\n",
        "    def log(self, message):\n",
        "        print(message)\n",
        "\n",
        "    def notify_order(self, order):\n",
        "        if order.status in [order.Submitted, order.Accepted]:\n",
        "            return\n",
        "\n",
        "        cur_date = None\n",
        "        if order.status in [order.Completed]:\n",
        "            cur_date = order.data.datetime.date(0)\n",
        "            if order.isbuy():\n",
        "                self.log(\n",
        "                    f'{cur_date} [매수 주문 실행] 종목: {order.data._name} \\t 수량: {order.size} \\t 가격: {order.executed.price:.2f}'\n",
        "                )\n",
        "            elif order.issell():\n",
        "                self.log(\n",
        "                    f'{cur_date} [매도 주문 실행] 종목: {order.data._name} \\t 수량: {order.size} \\t 가격: {order.executed.price:.2f}'\n",
        "                )\n",
        "            self.bar_executed = len(self)\n",
        "        elif order.status in [order.Canceled, order.Margin, order.Rejected]:\n",
        "            self.log(\n",
        "                f'{cur_date} 주문이 거부되었습니다. 종목: {order.data._name} \\t 수량: {order.size} \\t 가격: {order.executed.price:.2f}'\n",
        "            )\n"
      ],
      "metadata": {
        "id": "GmZ1GqezGUrm"
      },
      "execution_count": 7,
      "outputs": []
    },
    {
      "cell_type": "code",
      "source": [
        "if __name__ == '__main__':\n",
        "\n",
        "    cerebro = bt.Cerebro()\n",
        "    cerebro.addstrategy(RSIStopLossRiskFixed)\n",
        "    cerebro.broker.setcommission(commission=0.003) # 수수료 0.3%\n",
        "    cerebro.broker.setcash(10_000_000)\n",
        "\n",
        "    print('Starting Portfolio Value: %.2f' % cerebro.broker.getvalue())\n",
        "    data = yf.download('BTC-USD', start='2020-01-01', end='2024-12-17')\n",
        "    # 열 이름 전처리\n",
        "    data.columns = [col[0] if isinstance(col, tuple) else col for col in data.columns]\n",
        "    data_bt = bt.feeds.PandasData(dataname=data)\n",
        "    cerebro.adddata(data_bt)\n",
        "    cerebro.run()\n",
        "    print('Final Portfolio Value: %.2f' % cerebro.broker.getvalue())\n",
        "    print(f'수익률: {cerebro.broker.getvalue() / 10_000_000 * 100:.2f}%')\n"
      ],
      "metadata": {
        "colab": {
          "base_uri": "https://localhost:8080/"
        },
        "id": "7YL4hntAeKxU",
        "outputId": "e42d79d7-c001-4560-f9b6-d08e14d9141f"
      },
      "execution_count": 8,
      "outputs": [
        {
          "output_type": "stream",
          "name": "stderr",
          "text": [
            "\r[*********************100%***********************]  1 of 1 completed"
          ]
        },
        {
          "output_type": "stream",
          "name": "stdout",
          "text": [
            "Starting Portfolio Value: 10000000.00\n"
          ]
        },
        {
          "output_type": "stream",
          "name": "stderr",
          "text": [
            "\n"
          ]
        },
        {
          "output_type": "stream",
          "name": "stdout",
          "text": [
            "2020-03-03 [매수 주문 실행] 종목:  \t 수량: 338 \t 가격: 8865.39\n",
            "2020-03-10 [매도 주문 실행] 종목:  \t 수량: -338 \t 가격: 7922.15\n",
            "2020-03-23 [매수 주문 실행] 종목:  \t 수량: 497 \t 가격: 5831.37\n",
            "2020-03-28 [매도 주문 실행] 종목:  \t 수량: -497 \t 가격: 6467.25\n",
            "2020-09-05 [매수 주문 실행] 종목:  \t 수량: 284 \t 가격: 10512.53\n",
            "2020-09-21 [매도 주문 실행] 종목:  \t 수량: -284 \t 가격: 10934.93\n",
            "2021-04-27 [매수 주문 실행] 종목:  \t 수량: 55 \t 가격: 54030.30\n",
            "2021-05-16 [매도 주문 실행] 종목:  \t 수량: -55 \t 가격: 46716.64\n",
            "2021-05-19 [매수 주문 실행] 종목:  \t 수량: 67 \t 가격: 42944.98\n",
            "2021-05-20 [매도 주문 실행] 종목:  \t 수량: -67 \t 가격: 36753.67\n",
            "2021-05-27 [매수 주문 실행] 종목:  \t 수량: 70 \t 가격: 39316.89\n",
            "2021-05-30 [매도 주문 실행] 종목:  \t 수량: -70 \t 가격: 34607.41\n",
            "2021-05-31 [매수 주문 실행] 종목:  \t 수량: 74 \t 가격: 35658.59\n",
            "2021-06-22 [매도 주문 실행] 종목:  \t 수량: -74 \t 가격: 31622.38\n",
            "2021-07-22 [매수 주문 실행] 종목:  \t 수량: 79 \t 가격: 32138.87\n",
            "2021-08-11 [매도 주문 실행] 종목:  \t 수량: -79 \t 가격: 45599.70\n",
            "2021-09-22 [매수 주문 실행] 종목:  \t 수량: 70 \t 가격: 40677.95\n",
            "2021-10-23 [매도 주문 실행] 종목:  \t 수량: -70 \t 가격: 60694.63\n",
            "2021-11-26 [매수 주문 실행] 종목:  \t 수량: 57 \t 가격: 58960.29\n",
            "2021-12-05 [매도 주문 실행] 종목:  \t 수량: -57 \t 가격: 49201.52\n",
            "2021-12-07 [매수 주문 실행] 종목:  \t 수량: 61 \t 가격: 50581.83\n",
            "2022-01-06 [매도 주문 실행] 종목:  \t 수량: -61 \t 가격: 43565.51\n",
            "2022-01-13 [매수 주문 실행] 종목:  \t 수량: 67 \t 가격: 43946.74\n",
            "2022-01-22 [매도 주문 실행] 종목:  \t 수량: -67 \t 가격: 36471.59\n",
            "2022-01-25 [매수 주문 실행] 종목:  \t 수량: 77 \t 가격: 36654.80\n",
            "2022-02-12 [매도 주문 실행] 종목:  \t 수량: -77 \t 가격: 42412.30\n",
            "2022-02-25 [매수 주문 실행] 종목:  \t 수량: 77 \t 가격: 38333.75\n",
            "2022-04-03 [매도 주문 실행] 종목:  \t 수량: -77 \t 가격: 45859.13\n",
            "2022-04-20 [매수 주문 실행] 종목:  \t 수량: 75 \t 가격: 41501.75\n",
            "2022-05-06 [매도 주문 실행] 종목:  \t 수량: -75 \t 가격: 36573.18\n",
            "2022-05-18 [매수 주문 실행] 종목:  \t 수량: 99 \t 가격: 30424.48\n",
            "2022-06-13 [매도 주문 실행] 종목:  \t 수량: -99 \t 가격: 26737.58\n",
            "2022-06-28 [매수 주문 실행] 종목:  \t 수량: 139 \t 가격: 20731.54\n",
            "2022-08-10 [매도 주문 실행] 종목:  \t 수량: -139 \t 가격: 23162.90\n",
            "2022-09-03 [매수 주문 실행] 종목:  \t 수량: 149 \t 가격: 19969.72\n",
            "2022-10-28 [매도 주문 실행] 종목:  \t 수량: -149 \t 가격: 20287.96\n",
            "2022-11-11 [매수 주문 실행] 종목:  \t 수량: 170 \t 가격: 17583.25\n",
            "2022-11-22 [매도 주문 실행] 종목:  \t 수량: -170 \t 가격: 15782.30\n",
            "2022-11-23 [매수 주문 실행] 종목:  \t 수량: 179 \t 가격: 16195.59\n",
            "2022-12-15 [매도 주문 실행] 종목:  \t 수량: -179 \t 가격: 17813.64\n",
            "2022-12-30 [매수 주문 실행] 종목:  \t 수량: 179 \t 가격: 16641.33\n",
            "2023-01-31 [매도 주문 실행] 종목:  \t 수량: -179 \t 가격: 22840.80\n",
            "2023-03-06 [매수 주문 실행] 종목:  \t 수량: 147 \t 가격: 22436.82\n",
            "2023-03-11 [매도 주문 실행] 종목:  \t 수량: -147 \t 가격: 20187.88\n",
            "2023-03-13 [매수 주문 실행] 종목:  \t 수량: 144 \t 가격: 22156.41\n",
            "2023-03-28 [매도 주문 실행] 종목:  \t 수량: -144 \t 가격: 27132.89\n",
            "2023-05-16 [매수 주문 실행] 종목:  \t 수량: 125 \t 가격: 27171.51\n",
            "2023-07-06 [매도 주문 실행] 종목:  \t 수량: -125 \t 가격: 30507.15\n",
            "2023-07-29 [매수 주문 실행] 종목:  \t 수량: 120 \t 가격: 29319.45\n",
            "2023-08-19 [매도 주문 실행] 종목:  \t 수량: -120 \t 가격: 26047.83\n",
            "2023-08-30 [매수 주문 실행] 종목:  \t 수량: 123 \t 가격: 27726.08\n",
            "2023-10-10 [매도 주문 실행] 종목:  \t 수량: -123 \t 가격: 27589.20\n",
            "2024-01-27 [매수 주문 실행] 종목:  \t 수량: 81 \t 가격: 41815.62\n",
            "2024-02-26 [매도 주문 실행] 종목:  \t 수량: -81 \t 가격: 51730.54\n",
            "2024-07-01 [매수 주문 실행] 종목:  \t 수량: 57 \t 가격: 62673.61\n",
            "2024-07-08 [매도 주문 실행] 종목:  \t 수량: -57 \t 가격: 55849.57\n",
            "2024-08-09 [매수 주문 실행] 종목:  \t 수량: 56 \t 가격: 61728.21\n",
            "2024-09-07 [매도 주문 실행] 종목:  \t 수량: -56 \t 가격: 53949.09\n",
            "2024-09-10 [매수 주문 실행] 종목:  \t 수량: 59 \t 가격: 57020.10\n",
            "2024-10-01 [매도 주문 실행] 종목:  \t 수량: -59 \t 가격: 63335.61\n",
            "2024-10-12 [매수 주문 실행] 종목:  \t 수량: 55 \t 가격: 62444.62\n",
            "2024-10-22 [매도 주문 실행] 종목:  \t 수량: -55 \t 가격: 67360.70\n",
            "Final Portfolio Value: 11852402.12\n",
            "수익률: 118.52%\n"
          ]
        }
      ]
    }
  ]
}