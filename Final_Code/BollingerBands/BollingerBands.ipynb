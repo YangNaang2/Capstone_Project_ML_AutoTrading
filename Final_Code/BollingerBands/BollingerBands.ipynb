{
  "nbformat": 4,
  "nbformat_minor": 0,
  "metadata": {
    "colab": {
      "provenance": []
    },
    "kernelspec": {
      "name": "python3",
      "display_name": "Python 3"
    },
    "language_info": {
      "name": "python"
    }
  },
  "cells": [
    {
      "cell_type": "code",
      "source": [
        "!pip install backtrader\n",
        "!pip install yfinance"
      ],
      "metadata": {
        "colab": {
          "base_uri": "https://localhost:8080/"
        },
        "id": "1U7dexWs_ifQ",
        "outputId": "0995171a-3957-449b-e8e9-c318e3c88e31",
        "collapsed": true
      },
      "execution_count": 1,
      "outputs": [
        {
          "output_type": "stream",
          "name": "stdout",
          "text": [
            "Collecting backtrader\n",
            "  Downloading backtrader-1.9.78.123-py2.py3-none-any.whl.metadata (6.8 kB)\n",
            "Downloading backtrader-1.9.78.123-py2.py3-none-any.whl (419 kB)\n",
            "\u001b[2K   \u001b[90m━━━━━━━━━━━━━━━━━━━━━━━━━━━━━━━━━━━━━━━━\u001b[0m \u001b[32m419.5/419.5 kB\u001b[0m \u001b[31m4.7 MB/s\u001b[0m eta \u001b[36m0:00:00\u001b[0m\n",
            "\u001b[?25hInstalling collected packages: backtrader\n",
            "Successfully installed backtrader-1.9.78.123\n",
            "Requirement already satisfied: yfinance in /usr/local/lib/python3.11/dist-packages (0.2.55)\n",
            "Requirement already satisfied: pandas>=1.3.0 in /usr/local/lib/python3.11/dist-packages (from yfinance) (2.2.2)\n",
            "Requirement already satisfied: numpy>=1.16.5 in /usr/local/lib/python3.11/dist-packages (from yfinance) (2.0.2)\n",
            "Requirement already satisfied: requests>=2.31 in /usr/local/lib/python3.11/dist-packages (from yfinance) (2.32.3)\n",
            "Requirement already satisfied: multitasking>=0.0.7 in /usr/local/lib/python3.11/dist-packages (from yfinance) (0.0.11)\n",
            "Requirement already satisfied: platformdirs>=2.0.0 in /usr/local/lib/python3.11/dist-packages (from yfinance) (4.3.7)\n",
            "Requirement already satisfied: pytz>=2022.5 in /usr/local/lib/python3.11/dist-packages (from yfinance) (2025.1)\n",
            "Requirement already satisfied: frozendict>=2.3.4 in /usr/local/lib/python3.11/dist-packages (from yfinance) (2.4.6)\n",
            "Requirement already satisfied: peewee>=3.16.2 in /usr/local/lib/python3.11/dist-packages (from yfinance) (3.17.9)\n",
            "Requirement already satisfied: beautifulsoup4>=4.11.1 in /usr/local/lib/python3.11/dist-packages (from yfinance) (4.13.3)\n",
            "Requirement already satisfied: soupsieve>1.2 in /usr/local/lib/python3.11/dist-packages (from beautifulsoup4>=4.11.1->yfinance) (2.6)\n",
            "Requirement already satisfied: typing-extensions>=4.0.0 in /usr/local/lib/python3.11/dist-packages (from beautifulsoup4>=4.11.1->yfinance) (4.12.2)\n",
            "Requirement already satisfied: python-dateutil>=2.8.2 in /usr/local/lib/python3.11/dist-packages (from pandas>=1.3.0->yfinance) (2.8.2)\n",
            "Requirement already satisfied: tzdata>=2022.7 in /usr/local/lib/python3.11/dist-packages (from pandas>=1.3.0->yfinance) (2025.1)\n",
            "Requirement already satisfied: charset-normalizer<4,>=2 in /usr/local/lib/python3.11/dist-packages (from requests>=2.31->yfinance) (3.4.1)\n",
            "Requirement already satisfied: idna<4,>=2.5 in /usr/local/lib/python3.11/dist-packages (from requests>=2.31->yfinance) (3.10)\n",
            "Requirement already satisfied: urllib3<3,>=1.21.1 in /usr/local/lib/python3.11/dist-packages (from requests>=2.31->yfinance) (2.3.0)\n",
            "Requirement already satisfied: certifi>=2017.4.17 in /usr/local/lib/python3.11/dist-packages (from requests>=2.31->yfinance) (2025.1.31)\n",
            "Requirement already satisfied: six>=1.5 in /usr/local/lib/python3.11/dist-packages (from python-dateutil>=2.8.2->pandas>=1.3.0->yfinance) (1.17.0)\n"
          ]
        }
      ]
    },
    {
      "cell_type": "code",
      "execution_count": 2,
      "metadata": {
        "id": "S28vRmMY7_Qu"
      },
      "outputs": [],
      "source": [
        "import backtrader as bt\n",
        "import math\n",
        "import yfinance as yf"
      ]
    },
    {
      "cell_type": "markdown",
      "source": [
        "추세전략"
      ],
      "metadata": {
        "id": "Nsbo0UsTWcQB"
      }
    },
    {
      "cell_type": "code",
      "source": [
        "class BollingerBands(bt.Strategy):\n",
        "  params = dict(\n",
        "      bb_period=20, # 볼린저 밴드 기간\n",
        "      bb_devfactor=1, # 볼린저 밴드 표준편차\n",
        "      ma_period=50 # 이동평균선 기간\n",
        "  )\n",
        "\n",
        "  def __init__(self):\n",
        "    # 볼린저밴드\n",
        "    self.bb = bt.indicators.BollingerBands(self.data.close, period=self.params.bb_period, devfactor=self.params.bb_devfactor)\n",
        "    # 이동평균선\n",
        "    self.ma = bt.indicators.MovingAverageSimple(self.data.close, period=self.params.ma_period)\n",
        "    # 매수 신호 추적 변수\n",
        "    self.order = None\n",
        "\n",
        "  def next(self):\n",
        "    if self.order:  # 만약 주문이 있으면 대기\n",
        "      return\n",
        "    # 포지션이 없을 때(시장 미진입 상태)\n",
        "    if not self.position:\n",
        "      # 매수 : 종가가 볼린저 밴드 상단선을 돌파\n",
        "      if self.data.close[0] > self.bb.lines.top[0] and self.data.close[-1] <= self.bb.lines.top[-1]:\n",
        "        order_size = math.floor(self.broker.get_value() / self.datas[0].close * 0.99)\n",
        "        self.buy(size=order_size)\n",
        "\n",
        "    # 포지션이 있을 때(시장 진입 상태)\n",
        "    else:\n",
        "      # 종가가 이평선 하향 돌파 -> 청산\n",
        "      if self.data.close[0] < self.ma[0] and self.data.close[-1] >= self.ma[-1]:\n",
        "        self.close()\n",
        "\n",
        "\n",
        "  def log(self, message):\n",
        "    print(message)\n",
        "\n",
        "  def notify_order(self, order):\n",
        "    if order.status in [order.Submitted, order.Accepted]:\n",
        "      # Buy/Sell order submitted/accepted to/by broker - Nothing to do\n",
        "      return\n",
        "\n",
        "    # Check if an order has been completed\n",
        "    # Attention: broker could reject order if not enough cash\n",
        "    cur_date = None\n",
        "    if order.status in [order.Completed]:\n",
        "      cur_date = order.data.datetime.date(0)\n",
        "      if order.isbuy():\n",
        "        self.log(\n",
        "            f'{cur_date} [매수 주문 실행] 종목: {order.data._name} \\t 수량: {order.size} \\t 가격: {order.executed.price:.2f}')\n",
        "      elif order.issell():\n",
        "        self.log(\n",
        "            f'{cur_date} [매도 주문 실행] 종목: {order.data._name} \\t 수량: {order.size} \\t 가격: {order.executed.price:.2f}')\n",
        "      self.bar_executed = len(self)\n",
        "\n",
        "    elif order.status in [order.Canceled, order.Margin, order.Rejected]:\n",
        "      self.log(\n",
        "          f'{cur_date} 주문이 거부되었습니다. 종목: {order.data._name} \\t 수량: {order.size} \\t 가격: {order.executed.price:.2f}')"
      ],
      "metadata": {
        "id": "8ngvHquB_Zm8"
      },
      "execution_count": 9,
      "outputs": []
    },
    {
      "cell_type": "code",
      "source": [
        "if __name__ == '__main__':\n",
        "\n",
        "  cerebro = bt.Cerebro()\n",
        "  cerebro.addstrategy(BollingerBands)\n",
        "  cerebro.broker.setcommission(commission=0.003) # 수수료 0.3%\n",
        "  cerebro.broker.setcash(10_000_000)\n",
        "\n",
        "  print('Starting Portfolio Value: %.2f' % cerebro.broker.getvalue())\n",
        "  data = yf.download('BTC-USD', start='2020-01-01', end='2024-12-17')\n",
        "  # 열 이름 전처리\n",
        "  data.columns = [col[0] if isinstance(col, tuple) else col for col in data.columns]\n",
        "  data_bt = bt.feeds.PandasData(dataname=data)\n",
        "  cerebro.adddata(data_bt)\n",
        "  cerebro.run()\n",
        "  print('Final Portfolio Value: %.2f' % cerebro.broker.getvalue())\n",
        "  print(f'수익률: {cerebro.broker.getvalue() / 10_000_000 * 100:.2f}%')\n"
      ],
      "metadata": {
        "colab": {
          "base_uri": "https://localhost:8080/"
        },
        "collapsed": true,
        "id": "FI7kjTypBZUi",
        "outputId": "7e440b31-8518-4edb-e390-76e06d00f291"
      },
      "execution_count": 10,
      "outputs": [
        {
          "output_type": "stream",
          "name": "stderr",
          "text": [
            "\r[*********************100%***********************]  1 of 1 completed"
          ]
        },
        {
          "output_type": "stream",
          "name": "stdout",
          "text": [
            "Starting Portfolio Value: 10000000.00\n"
          ]
        },
        {
          "output_type": "stream",
          "name": "stderr",
          "text": [
            "\n"
          ]
        },
        {
          "output_type": "stream",
          "name": "stdout",
          "text": [
            "2020-04-02 [매수 주문 실행] 종목:  \t 수량: 1498 \t 가격: 6606.78\n",
            "2020-06-20 [매도 주문 실행] 종목:  \t 수량: -1498 \t 가격: 9290.96\n",
            "2020-07-09 [매수 주문 실행] 종목:  \t 수량: 1464 \t 가격: 9427.99\n",
            "2020-07-10 [매도 주문 실행] 종목:  \t 수량: -1464 \t 가격: 9273.36\n",
            "2020-07-22 [매수 주문 실행] 종목:  \t 수량: 1440 \t 가격: 9375.08\n",
            "2020-09-04 [매도 주문 실행] 종목:  \t 수량: -1440 \t 가격: 10230.37\n",
            "2020-10-09 [매수 주문 실행] 종목:  \t 수량: 1341 \t 가격: 10927.91\n",
            "2021-04-19 [매도 주문 실행] 종목:  \t 수량: -1341 \t 가격: 56191.59\n",
            "2021-05-09 [매수 주문 실행] 종목:  \t 수량: 1266 \t 가격: 58877.39\n",
            "2021-05-11 [매도 주문 실행] 종목:  \t 수량: -1266 \t 가격: 55847.24\n",
            "2021-06-14 [매수 주문 실행] 종목:  \t 수량: 1796 \t 가격: 39016.97\n",
            "2021-09-11 [매도 주문 실행] 종목:  \t 수량: -1796 \t 가격: 44869.84\n",
            "2021-10-02 [매수 주문 실행] 종목:  \t 수량: 1666 \t 가격: 48137.47\n",
            "2021-11-19 [매도 주문 실행] 종목:  \t 수량: -1666 \t 가격: 56896.13\n",
            "2021-12-24 [매수 주문 실행] 종목:  \t 수량: 1853 \t 가격: 50806.05\n",
            "2022-02-12 [매도 주문 실행] 종목:  \t 수량: -1853 \t 가격: 42412.30\n",
            "2022-02-16 [매수 주문 실행] 종목:  \t 수량: 1754 \t 가격: 44578.28\n",
            "2022-02-18 [매도 주문 실행] 종목:  \t 수량: -1754 \t 가격: 40552.13\n",
            "2022-03-02 [매수 주문 실행] 종목:  \t 수량: 1595 \t 가격: 44357.62\n",
            "2022-03-05 [매도 주문 실행] 종목:  \t 수량: -1595 \t 가격: 39148.45\n",
            "2022-03-10 [매수 주문 실행] 종목:  \t 수량: 1480 \t 가격: 41974.07\n",
            "2022-03-11 [매도 주문 실행] 종목:  \t 수량: -1480 \t 가격: 39439.97\n",
            "2022-03-23 [매수 주문 실행] 종목:  \t 수량: 1371 \t 가격: 42364.38\n",
            "2022-04-12 [매도 주문 실행] 종목:  \t 수량: -1371 \t 가격: 39533.71\n",
            "2022-05-31 [매수 주문 실행] 종목:  \t 수량: 1699 \t 가격: 31723.87\n",
            "2022-07-24 [매도 주문 실행] 종목:  \t 수량: -1699 \t 가격: 22465.51\n",
            "2022-07-28 [매수 주문 실행] 종목:  \t 수량: 1659 \t 가격: 22933.64\n",
            "2022-08-20 [매도 주문 실행] 종목:  \t 수량: -1659 \t 가격: 20872.84\n",
            "2022-09-10 [매수 주문 실행] 종목:  \t 수량: 1611 \t 가격: 21376.91\n",
            "2022-09-14 [매도 주문 실행] 종목:  \t 수량: -1611 \t 가격: 20184.55\n",
            "2022-10-05 [매수 주문 실행] 종목:  \t 수량: 1591 \t 가격: 20335.90\n",
            "2022-10-06 [매도 주문 실행] 종목:  \t 수량: -1591 \t 가격: 20161.04\n",
            "2022-10-26 [매수 주문 실행] 종목:  \t 수량: 1587 \t 가격: 20092.24\n",
            "2022-11-09 [매도 주문 실행] 종목:  \t 수량: -1587 \t 가격: 18543.76\n",
            "2022-12-01 [매수 주문 실행] 종목:  \t 수량: 1705 \t 가격: 17168.00\n",
            "2023-03-04 [매도 주문 실행] 종목:  \t 수량: -1705 \t 가격: 22362.92\n",
            "2023-03-14 [매수 주문 실행] 종목:  \t 수량: 1564 \t 가격: 24201.77\n",
            "2023-05-02 [매도 주문 실행] 종목:  \t 수량: -1564 \t 가격: 28087.18\n",
            "2023-05-29 [매수 주문 실행] 종목:  \t 수량: 1553 \t 가격: 28075.59\n",
            "2023-07-31 [매도 주문 실행] 종목:  \t 수량: -1553 \t 가격: 29278.31\n",
            "2023-08-09 [매수 주문 실행] 종목:  \t 수량: 1518 \t 가격: 29766.70\n",
            "2023-09-21 [매도 주문 실행] 종목:  \t 수량: -1518 \t 가격: 27129.84\n",
            "2023-09-29 [매수 주문 실행] 종목:  \t 수량: 1516 \t 가격: 27024.84\n",
            "2024-01-15 [매도 주문 실행] 종목:  \t 수량: -1516 \t 가격: 41715.07\n",
            "2024-02-02 [매수 주문 실행] 종목:  \t 수량: 1456 \t 가격: 43077.64\n",
            "2024-02-05 [매도 주문 실행] 종목:  \t 수량: -1456 \t 가격: 42577.62\n",
            "2024-02-07 [매수 주문 실행] 종목:  \t 수량: 1430 \t 가격: 43090.02\n",
            "2024-04-14 [매도 주문 실행] 종목:  \t 수량: -1430 \t 가격: 63836.23\n",
            "2024-05-16 [매수 주문 실행] 종목:  \t 수량: 1366 \t 가격: 66256.11\n",
            "2024-06-15 [매도 주문 실행] 종목:  \t 수량: -1366 \t 가격: 66006.74\n",
            "2024-07-16 [매수 주문 실행] 종목:  \t 수량: 1382 \t 가격: 64784.42\n",
            "2024-08-03 [매도 주문 실행] 종목:  \t 수량: -1382 \t 가격: 61414.81\n",
            "2024-08-22 [매수 주문 실행] 종목:  \t 수량: 1382 \t 가격: 61168.32\n",
            "2024-08-28 [매도 주문 실행] 종목:  \t 수량: -1382 \t 가격: 59507.93\n",
            "2024-09-18 [매수 주문 실행] 종목:  \t 수량: 1356 \t 가격: 60309.00\n",
            "2024-10-10 [매도 주문 실행] 종목:  \t 수량: -1356 \t 가격: 60581.93\n",
            "2024-10-15 [매수 주문 실행] 종목:  \t 수량: 1236 \t 가격: 66050.37\n",
            "Final Portfolio Value: 131653647.53\n",
            "수익률: 1316.54%\n"
          ]
        }
      ]
    },
    {
      "cell_type": "markdown",
      "source": [
        "스탑로스 10% 설정"
      ],
      "metadata": {
        "id": "mq00NjWkWfXc"
      }
    },
    {
      "cell_type": "code",
      "source": [
        "class BollingerBandsStopLoss(bt.Strategy):\n",
        "  params = dict(\n",
        "      bb_period=20, # 볼린저 밴드 기간\n",
        "      bb_devfactor=1, # 볼린저 밴드 표준편차\n",
        "      ma_period=50, # 이동평균선 기간\n",
        "      stop_loss=0.1, # 손절 비율(10%)\n",
        "  )\n",
        "\n",
        "  def __init__(self):\n",
        "    # 볼린저밴드\n",
        "    self.bb = bt.indicators.BollingerBands(self.data.close, period=self.params.bb_period, devfactor=self.params.bb_devfactor)\n",
        "    # 이동평균선\n",
        "    self.ma = bt.indicators.MovingAverageSimple(self.data.close, period=self.params.ma_period)\n",
        "    # 매수 신호 추적 변수\n",
        "    self.order = None\n",
        "    # 매수 가격 저장\n",
        "    self.buy_price = None\n",
        "\n",
        "  def next(self):\n",
        "    if self.order:  # 만약 주문이 있으면 대기\n",
        "      return\n",
        "    # 포지션이 없을 때(시장 미진입 상태)\n",
        "    if not self.position:\n",
        "      # 매수 : 종가가 볼린저 밴드 상단선을 돌파\n",
        "      if self.data.close[0] > self.bb.lines.top[0] and self.data.close[-1] <= self.bb.lines.top[-1]:\n",
        "        order_size = math.floor(self.broker.get_value() / self.datas[0].close * 0.99)\n",
        "        self.buy(size=order_size)\n",
        "        self.buy_price = self.data.close[0]\n",
        "\n",
        "    # 포지션이 있을 때(시장 진입 상태)\n",
        "    else:\n",
        "      # 종가가 이평선 하향 돌파 or 매수가 대비 10% 하락 -> 청산\n",
        "      stop_loss_price = self.buy_price * (1 - self.params.stop_loss) # 손절가 계산\n",
        "      if (self.data.close[0] < stop_loss_price) or (self.data.close[0] < self.ma[0] and self.data.close[-1] >= self.ma[-1]):\n",
        "        self.close()\n",
        "        self.buy_price = None # 매도 후 매수 가격 초기화\n",
        "\n",
        "\n",
        "  def log(self, message):\n",
        "    print(message)\n",
        "\n",
        "  def notify_order(self, order):\n",
        "    if order.status in [order.Submitted, order.Accepted]:\n",
        "      # Buy/Sell order submitted/accepted to/by broker - Nothing to do\n",
        "      return\n",
        "\n",
        "    # Check if an order has been completed\n",
        "    # Attention: broker could reject order if not enough cash\n",
        "    cur_date = None\n",
        "    if order.status in [order.Completed]:\n",
        "      cur_date = order.data.datetime.date(0)\n",
        "      if order.isbuy():\n",
        "        self.log(\n",
        "            f'{cur_date} [매수 주문 실행] 종목: {order.data._name} \\t 수량: {order.size} \\t 가격: {order.executed.price:.2f}')\n",
        "      elif order.issell():\n",
        "        self.log(\n",
        "            f'{cur_date} [매도 주문 실행] 종목: {order.data._name} \\t 수량: {order.size} \\t 가격: {order.executed.price:.2f}')\n",
        "      self.bar_executed = len(self)\n",
        "\n",
        "    elif order.status in [order.Canceled, order.Margin, order.Rejected]:\n",
        "      self.log(\n",
        "          f'{cur_date} 주문이 거부되었습니다. 종목: {order.data._name} \\t 수량: {order.size} \\t 가격: {order.executed.price:.2f}')\n"
      ],
      "metadata": {
        "id": "-k_sKbHijx0V"
      },
      "execution_count": 11,
      "outputs": []
    },
    {
      "cell_type": "code",
      "source": [
        "if __name__ == '__main__':\n",
        "\n",
        "  cerebro = bt.Cerebro()\n",
        "  cerebro.addstrategy(BollingerBandsStopLoss)\n",
        "  cerebro.broker.setcommission(commission=0.003) # 수수료 0.3%\n",
        "  cerebro.broker.setcash(10_000_000)\n",
        "\n",
        "  print('Starting Portfolio Value: %.2f' % cerebro.broker.getvalue())\n",
        "  data = yf.download('BTC-USD', start='2020-01-01', end='2024-12-17')\n",
        "  # 열 이름 전처리\n",
        "  data.columns = [col[0] if isinstance(col, tuple) else col for col in data.columns]\n",
        "  data_bt = bt.feeds.PandasData(dataname=data)\n",
        "  cerebro.adddata(data_bt)\n",
        "  cerebro.run()\n",
        "  print('Final Portfolio Value: %.2f' % cerebro.broker.getvalue())\n",
        "  print(f'수익률: {cerebro.broker.getvalue() / 10_000_000 * 100:.2f}%')"
      ],
      "metadata": {
        "collapsed": true,
        "id": "KZGsbjdsrlTf",
        "colab": {
          "base_uri": "https://localhost:8080/"
        },
        "outputId": "1798c6e3-a303-4c6f-a8f1-e9b1535db1e8"
      },
      "execution_count": 12,
      "outputs": [
        {
          "output_type": "stream",
          "name": "stderr",
          "text": [
            "\r[*********************100%***********************]  1 of 1 completed"
          ]
        },
        {
          "output_type": "stream",
          "name": "stdout",
          "text": [
            "Starting Portfolio Value: 10000000.00\n"
          ]
        },
        {
          "output_type": "stream",
          "name": "stderr",
          "text": [
            "\n"
          ]
        },
        {
          "output_type": "stream",
          "name": "stdout",
          "text": [
            "2020-04-02 [매수 주문 실행] 종목:  \t 수량: 1498 \t 가격: 6606.78\n",
            "2020-06-20 [매도 주문 실행] 종목:  \t 수량: -1498 \t 가격: 9290.96\n",
            "2020-07-09 [매수 주문 실행] 종목:  \t 수량: 1464 \t 가격: 9427.99\n",
            "2020-07-10 [매도 주문 실행] 종목:  \t 수량: -1464 \t 가격: 9273.36\n",
            "2020-07-22 [매수 주문 실행] 종목:  \t 수량: 1440 \t 가격: 9375.08\n",
            "2020-09-04 [매도 주문 실행] 종목:  \t 수량: -1440 \t 가격: 10230.37\n",
            "2020-10-09 [매수 주문 실행] 종목:  \t 수량: 1341 \t 가격: 10927.91\n",
            "2021-04-19 [매도 주문 실행] 종목:  \t 수량: -1341 \t 가격: 56191.59\n",
            "2021-05-09 [매수 주문 실행] 종목:  \t 수량: 1266 \t 가격: 58877.39\n",
            "2021-05-11 [매도 주문 실행] 종목:  \t 수량: -1266 \t 가격: 55847.24\n",
            "2021-06-14 [매수 주문 실행] 종목:  \t 수량: 1796 \t 가격: 39016.97\n",
            "2021-06-22 [매도 주문 실행] 종목:  \t 수량: -1796 \t 가격: 31622.38\n",
            "2021-07-25 [매수 주문 실행] 종목:  \t 수량: 1653 \t 가격: 34290.29\n",
            "2021-09-11 [매도 주문 실행] 종목:  \t 수량: -1653 \t 가격: 44869.84\n",
            "2021-10-02 [매수 주문 실행] 종목:  \t 수량: 1530 \t 가격: 48137.47\n",
            "2021-11-19 [매도 주문 실행] 종목:  \t 수량: -1530 \t 가격: 56896.13\n",
            "2021-12-24 [매수 주문 실행] 종목:  \t 수량: 1701 \t 가격: 50806.05\n",
            "2022-01-06 [매도 주문 실행] 종목:  \t 수량: -1701 \t 가격: 43565.51\n",
            "2022-02-05 [매수 주문 실행] 종목:  \t 수량: 1777 \t 가격: 41501.48\n",
            "2022-02-12 [매도 주문 실행] 종목:  \t 수량: -1777 \t 가격: 42412.30\n",
            "2022-02-16 [매수 주문 실행] 종목:  \t 수량: 1680 \t 가격: 44578.28\n",
            "2022-02-18 [매도 주문 실행] 종목:  \t 수량: -1680 \t 가격: 40552.13\n",
            "2022-03-02 [매수 주문 실행] 종목:  \t 수량: 1528 \t 가격: 44357.62\n",
            "2022-03-05 [매도 주문 실행] 종목:  \t 수량: -1528 \t 가격: 39148.45\n",
            "2022-03-10 [매수 주문 실행] 종목:  \t 수량: 1418 \t 가격: 41974.07\n",
            "2022-03-11 [매도 주문 실행] 종목:  \t 수량: -1418 \t 가격: 39439.97\n",
            "2022-03-23 [매수 주문 실행] 종목:  \t 수량: 1313 \t 가격: 42364.38\n",
            "2022-04-12 [매도 주문 실행] 종목:  \t 수량: -1313 \t 가격: 39533.71\n",
            "2022-05-31 [매수 주문 실행] 종목:  \t 수량: 1627 \t 가격: 31723.87\n",
            "2022-06-12 [매도 주문 실행] 종목:  \t 수량: -1627 \t 가격: 28373.51\n",
            "2022-07-08 [매수 주문 실행] 종목:  \t 수량: 2123 \t 가격: 21637.15\n",
            "2022-07-13 [매도 주문 실행] 종목:  \t 수량: -2123 \t 가격: 19325.97\n",
            "2022-07-17 [매수 주문 실행] 종목:  \t 수량: 1926 \t 가격: 21195.04\n",
            "2022-07-24 [매도 주문 실행] 종목:  \t 수량: -1926 \t 가격: 22465.51\n",
            "2022-07-28 [매수 주문 실행] 종목:  \t 수량: 1875 \t 가격: 22933.64\n",
            "2022-08-20 [매도 주문 실행] 종목:  \t 수량: -1875 \t 가격: 20872.84\n",
            "2022-09-10 [매수 주문 실행] 종목:  \t 수량: 1821 \t 가격: 21376.91\n",
            "2022-09-14 [매도 주문 실행] 종목:  \t 수량: -1821 \t 가격: 20184.55\n",
            "2022-10-05 [매수 주문 실행] 종목:  \t 수량: 1797 \t 가격: 20335.90\n",
            "2022-10-06 [매도 주문 실행] 종목:  \t 수량: -1797 \t 가격: 20161.04\n",
            "2022-10-26 [매수 주문 실행] 종목:  \t 수량: 1793 \t 가격: 20092.24\n",
            "2022-11-09 [매도 주문 실행] 종목:  \t 수량: -1793 \t 가격: 18543.76\n",
            "2022-12-01 [매수 주문 실행] 종목:  \t 수량: 1926 \t 가격: 17168.00\n",
            "2023-03-04 [매도 주문 실행] 종목:  \t 수량: -1926 \t 가격: 22362.92\n",
            "2023-03-14 [매수 주문 실행] 종목:  \t 수량: 1767 \t 가격: 24201.77\n",
            "2023-05-02 [매도 주문 실행] 종목:  \t 수량: -1767 \t 가격: 28087.18\n",
            "2023-05-29 [매수 주문 실행] 종목:  \t 수량: 1754 \t 가격: 28075.59\n",
            "2023-06-15 [매도 주문 실행] 종목:  \t 수량: -1754 \t 가격: 25121.67\n",
            "2023-06-21 [매수 주문 실행] 종목:  \t 수량: 1548 \t 가격: 28311.31\n",
            "2023-07-31 [매도 주문 실행] 종목:  \t 수량: -1548 \t 가격: 29278.31\n",
            "2023-08-09 [매수 주문 실행] 종목:  \t 수량: 1514 \t 가격: 29766.70\n",
            "2023-08-18 [매도 주문 실행] 종목:  \t 수량: -1514 \t 가격: 26636.08\n",
            "2023-09-19 [매수 주문 실행] 종목:  \t 수량: 1500 \t 가격: 26760.85\n",
            "2023-09-21 [매도 주문 실행] 종목:  \t 수량: -1500 \t 가격: 27129.84\n",
            "2023-09-29 [매수 주문 실행] 종목:  \t 수량: 1497 \t 가격: 27024.84\n",
            "2024-01-15 [매도 주문 실행] 종목:  \t 수량: -1497 \t 가격: 41715.07\n",
            "2024-02-02 [매수 주문 실행] 종목:  \t 수량: 1437 \t 가격: 43077.64\n",
            "2024-02-05 [매도 주문 실행] 종목:  \t 수량: -1437 \t 가격: 42577.62\n",
            "2024-02-07 [매수 주문 실행] 종목:  \t 수량: 1412 \t 가격: 43090.02\n",
            "2024-04-14 [매도 주문 실행] 종목:  \t 수량: -1412 \t 가격: 63836.23\n",
            "2024-05-16 [매수 주문 실행] 종목:  \t 수량: 1349 \t 가격: 66256.11\n",
            "2024-06-15 [매도 주문 실행] 종목:  \t 수량: -1349 \t 가격: 66006.74\n",
            "2024-07-16 [매수 주문 실행] 종목:  \t 수량: 1364 \t 가격: 64784.42\n",
            "2024-08-03 [매도 주문 실행] 종목:  \t 수량: -1364 \t 가격: 61414.81\n",
            "2024-08-22 [매수 주문 실행] 종목:  \t 수량: 1364 \t 가격: 61168.32\n",
            "2024-08-28 [매도 주문 실행] 종목:  \t 수량: -1364 \t 가격: 59507.93\n",
            "2024-09-18 [매수 주문 실행] 종목:  \t 수량: 1338 \t 가격: 60309.00\n",
            "2024-10-10 [매도 주문 실행] 종목:  \t 수량: -1338 \t 가격: 60581.93\n",
            "2024-10-15 [매수 주문 실행] 종목:  \t 수량: 1220 \t 가격: 66050.37\n",
            "Final Portfolio Value: 129968101.01\n",
            "수익률: 1299.68%\n"
          ]
        }
      ]
    },
    {
      "cell_type": "markdown",
      "source": [
        "스탑로스 10%로 설정 + 윌리엄스의 리스크 고정"
      ],
      "metadata": {
        "id": "aBiuonV4s35-"
      }
    },
    {
      "cell_type": "code",
      "source": [
        "import math\n",
        "import backtrader as bt\n",
        "\n",
        "class BollingerBandsStopLossRiskFixed(bt.Strategy):\n",
        "    params = dict(\n",
        "        bb_period=20,         # 볼린저 밴드 기간\n",
        "        bb_devfactor=1,       # 볼린저 밴드 표준편차\n",
        "        ma_period=50,         # 이동평균선 기간\n",
        "        stop_loss=0.1,        # 손절 비율 (10%)\n",
        "        risk_percent=0.03,    # 리스크 비율 (3%)\n",
        "    )\n",
        "\n",
        "    def __init__(self):\n",
        "        # 볼린저 밴드 지표\n",
        "        self.bb = bt.indicators.BollingerBands(\n",
        "            self.data.close,\n",
        "            period=self.params.bb_period,\n",
        "            devfactor=self.params.bb_devfactor\n",
        "        )\n",
        "        # 이동평균선 지표\n",
        "        self.ma = bt.indicators.MovingAverageSimple(\n",
        "            self.data.close,\n",
        "            period=self.params.ma_period\n",
        "        )\n",
        "        self.order = None\n",
        "        self.buy_price = None\n",
        "\n",
        "    def next(self):\n",
        "        if self.order:  # 아직 미체결 주문이 있으면 대기\n",
        "            return\n",
        "\n",
        "        # 포지션이 없을 때: 진입 조건\n",
        "        if not self.position:\n",
        "            # 종가가 볼린저 밴드 상단선을 돌파할 때 매수\n",
        "            if self.data.close[0] > self.bb.lines.top[0] and self.data.close[-1] <= self.bb.lines.top[-1]:\n",
        "                self.buy_price = self.data.close[0]\n",
        "                # 계좌 가치의 risk_percent 만큼의 리스크 금액 산정\n",
        "                risk_amount = self.broker.getvalue() * self.params.risk_percent\n",
        "                # 손절가: 매수 가격의 (1 - stop_loss) 비율\n",
        "                stop_loss_price = self.buy_price * (1 - self.params.stop_loss)\n",
        "                # 포지션 사이즈 계산 (리스크 금액 / (매수가 - 손절가))\n",
        "                position_size = risk_amount / (self.buy_price - stop_loss_price)\n",
        "                position_size = (position_size)\n",
        "                if position_size <= 0:\n",
        "                    return\n",
        "\n",
        "                # 브라켓 주문 사용: 매수 주문과 동시에 스탑로스 주문을 부모 주문에 연계\n",
        "                parent_order = self.buy(size=position_size)\n",
        "                self.sell(exectype=bt.Order.Stop,\n",
        "                          parent=parent_order,\n",
        "                          price=stop_loss_price,\n",
        "                          size=position_size)\n",
        "        # 포지션 보유 중일 때: 청산 조건\n",
        "        else:\n",
        "            # 이동평균선 하향 돌파 시 전체 포지션 청산\n",
        "            if self.data.close[0] < self.ma[0] and self.data.close[-1] >= self.ma[-1]:\n",
        "                self.close()\n",
        "                self.buy_price = None\n",
        "\n",
        "    def log(self, message):\n",
        "        print(message)\n",
        "\n",
        "    def notify_order(self, order):\n",
        "        if order.status in [order.Submitted, order.Accepted]:\n",
        "            # 주문 제출/수락 상태이면 별도 처리 없음\n",
        "            return\n",
        "\n",
        "        cur_date = None\n",
        "        if order.status in [order.Completed]:\n",
        "            cur_date = order.data.datetime.date(0)\n",
        "            if order.isbuy():\n",
        "                self.log(\n",
        "                    f'{cur_date} [매수 주문 실행] 종목: {order.data._name} \\t 수량: {order.size} \\t 가격: {order.executed.price:.2f}'\n",
        "                )\n",
        "            elif order.issell():\n",
        "                self.log(\n",
        "                    f'{cur_date} [매도 주문 실행] 종목: {order.data._name} \\t 수량: {order.size} \\t 가격: {order.executed.price:.2f}'\n",
        "                )\n",
        "            self.bar_executed = len(self)\n",
        "\n",
        "        elif order.status in [order.Canceled, order.Margin, order.Rejected]:\n",
        "            self.log(\n",
        "                f'{cur_date} 주문이 거부되었습니다. 종목: {order.data._name} \\t 수량: {order.size} \\t 가격: {order.executed.price:.2f}'\n",
        "            )\n"
      ],
      "metadata": {
        "collapsed": true,
        "id": "glgDxV_5Ks-7"
      },
      "execution_count": 13,
      "outputs": []
    },
    {
      "cell_type": "code",
      "source": [
        "if __name__ == '__main__':\n",
        "\n",
        "  cerebro = bt.Cerebro()\n",
        "  cerebro.addstrategy(BollingerBandsStopLossRiskFixed)\n",
        "  cerebro.broker.setcommission(commission=0.003) # 수수료 0.3%\n",
        "  cerebro.broker.setcash(10_000_000)\n",
        "\n",
        "  print('Starting Portfolio Value: %.2f' % cerebro.broker.getvalue())\n",
        "  data = yf.download('BTC-USD', start='2020-01-01', end='2024-12-17')\n",
        "  # 열 이름 전처리\n",
        "  data.columns = [col[0] if isinstance(col, tuple) else col for col in data.columns]\n",
        "  data_bt = bt.feeds.PandasData(dataname=data)\n",
        "  cerebro.adddata(data_bt)\n",
        "  cerebro.run()\n",
        "  print('Final Portfolio Value: %.2f' % cerebro.broker.getvalue())\n",
        "  print(f'수익률: {cerebro.broker.getvalue() / 10_000_000 * 100:.2f}%')"
      ],
      "metadata": {
        "colab": {
          "base_uri": "https://localhost:8080/"
        },
        "id": "TrEdKnwdWnow",
        "outputId": "4a67919c-8bed-457b-dc8b-d949dd42f03f"
      },
      "execution_count": 14,
      "outputs": [
        {
          "output_type": "stream",
          "name": "stderr",
          "text": [
            "\r[*********************100%***********************]  1 of 1 completed"
          ]
        },
        {
          "output_type": "stream",
          "name": "stdout",
          "text": [
            "Starting Portfolio Value: 10000000.00\n"
          ]
        },
        {
          "output_type": "stream",
          "name": "stderr",
          "text": [
            "\n"
          ]
        },
        {
          "output_type": "stream",
          "name": "stdout",
          "text": [
            "2020-04-02 [매수 주문 실행] 종목:  \t 수량: 454.0792412619682 \t 가격: 6606.78\n",
            "None 주문이 거부되었습니다. 종목:  \t 수량: 454.0792412619682 \t 가격: 6606.78\n",
            "2020-06-20 [매도 주문 실행] 종목:  \t 수량: -454.0792412619682 \t 가격: 9290.96\n",
            "2020-07-09 [매수 주문 실행] 종목:  \t 수량: 356.28277695210795 \t 가격: 9427.99\n",
            "None 주문이 거부되었습니다. 종목:  \t 수량: 356.28277695210795 \t 가격: 9427.99\n",
            "2020-07-10 [매도 주문 실행] 종목:  \t 수량: -356.28277695210795 \t 가격: 9273.36\n",
            "2020-07-22 [매수 주문 실행] 종목:  \t 수량: 355.9112153767755 \t 가격: 9375.08\n",
            "None 주문이 거부되었습니다. 종목:  \t 수량: 355.9112153767755 \t 가격: 9375.08\n",
            "2020-09-04 [매도 주문 실행] 종목:  \t 수량: -355.9112153767755 \t 가격: 10230.37\n",
            "2020-10-09 [매수 주문 실행] 종목:  \t 수량: 313.46353050571014 \t 가격: 10927.91\n",
            "None 주문이 거부되었습니다. 종목:  \t 수량: 313.46353050571014 \t 가격: 10927.91\n",
            "2021-04-19 [매도 주문 실행] 종목:  \t 수량: -313.46353050571014 \t 가격: 56191.59\n",
            "2021-05-09 [매수 주문 실행] 종목:  \t 수량: 130.25161512558586 \t 가격: 58877.39\n",
            "None 주문이 거부되었습니다. 종목:  \t 수량: 130.25161512558586 \t 가격: 58877.39\n",
            "2021-05-11 [매도 주문 실행] 종목:  \t 수량: -130.25161512558586 \t 가격: 55847.24\n",
            "2021-06-14 [매수 주문 실행] 종목:  \t 수량: 192.52802620337096 \t 가격: 39016.97\n",
            "None 주문이 거부되었습니다. 종목:  \t 수량: 192.52802620337096 \t 가격: 39016.97\n",
            "2021-09-11 [매도 주문 실행] 종목:  \t 수량: -192.52802620337096 \t 가격: 44869.84\n",
            "2021-10-02 [매수 주문 실행] 종목:  \t 수량: 163.16396003304408 \t 가격: 48137.47\n",
            "None 주문이 거부되었습니다. 종목:  \t 수량: 163.16396003304408 \t 가격: 48137.47\n",
            "2021-11-19 [매도 주문 실행] 종목:  \t 수량: -163.16396003304408 \t 가격: 56896.13\n",
            "2021-12-24 [매수 주문 실행] 종목:  \t 수량: 162.73173355176232 \t 가격: 50806.05\n",
            "None 주문이 거부되었습니다. 종목:  \t 수량: 162.73173355176232 \t 가격: 50806.05\n",
            "2022-02-12 [매도 주문 실행] 종목:  \t 수량: -162.73173355176232 \t 가격: 42412.30\n",
            "2022-02-16 [매수 주문 실행] 종목:  \t 수량: 175.9010404321975 \t 가격: 44578.28\n",
            "None 주문이 거부되었습니다. 종목:  \t 수량: 175.9010404321975 \t 가격: 44578.28\n",
            "2022-02-18 [매도 주문 실행] 종목:  \t 수량: -175.9010404321975 \t 가격: 40552.13\n",
            "2022-03-02 [매수 주문 실행] 종목:  \t 수량: 171.68186218972704 \t 가격: 44357.62\n",
            "None 주문이 거부되었습니다. 종목:  \t 수량: 171.68186218972704 \t 가격: 44357.62\n",
            "2022-03-05 [매도 주문 실행] 종목:  \t 수량: -171.68186218972704 \t 가격: 39148.45\n",
            "2022-03-10 [매수 주문 실행] 종목:  \t 수량: 174.68263027567806 \t 가격: 41974.07\n",
            "None 주문이 거부되었습니다. 종목:  \t 수량: 174.68263027567806 \t 가격: 41974.07\n",
            "2022-03-11 [매도 주문 실행] 종목:  \t 수량: -174.68263027567806 \t 가격: 39439.97\n",
            "2022-03-23 [매수 주문 실행] 종목:  \t 수량: 169.6952682626829 \t 가격: 42364.38\n",
            "None 주문이 거부되었습니다. 종목:  \t 수량: 169.6952682626829 \t 가격: 42364.38\n",
            "2022-04-12 [매도 주문 실행] 종목:  \t 수량: -169.6952682626829 \t 가격: 39533.71\n",
            "2022-05-31 [매수 주문 실행] 종목:  \t 수량: 221.62862565711748 \t 가격: 31723.87\n",
            "None 주문이 거부되었습니다. 종목:  \t 수량: 221.62862565711748 \t 가격: 31723.87\n",
            "2022-07-24 [매도 주문 실행] 종목:  \t 수량: -221.62862565711748 \t 가격: 22465.51\n",
            "2022-07-28 [매수 주문 실행] 종목:  \t 수량: 279.32573680367005 \t 가격: 22933.64\n",
            "None 주문이 거부되었습니다. 종목:  \t 수량: 279.32573680367005 \t 가격: 22933.64\n",
            "2022-08-20 [매도 주문 실행] 종목:  \t 수량: -279.32573680367005 \t 가격: 20872.84\n",
            "2022-09-10 [매수 주문 실행] 종목:  \t 수량: 290.9754091455579 \t 가격: 21376.91\n",
            "None 주문이 거부되었습니다. 종목:  \t 수량: 290.9754091455579 \t 가격: 21376.91\n",
            "2022-09-14 [매도 주문 실행] 종목:  \t 수량: -290.9754091455579 \t 가격: 20184.55\n",
            "2022-10-05 [매수 주문 실행] 종목:  \t 수량: 300.2639736708157 \t 가격: 20335.90\n",
            "None 주문이 거부되었습니다. 종목:  \t 수량: 300.2639736708157 \t 가격: 20335.90\n",
            "2022-10-06 [매도 주문 실행] 종목:  \t 수량: -300.2639736708157 \t 가격: 20161.04\n",
            "2022-10-26 [매수 주문 실행] 종목:  \t 수량: 302.53630023005286 \t 가격: 20092.24\n",
            "None 주문이 거부되었습니다. 종목:  \t 수량: 302.53630023005286 \t 가격: 20092.24\n",
            "2022-11-09 [매도 주문 실행] 종목:  \t 수량: -302.53630023005286 \t 가격: 18543.76\n",
            "2022-12-01 [매수 주문 실행] 종목:  \t 수량: 345.3209410481702 \t 가격: 17168.00\n",
            "None 주문이 거부되었습니다. 종목:  \t 수량: 345.3209410481702 \t 가격: 17168.00\n",
            "2023-03-04 [매도 주문 실행] 종목:  \t 수량: -345.3209410481702 \t 가격: 22362.92\n",
            "2023-03-14 [매수 주문 실행] 종목:  \t 수량: 266.7443113309804 \t 가격: 24201.77\n",
            "None 주문이 거부되었습니다. 종목:  \t 수량: 266.7443113309804 \t 가격: 24201.77\n",
            "2023-05-02 [매도 주문 실행] 종목:  \t 수량: -266.7443113309804 \t 가격: 28087.18\n",
            "2023-05-29 [매수 주문 실행] 종목:  \t 수량: 240.44042037430435 \t 가격: 28075.59\n",
            "None 주문이 거부되었습니다. 종목:  \t 수량: 240.44042037430435 \t 가격: 28075.59\n",
            "2023-07-31 [매도 주문 실행] 종목:  \t 수량: -240.44042037430435 \t 가격: 29278.31\n",
            "2023-08-09 [매수 주문 실행] 종목:  \t 수량: 229.36857112603363 \t 가격: 29766.70\n",
            "None 주문이 거부되었습니다. 종목:  \t 수량: 229.36857112603363 \t 가격: 29766.70\n",
            "2023-09-21 [매도 주문 실행] 종목:  \t 수량: -229.36857112603363 \t 가격: 27129.84\n",
            "2023-09-29 [매수 주문 실행] 종목:  \t 수량: 245.51072749406936 \t 가격: 27024.84\n",
            "None 주문이 거부되었습니다. 종목:  \t 수량: 245.51072749406936 \t 가격: 27024.84\n",
            "2024-01-15 [매도 주문 실행] 종목:  \t 수량: -245.51072749406936 \t 가격: 41715.07\n",
            "2024-02-02 [매수 주문 실행] 종목:  \t 수량: 178.77504197007002 \t 가격: 43077.64\n",
            "None 주문이 거부되었습니다. 종목:  \t 수량: 178.77504197007002 \t 가격: 43077.64\n",
            "2024-02-05 [매도 주문 실행] 종목:  \t 수량: -178.77504197007002 \t 가격: 42577.62\n",
            "2024-02-07 [매수 주문 실행] 종목:  \t 수량: 177.79581104605793 \t 가격: 43090.02\n",
            "None 주문이 거부되었습니다. 종목:  \t 수량: 177.79581104605793 \t 가격: 43090.02\n",
            "2024-04-14 [매도 주문 실행] 종목:  \t 수량: -177.79581104605793 \t 가격: 63836.23\n",
            "2024-05-16 [매수 주문 실행] 종목:  \t 수량: 132.03670118426805 \t 가격: 66256.11\n",
            "None 주문이 거부되었습니다. 종목:  \t 수량: 132.03670118426805 \t 가격: 66256.11\n",
            "2024-06-15 [매도 주문 실행] 종목:  \t 수량: -132.03670118426805 \t 가격: 66006.74\n",
            "2024-07-16 [매수 주문 실행] 종목:  \t 수량: 134.4862909550015 \t 가격: 64784.42\n",
            "None 주문이 거부되었습니다. 종목:  \t 수량: 134.4862909550015 \t 가격: 64784.42\n",
            "2024-08-03 [매도 주문 실행] 종목:  \t 수량: -134.4862909550015 \t 가격: 61414.81\n",
            "2024-08-22 [매수 주문 실행] 종목:  \t 수량: 140.13722304702245 \t 가격: 61168.32\n",
            "None 주문이 거부되었습니다. 종목:  \t 수량: 140.13722304702245 \t 가격: 61168.32\n",
            "2024-08-28 [매도 주문 실행] 종목:  \t 수량: -140.13722304702245 \t 가격: 59507.93\n",
            "2024-09-18 [매수 주문 실행] 종목:  \t 수량: 140.74120689138678 \t 가격: 60309.00\n",
            "None 주문이 거부되었습니다. 종목:  \t 수량: 140.74120689138678 \t 가격: 60309.00\n",
            "2024-10-10 [매도 주문 실행] 종목:  \t 수량: -140.74120689138678 \t 가격: 60581.93\n",
            "2024-10-15 [매수 주문 실행] 종목:  \t 수량: 128.45730779489898 \t 가격: 66050.37\n",
            "None 주문이 거부되었습니다. 종목:  \t 수량: 128.45730779489898 \t 가격: 66050.37\n",
            "Final Portfolio Value: 33390543.94\n",
            "수익률: 333.91%\n"
          ]
        }
      ]
    }
  ]
}