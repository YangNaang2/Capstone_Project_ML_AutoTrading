{
  "nbformat": 4,
  "nbformat_minor": 0,
  "metadata": {
    "colab": {
      "provenance": []
    },
    "kernelspec": {
      "name": "python3",
      "display_name": "Python 3"
    },
    "language_info": {
      "name": "python"
    }
  },
  "cells": [
    {
      "cell_type": "code",
      "source": [
        "!pip install backtrader\n",
        "!pip install yfinance"
      ],
      "metadata": {
        "colab": {
          "base_uri": "https://localhost:8080/"
        },
        "id": "lJptvyrzfV9o",
        "outputId": "231d81db-f237-47c4-876c-c30a176144a6"
      },
      "execution_count": 1,
      "outputs": [
        {
          "output_type": "stream",
          "name": "stdout",
          "text": [
            "Collecting backtrader\n",
            "  Downloading backtrader-1.9.78.123-py2.py3-none-any.whl.metadata (6.8 kB)\n",
            "Downloading backtrader-1.9.78.123-py2.py3-none-any.whl (419 kB)\n",
            "\u001b[?25l   \u001b[90m━━━━━━━━━━━━━━━━━━━━━━━━━━━━━━━━━━━━━━━━\u001b[0m \u001b[32m0.0/419.5 kB\u001b[0m \u001b[31m?\u001b[0m eta \u001b[36m-:--:--\u001b[0m\r\u001b[2K   \u001b[91m━━━━━━━━━━━\u001b[0m\u001b[91m╸\u001b[0m\u001b[90m━━━━━━━━━━━━━━━━━━━━━━━━━━━━\u001b[0m \u001b[32m122.9/419.5 kB\u001b[0m \u001b[31m3.7 MB/s\u001b[0m eta \u001b[36m0:00:01\u001b[0m\r\u001b[2K   \u001b[90m━━━━━━━━━━━━━━━━━━━━━━━━━━━━━━━━━━━━━━━━\u001b[0m \u001b[32m419.5/419.5 kB\u001b[0m \u001b[31m5.7 MB/s\u001b[0m eta \u001b[36m0:00:00\u001b[0m\n",
            "\u001b[?25hInstalling collected packages: backtrader\n",
            "Successfully installed backtrader-1.9.78.123\n",
            "Requirement already satisfied: yfinance in /usr/local/lib/python3.11/dist-packages (0.2.55)\n",
            "Requirement already satisfied: pandas>=1.3.0 in /usr/local/lib/python3.11/dist-packages (from yfinance) (2.2.2)\n",
            "Requirement already satisfied: numpy>=1.16.5 in /usr/local/lib/python3.11/dist-packages (from yfinance) (2.0.2)\n",
            "Requirement already satisfied: requests>=2.31 in /usr/local/lib/python3.11/dist-packages (from yfinance) (2.32.3)\n",
            "Requirement already satisfied: multitasking>=0.0.7 in /usr/local/lib/python3.11/dist-packages (from yfinance) (0.0.11)\n",
            "Requirement already satisfied: platformdirs>=2.0.0 in /usr/local/lib/python3.11/dist-packages (from yfinance) (4.3.7)\n",
            "Requirement already satisfied: pytz>=2022.5 in /usr/local/lib/python3.11/dist-packages (from yfinance) (2025.1)\n",
            "Requirement already satisfied: frozendict>=2.3.4 in /usr/local/lib/python3.11/dist-packages (from yfinance) (2.4.6)\n",
            "Requirement already satisfied: peewee>=3.16.2 in /usr/local/lib/python3.11/dist-packages (from yfinance) (3.17.9)\n",
            "Requirement already satisfied: beautifulsoup4>=4.11.1 in /usr/local/lib/python3.11/dist-packages (from yfinance) (4.13.3)\n",
            "Requirement already satisfied: soupsieve>1.2 in /usr/local/lib/python3.11/dist-packages (from beautifulsoup4>=4.11.1->yfinance) (2.6)\n",
            "Requirement already satisfied: typing-extensions>=4.0.0 in /usr/local/lib/python3.11/dist-packages (from beautifulsoup4>=4.11.1->yfinance) (4.12.2)\n",
            "Requirement already satisfied: python-dateutil>=2.8.2 in /usr/local/lib/python3.11/dist-packages (from pandas>=1.3.0->yfinance) (2.8.2)\n",
            "Requirement already satisfied: tzdata>=2022.7 in /usr/local/lib/python3.11/dist-packages (from pandas>=1.3.0->yfinance) (2025.1)\n",
            "Requirement already satisfied: charset-normalizer<4,>=2 in /usr/local/lib/python3.11/dist-packages (from requests>=2.31->yfinance) (3.4.1)\n",
            "Requirement already satisfied: idna<4,>=2.5 in /usr/local/lib/python3.11/dist-packages (from requests>=2.31->yfinance) (3.10)\n",
            "Requirement already satisfied: urllib3<3,>=1.21.1 in /usr/local/lib/python3.11/dist-packages (from requests>=2.31->yfinance) (2.3.0)\n",
            "Requirement already satisfied: certifi>=2017.4.17 in /usr/local/lib/python3.11/dist-packages (from requests>=2.31->yfinance) (2025.1.31)\n",
            "Requirement already satisfied: six>=1.5 in /usr/local/lib/python3.11/dist-packages (from python-dateutil>=2.8.2->pandas>=1.3.0->yfinance) (1.17.0)\n"
          ]
        }
      ]
    },
    {
      "cell_type": "markdown",
      "source": [
        "이동평균선 교차 전략"
      ],
      "metadata": {
        "id": "ey165mws53qA"
      }
    },
    {
      "cell_type": "code",
      "execution_count": 2,
      "metadata": {
        "id": "XDL7tngWdNWD"
      },
      "outputs": [],
      "source": [
        "from datetime import datetime\n",
        "import backtrader as bt\n",
        "import math\n",
        "import yfinance as yf\n",
        "\n",
        "# SMA 전략\n",
        "class SmaCross(bt.Strategy):\n",
        "    params = dict(\n",
        "        pfast=30,  # 단기 SMA\n",
        "        pslow=200  # 장기 SMA\n",
        "    )\n",
        "\n",
        "    def __init__(self):\n",
        "        self.sma1 = bt.ind.SMA(period=self.p.pfast) # 단기 SMA\n",
        "        self.sma2 = bt.ind.SMA(period=self.p.pslow) # 장기 SMA\n",
        "\n",
        "    # 인덱싱(self.sma1[0], self.sma1[-1])의 의미\n",
        "    # self.sma1[0]: 가장 최근 시점의 SMA 값을 의미합니다. 인덱스 0은 현재 시점의 데이터를 나타냅니다.\n",
        "    # self.sma1[-1]: 바로 이전 시점의 SMA 값을 의미합니다. 인덱스 -1은 이전 날 또는 이전 데이터 포인트를 나타냅니다.\n",
        "    # 따라서, self.sma1[-1] < self.sma2[-1]는 바로 이전 시점에서 단기 SMA가 장기 SMA보다 낮았다는 것을 의미하며,\n",
        "    # self.sma1[0] >= self.sma2[0]는 현재 시점에서 단기 SMA가 장기 SMA보다 같거나 크다는 것을 의미합니다.\n",
        "    # 이 두 조건을 함께 사용하면, **단기 SMA가 장기 SMA를 방금 막 돌파한 상황(골든 크로스)**을 탐지할 수 있습니다.\n",
        "    def next(self):\n",
        "        if not self.position: #포지션이 없을 경우\n",
        "            # 단기 SMA가 장기 SMA를 위로 돌파했을 경우\n",
        "            if self.sma1[0] >= self.sma2[0] and self.sma1[-1] < self.sma2[-1]:\n",
        "                order_size = math.floor(self.broker.get_value() / self.datas[0].close * 0.99)\n",
        "                self.buy(size=order_size)\n",
        "\n",
        "        # 장기 SMA가 단기 SMA를 아래로 돌파했을 경우\n",
        "        elif self.sma1[0] <= self.sma2[0] and self.sma1[-1] > self.sma2[-1]:\n",
        "            self.close()\n",
        "\n",
        "    def log(self, message):\n",
        "        print(message)\n",
        "\n",
        "    def notify_order(self, order):\n",
        "        if order.status in [order.Submitted, order.Accepted]:\n",
        "            # Buy/Sell order submitted/accepted to/by broker - Nothing to do\n",
        "            return\n",
        "\n",
        "        # Check if an order has been completed\n",
        "        # Attention: broker could reject order if not enough cash\n",
        "        cur_date = None\n",
        "        if order.status in [order.Completed]:\n",
        "            cur_date = order.data.datetime.date(0)\n",
        "            if order.isbuy():\n",
        "                self.log(\n",
        "                    f'{cur_date} [매수 주문 실행] 종목: {order.data._name} \\t 수량: {order.size} \\t 가격: {order.executed.price:.2f}')\n",
        "            elif order.issell():\n",
        "                self.log(\n",
        "                    f'{cur_date} [매도 주문 실행] 종목: {order.data._name} \\t 수량: {order.size} \\t 가격: {order.executed.price:.2f}')\n",
        "            self.bar_executed = len(self)\n",
        "\n",
        "        elif order.status in [order.Canceled, order.Margin, order.Rejected]:\n",
        "            self.log(\n",
        "                f'{cur_date} 주문이 거부되었습니다. 종목: {order.data._name} \\t 수량: {order.size} \\t 가격: {order.executed.price:.2f}')\n",
        "\n"
      ]
    },
    {
      "cell_type": "code",
      "source": [
        "if __name__ == '__main__':\n",
        "\n",
        "    cerebro = bt.Cerebro()\n",
        "    cerebro.addstrategy(SmaCross)\n",
        "    cerebro.broker.setcommission(commission=0.003) # 수수료 0.3%\n",
        "    cerebro.broker.setcash(10_000_000)\n",
        "\n",
        "    print('Starting Portfolio Value: %.2f' % cerebro.broker.getvalue())\n",
        "    data = yf.download('BTC-USD', start='2020-01-01', end='2024-12-17')\n",
        "    # 열 이름 전처리\n",
        "    data.columns = [col[0] if isinstance(col, tuple) else col for col in data.columns]\n",
        "    data_bt = bt.feeds.PandasData(dataname=data)\n",
        "    cerebro.adddata(data_bt)\n",
        "    cerebro.run()\n",
        "    print('Final Portfolio Value: %.2f' % cerebro.broker.getvalue())\n",
        "    print(f'수익률: {cerebro.broker.getvalue() / 10_000_000 * 100:.2f}%')\n"
      ],
      "metadata": {
        "colab": {
          "base_uri": "https://localhost:8080/"
        },
        "id": "pyJps3oZfbaF",
        "outputId": "1bb42921-a194-400e-e359-e926199faaa9"
      },
      "execution_count": 4,
      "outputs": [
        {
          "output_type": "stream",
          "name": "stdout",
          "text": [
            "Starting Portfolio Value: 10000000.00\n"
          ]
        },
        {
          "output_type": "stream",
          "name": "stderr",
          "text": [
            "\r[*********************100%***********************]  1 of 1 completed\n"
          ]
        },
        {
          "output_type": "stream",
          "name": "stdout",
          "text": [
            "2021-09-02 [매수 주문 실행] 종목:  \t 수량: 202 \t 가격: 48807.85\n",
            "2022-01-07 [매도 주문 실행] 종목:  \t 수량: -202 \t 가격: 43153.57\n",
            "2023-01-29 [매수 주문 실행] 종목:  \t 수량: 378 \t 가격: 23031.45\n",
            "2023-09-04 [매도 주문 실행] 종목:  \t 수량: -378 \t 가격: 25968.17\n",
            "2023-10-26 [매수 주문 실행] 종목:  \t 수량: 282 \t 가격: 34504.29\n",
            "2024-08-18 [매도 주문 실행] 종목:  \t 수량: -282 \t 가격: 59468.13\n",
            "2024-10-18 [매수 주문 실행] 종목:  \t 수량: 247 \t 가격: 67419.11\n",
            "Final Portfolio Value: 26303788.44\n",
            "수익률: 263.04%\n"
          ]
        }
      ]
    },
    {
      "cell_type": "markdown",
      "source": [
        "스탑로스 10% 설정"
      ],
      "metadata": {
        "id": "OT-kPdt-5-nc"
      }
    },
    {
      "cell_type": "code",
      "source": [
        "from datetime import datetime\n",
        "import backtrader as bt\n",
        "import math\n",
        "import yfinance as yf\n",
        "\n",
        "# SMA 전략\n",
        "class SmaCrossStopLoss(bt.Strategy):\n",
        "    params = dict(\n",
        "        pfast=30,  # 단기 SMA\n",
        "        pslow=200,  # 장기 SMA\n",
        "        stop_loss=0.1 # 손절 비율(10%)\n",
        "    )\n",
        "\n",
        "    def __init__(self):\n",
        "        self.sma1 = bt.ind.SMA(period=self.p.pfast) # 단기 SMA\n",
        "        self.sma2 = bt.ind.SMA(period=self.p.pslow) # 장기 SMA\n",
        "        self.order = None # 매수 신호 추적 변수\n",
        "        self.buy_price = None # 매수 가격 저장\n",
        "\n",
        "    def next(self):\n",
        "        if not self.position: #포지션이 없을 경우\n",
        "            # 단기 SMA가 장기 SMA를 위로 돌파했을 경우\n",
        "            if self.sma1[0] >= self.sma2[0] and self.sma1[-1] < self.sma2[-1]:\n",
        "                order_size = math.floor(self.broker.get_value() / self.datas[0].close * 0.99)\n",
        "                self.buy(size=order_size)\n",
        "                self.buy_price = self.data.close[0]\n",
        "        else:\n",
        "            # 장기 SMA가 단기 SMA를 아래로 돌파했거나 매수가 대비 10% 하락한 경우\n",
        "            stop_loss_price = self.buy_price * (1 - self.params.stop_loss) # 손절가 계산\n",
        "            if (self.sma1[0] <= self.sma2[0] and self.sma1[-1] > self.sma2[-1]) or self.data.close[0] < stop_loss_price:\n",
        "                self.close()\n",
        "                self.buy_price = None\n",
        "\n",
        "    def log(self, message):\n",
        "        print(message)\n",
        "\n",
        "    def notify_order(self, order):\n",
        "        if order.status in [order.Submitted, order.Accepted]:\n",
        "            # Buy/Sell order submitted/accepted to/by broker - Nothing to do\n",
        "            return\n",
        "\n",
        "        # Check if an order has been completed\n",
        "        # Attention: broker could reject order if not enough cash\n",
        "        cur_date = None\n",
        "        if order.status in [order.Completed]:\n",
        "            cur_date = order.data.datetime.date(0)\n",
        "            if order.isbuy():\n",
        "                self.log(\n",
        "                    f'{cur_date} [매수 주문 실행] 종목: {order.data._name} \\t 수량: {order.size} \\t 가격: {order.executed.price:.2f}')\n",
        "            elif order.issell():\n",
        "                self.log(\n",
        "                    f'{cur_date} [매도 주문 실행] 종목: {order.data._name} \\t 수량: {order.size} \\t 가격: {order.executed.price:.2f}')\n",
        "            self.bar_executed = len(self)\n",
        "\n",
        "        elif order.status in [order.Canceled, order.Margin, order.Rejected]:\n",
        "            self.log(\n",
        "                f'{cur_date} 주문이 거부되었습니다. 종목: {order.data._name} \\t 수량: {order.size} \\t 가격: {order.executed.price:.2f}')\n",
        "\n"
      ],
      "metadata": {
        "id": "YcEVzmQ95-AD"
      },
      "execution_count": 5,
      "outputs": []
    },
    {
      "cell_type": "code",
      "source": [
        "if __name__ == '__main__':\n",
        "\n",
        "    cerebro = bt.Cerebro()\n",
        "    cerebro.addstrategy(SmaCrossStopLoss)\n",
        "    cerebro.broker.setcommission(commission=0.003) # 수수료 0.3%\n",
        "    cerebro.broker.setcash(10_000_000)\n",
        "\n",
        "    print('Starting Portfolio Value: %.2f' % cerebro.broker.getvalue())\n",
        "    data = yf.download('BTC-USD', start='2020-01-01', end='2024-12-17')\n",
        "    # 열 이름 전처리\n",
        "    data.columns = [col[0] if isinstance(col, tuple) else col for col in data.columns]\n",
        "    data_bt = bt.feeds.PandasData(dataname=data)\n",
        "    cerebro.adddata(data_bt)\n",
        "    cerebro.run()\n",
        "    print('Final Portfolio Value: %.2f' % cerebro.broker.getvalue())\n",
        "    print(f'수익률: {cerebro.broker.getvalue() / 10_000_000 * 100:.2f}%')\n"
      ],
      "metadata": {
        "colab": {
          "base_uri": "https://localhost:8080/"
        },
        "id": "WcIj4CeX7uVx",
        "outputId": "03641f93-095d-4010-8d02-fbd03354d6a3"
      },
      "execution_count": 6,
      "outputs": [
        {
          "output_type": "stream",
          "name": "stderr",
          "text": [
            "\r[*********************100%***********************]  1 of 1 completed"
          ]
        },
        {
          "output_type": "stream",
          "name": "stdout",
          "text": [
            "Starting Portfolio Value: 10000000.00\n"
          ]
        },
        {
          "output_type": "stream",
          "name": "stderr",
          "text": [
            "\n"
          ]
        },
        {
          "output_type": "stream",
          "name": "stdout",
          "text": [
            "2021-09-02 [매수 주문 실행] 종목:  \t 수량: 202 \t 가격: 48807.85\n",
            "2021-09-21 [매도 주문 실행] 종목:  \t 수량: -202 \t 가격: 43012.23\n",
            "2023-01-29 [매수 주문 실행] 종목:  \t 수량: 377 \t 가격: 23031.45\n",
            "2023-03-10 [매도 주문 실행] 종목:  \t 수량: -377 \t 가격: 20367.00\n",
            "2023-10-26 [매수 주문 실행] 종목:  \t 수량: 221 \t 가격: 34504.29\n",
            "2024-08-18 [매도 주문 실행] 종목:  \t 수량: -221 \t 가격: 59468.13\n",
            "2024-10-18 [매수 주문 실행] 종목:  \t 수량: 193 \t 가격: 67419.11\n",
            "Final Portfolio Value: 20587580.58\n",
            "수익률: 205.88%\n"
          ]
        }
      ]
    },
    {
      "cell_type": "markdown",
      "source": [
        "스탑로스 10%로 설정 + 윌리엄스의 리스크 고정"
      ],
      "metadata": {
        "id": "aWUHnzZd9WUr"
      }
    },
    {
      "cell_type": "code",
      "source": [
        "from datetime import datetime\n",
        "import backtrader as bt\n",
        "import math\n",
        "import yfinance as yf\n",
        "\n",
        "# SMA 전략\n",
        "class SmaCrossStopLossRiskFixed(bt.Strategy):\n",
        "    params = dict(\n",
        "        pfast=30,  # 단기 SMA\n",
        "        pslow=200,  # 장기 SMA\n",
        "        stop_loss=0.1, # 손절 비율(10%)\n",
        "        risk_percent=0.03,    # 리스크 비율 (3%)\n",
        "    )\n",
        "\n",
        "    def __init__(self):\n",
        "        self.sma1 = bt.ind.SMA(period=self.p.pfast) # 단기 SMA\n",
        "        self.sma2 = bt.ind.SMA(period=self.p.pslow) # 장기 SMA\n",
        "        self.order = None # 매수 신호 추적 변수\n",
        "        self.buy_price = None # 매수 가격 저장\n",
        "\n",
        "    def next(self):\n",
        "        if not self.position: #포지션이 없을 경우\n",
        "            # 단기 SMA가 장기 SMA를 위로 돌파했을 경우\n",
        "            if self.sma1[0] >= self.sma2[0] and self.sma1[-1] < self.sma2[-1]:\n",
        "                self.buy_price = self.data.close[0]\n",
        "                # 계좌 가치의 risk_percent 만큼의 리스크 금액 산정\n",
        "                risk_amount = self.broker.getvalue() * self.params.risk_percent\n",
        "                # 손절가: 매수 가격의 (1 - stop_loss) 비율\n",
        "                stop_loss_price = self.buy_price * (1 - self.params.stop_loss)\n",
        "                # 포지션 사이즈 계산 (리스크 금액 / (매수가 - 손절가))\n",
        "                position_size = risk_amount / (self.buy_price - stop_loss_price)\n",
        "                position_size = (position_size)\n",
        "                if position_size <= 0:\n",
        "                    return\n",
        "\n",
        "                # 브라켓 주문 사용: 매수 주문과 동시에 스탑로스 주문을 부모 주문에 연계\n",
        "                self.buy(size=position_size)\n",
        "\n",
        "        else:\n",
        "            # 장기 SMA가 단기 SMA를 아래로 돌파했거나 매수가 대비 10% 하락한 경우\n",
        "            stop_loss_price = self.buy_price * (1 - self.params.stop_loss) # 손절가 계산\n",
        "            if (self.sma1[0] <= self.sma2[0] and self.sma1[-1] > self.sma2[-1]) or self.data.close[0] < stop_loss_price:\n",
        "                self.close()\n",
        "                self.buy_price = None\n",
        "\n",
        "    def log(self, message):\n",
        "        print(message)\n",
        "\n",
        "    def notify_order(self, order):\n",
        "        if order.status in [order.Submitted, order.Accepted]:\n",
        "            # Buy/Sell order submitted/accepted to/by broker - Nothing to do\n",
        "            return\n",
        "\n",
        "        # Check if an order has been completed\n",
        "        # Attention: broker could reject order if not enough cash\n",
        "        cur_date = None\n",
        "        if order.status in [order.Completed]:\n",
        "            cur_date = order.data.datetime.date(0)\n",
        "            if order.isbuy():\n",
        "                self.log(\n",
        "                    f'{cur_date} [매수 주문 실행] 종목: {order.data._name} \\t 수량: {order.size} \\t 가격: {order.executed.price:.2f}')\n",
        "            elif order.issell():\n",
        "                self.log(\n",
        "                    f'{cur_date} [매도 주문 실행] 종목: {order.data._name} \\t 수량: {order.size} \\t 가격: {order.executed.price:.2f}')\n",
        "            self.bar_executed = len(self)\n",
        "\n",
        "        elif order.status in [order.Canceled, order.Margin, order.Rejected]:\n",
        "            self.log(\n",
        "                f'{cur_date} 주문이 거부되었습니다. 종목: {order.data._name} \\t 수량: {order.size} \\t 가격: {order.executed.price:.2f}')\n",
        "\n"
      ],
      "metadata": {
        "id": "qLuYmdlz9nZO"
      },
      "execution_count": 13,
      "outputs": []
    },
    {
      "cell_type": "code",
      "source": [
        "if __name__ == '__main__':\n",
        "\n",
        "    cerebro = bt.Cerebro()\n",
        "    cerebro.addstrategy(SmaCrossStopLossRiskFixed)\n",
        "    cerebro.broker.setcommission(commission=0.003) # 수수료 0.3%\n",
        "    cerebro.broker.setcash(10_000_000)\n",
        "\n",
        "    print('Starting Portfolio Value: %.2f' % cerebro.broker.getvalue())\n",
        "    data = yf.download('BTC-USD', start='2020-01-01', end='2024-12-17')\n",
        "    # 열 이름 전처리\n",
        "    data.columns = [col[0] if isinstance(col, tuple) else col for col in data.columns]\n",
        "    data_bt = bt.feeds.PandasData(dataname=data)\n",
        "    cerebro.adddata(data_bt)\n",
        "    cerebro.run()\n",
        "    print('Final Portfolio Value: %.2f' % cerebro.broker.getvalue())\n",
        "    print(f'수익률: {cerebro.broker.getvalue() / 10_000_000 * 100:.2f}%')\n"
      ],
      "metadata": {
        "colab": {
          "base_uri": "https://localhost:8080/"
        },
        "id": "h4zLJ4Py-7gV",
        "outputId": "8e785c37-0cd0-4390-ea00-51ceb3644d88"
      },
      "execution_count": 14,
      "outputs": [
        {
          "output_type": "stream",
          "name": "stderr",
          "text": [
            "\r[*********************100%***********************]  1 of 1 completed"
          ]
        },
        {
          "output_type": "stream",
          "name": "stdout",
          "text": [
            "Starting Portfolio Value: 10000000.00\n"
          ]
        },
        {
          "output_type": "stream",
          "name": "stderr",
          "text": [
            "\n"
          ]
        },
        {
          "output_type": "stream",
          "name": "stdout",
          "text": [
            "2021-09-02 [매수 주문 실행] 종목:  \t 수량: 61.41622455115174 \t 가격: 48807.85\n",
            "2021-09-21 [매도 주문 실행] 종목:  \t 수량: -61.41622455115174 \t 가격: 43012.23\n",
            "2023-01-29 [매수 주문 실행] 종목:  \t 수량: 125.40185006821096 \t 가격: 23031.45\n",
            "2023-03-10 [매도 주문 실행] 종목:  \t 수량: -125.40185006821096 \t 가격: 20367.00\n",
            "2023-10-26 [매수 주문 실행] 종목:  \t 수량: 80.66022556623481 \t 가격: 34504.29\n",
            "2024-08-18 [매도 주문 실행] 종목:  \t 수량: -80.66022556623481 \t 가격: 59468.13\n",
            "2024-10-18 [매수 주문 실행] 종목:  \t 수량: 50.152350511709216 \t 가격: 67419.11\n",
            "Final Portfolio Value: 13193803.12\n",
            "수익률: 131.94%\n"
          ]
        }
      ]
    }
  ]
}