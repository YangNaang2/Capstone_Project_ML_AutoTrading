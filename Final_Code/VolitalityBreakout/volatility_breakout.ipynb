{
  "cells": [
    {
      "cell_type": "markdown",
      "metadata": {
        "id": "iBjA9P_YCDty"
      },
      "source": [
        "# ATR(Average True Range)기반 변동성 돌파 매매 전략"
      ]
    },
    {
      "cell_type": "code",
      "source": [
        "!pip install backtrader\n",
        "!pip install yfinance"
      ],
      "metadata": {
        "colab": {
          "base_uri": "https://localhost:8080/"
        },
        "id": "pt_ygkngGfYc",
        "outputId": "cd1d0ef7-e496-4b7a-fb5f-5f3c5141d34e"
      },
      "execution_count": 1,
      "outputs": [
        {
          "output_type": "stream",
          "name": "stdout",
          "text": [
            "Collecting backtrader\n",
            "  Downloading backtrader-1.9.78.123-py2.py3-none-any.whl.metadata (6.8 kB)\n",
            "Downloading backtrader-1.9.78.123-py2.py3-none-any.whl (419 kB)\n",
            "\u001b[2K   \u001b[90m━━━━━━━━━━━━━━━━━━━━━━━━━━━━━━━━━━━━━━━━\u001b[0m \u001b[32m419.5/419.5 kB\u001b[0m \u001b[31m7.3 MB/s\u001b[0m eta \u001b[36m0:00:00\u001b[0m\n",
            "\u001b[?25hInstalling collected packages: backtrader\n",
            "Successfully installed backtrader-1.9.78.123\n",
            "Requirement already satisfied: yfinance in /usr/local/lib/python3.11/dist-packages (0.2.55)\n",
            "Requirement already satisfied: pandas>=1.3.0 in /usr/local/lib/python3.11/dist-packages (from yfinance) (2.2.2)\n",
            "Requirement already satisfied: numpy>=1.16.5 in /usr/local/lib/python3.11/dist-packages (from yfinance) (2.0.2)\n",
            "Requirement already satisfied: requests>=2.31 in /usr/local/lib/python3.11/dist-packages (from yfinance) (2.32.3)\n",
            "Requirement already satisfied: multitasking>=0.0.7 in /usr/local/lib/python3.11/dist-packages (from yfinance) (0.0.11)\n",
            "Requirement already satisfied: platformdirs>=2.0.0 in /usr/local/lib/python3.11/dist-packages (from yfinance) (4.3.7)\n",
            "Requirement already satisfied: pytz>=2022.5 in /usr/local/lib/python3.11/dist-packages (from yfinance) (2025.1)\n",
            "Requirement already satisfied: frozendict>=2.3.4 in /usr/local/lib/python3.11/dist-packages (from yfinance) (2.4.6)\n",
            "Requirement already satisfied: peewee>=3.16.2 in /usr/local/lib/python3.11/dist-packages (from yfinance) (3.17.9)\n",
            "Requirement already satisfied: beautifulsoup4>=4.11.1 in /usr/local/lib/python3.11/dist-packages (from yfinance) (4.13.3)\n",
            "Requirement already satisfied: soupsieve>1.2 in /usr/local/lib/python3.11/dist-packages (from beautifulsoup4>=4.11.1->yfinance) (2.6)\n",
            "Requirement already satisfied: typing-extensions>=4.0.0 in /usr/local/lib/python3.11/dist-packages (from beautifulsoup4>=4.11.1->yfinance) (4.12.2)\n",
            "Requirement already satisfied: python-dateutil>=2.8.2 in /usr/local/lib/python3.11/dist-packages (from pandas>=1.3.0->yfinance) (2.8.2)\n",
            "Requirement already satisfied: tzdata>=2022.7 in /usr/local/lib/python3.11/dist-packages (from pandas>=1.3.0->yfinance) (2025.1)\n",
            "Requirement already satisfied: charset-normalizer<4,>=2 in /usr/local/lib/python3.11/dist-packages (from requests>=2.31->yfinance) (3.4.1)\n",
            "Requirement already satisfied: idna<4,>=2.5 in /usr/local/lib/python3.11/dist-packages (from requests>=2.31->yfinance) (3.10)\n",
            "Requirement already satisfied: urllib3<3,>=1.21.1 in /usr/local/lib/python3.11/dist-packages (from requests>=2.31->yfinance) (2.3.0)\n",
            "Requirement already satisfied: certifi>=2017.4.17 in /usr/local/lib/python3.11/dist-packages (from requests>=2.31->yfinance) (2025.1.31)\n",
            "Requirement already satisfied: six>=1.5 in /usr/local/lib/python3.11/dist-packages (from python-dateutil>=2.8.2->pandas>=1.3.0->yfinance) (1.17.0)\n"
          ]
        }
      ]
    },
    {
      "cell_type": "code",
      "source": [
        "import backtrader as bt\n",
        "import math\n",
        "import yfinance as yf"
      ],
      "metadata": {
        "id": "k1QqnbTkG9Kt"
      },
      "execution_count": 2,
      "outputs": []
    },
    {
      "cell_type": "code",
      "execution_count": 10,
      "metadata": {
        "id": "NDsVvGMrCDtz"
      },
      "outputs": [],
      "source": [
        "# 변동성 돌파 전략 (ATR 기반)\n",
        "class VolatilityBreakout(bt.Strategy):\n",
        "    params = dict(\n",
        "        atr_period=14, # atr 기간\n",
        "        risk_percent=0.1, # 손절 비율\n",
        "    )\n",
        "\n",
        "    def __init__(self):\n",
        "        # ATR 지표 계산\n",
        "        self.atr = bt.indicators.ATR(self.data, period=self.p.atr_period)\n",
        "\n",
        "        # 주문 상태 및 매수/손절 관련 변수 초기화\n",
        "        self.order = None  # 주문 상태를 저장하는 변수\n",
        "        self.buy_price = None  # 초기 매수 가격\n",
        "\n",
        "    def next(self):\n",
        "        # 주문 상태를 확인\n",
        "        if self.order:\n",
        "            return  # 주문이 처리 중이면 대기\n",
        "\n",
        "        # 변동성 돌파 매매: ATR을 활용한 목표 가격 설정\n",
        "        target_price = self.data.open[0] + self.atr[0]  # 목표 가격\n",
        "\n",
        "        if not self.position:  # 포지션이 없는 경우\n",
        "            # 목표 가격 돌파 시 매수\n",
        "            if self.data.high[0] >= target_price:\n",
        "                self.buy_price = target_price\n",
        "                self.order = self.buy()  # 전액 매수\n",
        "        else:  # 포지션이 있는 경우\n",
        "            current_price = self.data.close[0]\n",
        "\n",
        "            # 손절 조건: 현재 가격이 매수 가격 대비 10% 하락한 경우\n",
        "            if current_price < self.buy_price * (1 - self.p.risk_percent):\n",
        "                self.order = self.sell(size=self.position.size)  # 전량 매도\n",
        "\n",
        "    def log(self, message):\n",
        "        print(message)\n",
        "\n",
        "    def notify_order(self, order):\n",
        "        if order.status in [order.Submitted, order.Accepted]:\n",
        "            # 주문 제출/수락 상태이면 별도 처리 없음\n",
        "            return\n",
        "\n",
        "        cur_date = None\n",
        "        if order.status in [order.Completed]:\n",
        "            cur_date = order.data.datetime.date(0)\n",
        "            if order.isbuy():\n",
        "                self.log(\n",
        "                    f'{cur_date} [매수 주문 실행] 종목: {order.data._name} \\t 수량: {order.size} \\t 가격: {order.executed.price:.2f}'\n",
        "                )\n",
        "            elif order.issell():\n",
        "                self.log(\n",
        "                    f'{cur_date} [매도 주문 실행] 종목: {order.data._name} \\t 수량: {order.size} \\t 가격: {order.executed.price:.2f}'\n",
        "                )\n",
        "            self.bar_executed = len(self)\n",
        "\n",
        "        elif order.status in [order.Canceled, order.Margin, order.Rejected]:\n",
        "            self.log(\n",
        "                f'{cur_date} 주문이 거부되었습니다. 종목: {order.data._name} \\t 수량: {order.size} \\t 가격: {order.executed.price:.2f}'\n",
        "            )\n",
        "\n"
      ]
    },
    {
      "cell_type": "code",
      "source": [
        "if __name__ == '__main__':\n",
        "\n",
        "  cerebro = bt.Cerebro()\n",
        "  cerebro.addstrategy(VolatilityBreakout)\n",
        "  cerebro.broker.setcommission(commission=0.003) # 수수료 0.3%\n",
        "  cerebro.broker.setcash(10_000_000)\n",
        "\n",
        "  print('Starting Portfolio Value: %.2f' % cerebro.broker.getvalue())\n",
        "  data = yf.download('BTC-USD', start='2020-01-01', end='2024-12-17')\n",
        "  # 열 이름 전처리\n",
        "  data.columns = [col[0] if isinstance(col, tuple) else col for col in data.columns]\n",
        "  data_bt = bt.feeds.PandasData(dataname=data)\n",
        "  cerebro.adddata(data_bt)\n",
        "  cerebro.run()\n",
        "  print('Final Portfolio Value: %.2f' % cerebro.broker.getvalue())\n",
        "  print(f'수익률: {cerebro.broker.getvalue() / 10_000_000 * 100:.2f}%')"
      ],
      "metadata": {
        "colab": {
          "base_uri": "https://localhost:8080/"
        },
        "id": "AU2BAgotLXPV",
        "outputId": "edadaea2-ee88-4677-9a3d-ad6ab64e45e5"
      },
      "execution_count": 11,
      "outputs": [
        {
          "output_type": "stream",
          "name": "stderr",
          "text": [
            "\r[*********************100%***********************]  1 of 1 completed"
          ]
        },
        {
          "output_type": "stream",
          "name": "stdout",
          "text": [
            "Starting Portfolio Value: 10000000.00\n"
          ]
        },
        {
          "output_type": "stream",
          "name": "stderr",
          "text": [
            "\n"
          ]
        },
        {
          "output_type": "stream",
          "name": "stdout",
          "text": [
            "2020-01-28 [매수 주문 실행] 종목:  \t 수량: 1 \t 가격: 8912.52\n",
            "Final Portfolio Value: 10097090.46\n",
            "수익률: 100.97%\n"
          ]
        }
      ]
    },
    {
      "cell_type": "markdown",
      "metadata": {
        "id": "ZLAY9IpjCDt1"
      },
      "source": [
        "ATR(Average True Range)기반 변동성 돌파 매매 전략 + 리스크 고정"
      ]
    },
    {
      "cell_type": "code",
      "execution_count": 14,
      "metadata": {
        "id": "WfM0iHZ8CDt1"
      },
      "outputs": [],
      "source": [
        "import backtrader as bt\n",
        "import yfinance as yf\n",
        "import datetime\n",
        "\n",
        "# 리스크 고정 투자법 전략\n",
        "class VolatilityBreakoutFixedRiskStrategy(bt.Strategy):\n",
        "    params = (\n",
        "        ('risk_percent', 0.02),  # 리스크 비율 (2%)\n",
        "        ('atr_period', 14),  # ATR 계산 기간\n",
        "        ('atr_multiplier', 2),  # ATR 곱하여 손절 가격 설정\n",
        "    )\n",
        "\n",
        "    def __init__(self):\n",
        "        # ATR 계산 (변동성을 기준으로 손절 가격 설정)\n",
        "        self.atr = bt.indicators.ATR(self.data, period=self.p.atr_period)\n",
        "\n",
        "        # 주문 상태 및 매수/손절 관련 변수 초기화\n",
        "        self.order = None  # 주문 상태 초기화\n",
        "        self.buy_price = None  # 초기 매수 가격 (초기화 추가)\n",
        "\n",
        "    def calculate_position_size(self, entry_price, stop_loss_price):\n",
        "        \"\"\"포지션 크기 계산: 리스크 고정 투자법 적용\"\"\"\n",
        "        # 계좌에서 허용되는 리스크 금액\n",
        "        risk_amount = self.broker.getvalue() * self.p.risk_percent\n",
        "        # 한 주당 손실\n",
        "        per_unit_risk = abs(entry_price - stop_loss_price)\n",
        "        # 포지션 크기 계산\n",
        "        if per_unit_risk > 0:\n",
        "            position_size = risk_amount / per_unit_risk\n",
        "            return int(position_size)  # 소수점 제거\n",
        "        return 0\n",
        "\n",
        "    def next(self):\n",
        "        if self.order:  # 주문이 처리 중이면 대기\n",
        "            return\n",
        "\n",
        "        if not self.position:  # 포지션이 없는 경우\n",
        "            entry_price = self.data.close[0]\n",
        "            stop_loss_price = entry_price - (self.atr[0] * self.p.atr_multiplier)\n",
        "\n",
        "            # 목표 가격 돌파 시 매수\n",
        "            if self.data.close[0] > self.data.open[0]:  # 간단한 상승 신호\n",
        "                position_size = self.calculate_position_size(entry_price, stop_loss_price)\n",
        "                if position_size > 0:\n",
        "                    self.buy_price = entry_price  # 매수 가격 기록\n",
        "                    self.order = self.buy(size=position_size)\n",
        "        else:  # 포지션이 있는 경우\n",
        "            current_price = self.data.close[0]\n",
        "\n",
        "            # 손절 조건: 현재 가격이 손절 가격보다 낮아지면 매도\n",
        "            if current_price < self.buy_price - (self.atr[0] * self.p.atr_multiplier):\n",
        "                self.order = self.sell(size=self.position.size)\n",
        "\n",
        "    def notify_order(self, order):\n",
        "        if order.status in [order.Completed, order.Canceled, order.Rejected]:\n",
        "            self.order = None  # 주문 완료 후 초기화\n",
        "\n",
        "\n"
      ]
    },
    {
      "cell_type": "code",
      "source": [
        "if __name__ == '__main__':\n",
        "\n",
        "  cerebro = bt.Cerebro()\n",
        "  cerebro.addstrategy(VolatilityBreakoutFixedRiskStrategy)\n",
        "  cerebro.broker.setcommission(commission=0.003) # 수수료 0.3%\n",
        "  cerebro.broker.setcash(10_000_000)\n",
        "\n",
        "  print('Starting Portfolio Value: %.2f' % cerebro.broker.getvalue())\n",
        "  data = yf.download('BTC-USD', start='2020-01-01', end='2024-12-17')\n",
        "  # 열 이름 전처리\n",
        "  data.columns = [col[0] if isinstance(col, tuple) else col for col in data.columns]\n",
        "  data_bt = bt.feeds.PandasData(dataname=data)\n",
        "  cerebro.adddata(data_bt)\n",
        "  cerebro.run()\n",
        "  print('Final Portfolio Value: %.2f' % cerebro.broker.getvalue())\n",
        "  print(f'수익률: {cerebro.broker.getvalue() / 10_000_000 * 100:.2f}%')"
      ],
      "metadata": {
        "colab": {
          "base_uri": "https://localhost:8080/"
        },
        "id": "Ieec2vd-TC5m",
        "outputId": "95d04d20-9489-4ac7-b658-0a1824cf9db3"
      },
      "execution_count": 15,
      "outputs": [
        {
          "output_type": "stream",
          "name": "stderr",
          "text": [
            "\r[*********************100%***********************]  1 of 1 completed"
          ]
        },
        {
          "output_type": "stream",
          "name": "stdout",
          "text": [
            "Starting Portfolio Value: 10000000.00\n"
          ]
        },
        {
          "output_type": "stream",
          "name": "stderr",
          "text": [
            "\n"
          ]
        },
        {
          "output_type": "stream",
          "name": "stdout",
          "text": [
            "최종 포트폴리오 가치: 23244720.01\n",
            "Final Portfolio Value: 23244720.01\n",
            "수익률: 232.45%\n"
          ]
        }
      ]
    }
  ],
  "metadata": {
    "kernelspec": {
      "display_name": "stat",
      "language": "python",
      "name": "python3"
    },
    "language_info": {
      "codemirror_mode": {
        "name": "ipython",
        "version": 3
      },
      "file_extension": ".py",
      "mimetype": "text/x-python",
      "name": "python",
      "nbconvert_exporter": "python",
      "pygments_lexer": "ipython3",
      "version": "3.10.14"
    },
    "colab": {
      "provenance": []
    }
  },
  "nbformat": 4,
  "nbformat_minor": 0
}