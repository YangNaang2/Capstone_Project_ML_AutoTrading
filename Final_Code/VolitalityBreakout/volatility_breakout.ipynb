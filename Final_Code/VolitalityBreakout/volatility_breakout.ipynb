{
  "cells": [
    {
      "cell_type": "markdown",
      "metadata": {
        "id": "iBjA9P_YCDty"
      },
      "source": [
        "# ATR(Average True Range)기반 변동성 돌파 매매 전략"
      ]
    },
    {
      "cell_type": "code",
      "source": [
        "!pip install backtrader\n",
        "!pip install yfinance"
      ],
      "metadata": {
        "colab": {
          "base_uri": "https://localhost:8080/"
        },
        "id": "pt_ygkngGfYc",
        "outputId": "5ffff066-9896-4966-c190-cafe328a7d03"
      },
      "execution_count": 31,
      "outputs": [
        {
          "output_type": "stream",
          "name": "stdout",
          "text": [
            "Requirement already satisfied: backtrader in /usr/local/lib/python3.11/dist-packages (1.9.78.123)\n",
            "Requirement already satisfied: yfinance in /usr/local/lib/python3.11/dist-packages (0.2.55)\n",
            "Requirement already satisfied: pandas>=1.3.0 in /usr/local/lib/python3.11/dist-packages (from yfinance) (2.2.2)\n",
            "Requirement already satisfied: numpy>=1.16.5 in /usr/local/lib/python3.11/dist-packages (from yfinance) (2.0.2)\n",
            "Requirement already satisfied: requests>=2.31 in /usr/local/lib/python3.11/dist-packages (from yfinance) (2.32.3)\n",
            "Requirement already satisfied: multitasking>=0.0.7 in /usr/local/lib/python3.11/dist-packages (from yfinance) (0.0.11)\n",
            "Requirement already satisfied: platformdirs>=2.0.0 in /usr/local/lib/python3.11/dist-packages (from yfinance) (4.3.7)\n",
            "Requirement already satisfied: pytz>=2022.5 in /usr/local/lib/python3.11/dist-packages (from yfinance) (2025.2)\n",
            "Requirement already satisfied: frozendict>=2.3.4 in /usr/local/lib/python3.11/dist-packages (from yfinance) (2.4.6)\n",
            "Requirement already satisfied: peewee>=3.16.2 in /usr/local/lib/python3.11/dist-packages (from yfinance) (3.17.9)\n",
            "Requirement already satisfied: beautifulsoup4>=4.11.1 in /usr/local/lib/python3.11/dist-packages (from yfinance) (4.13.4)\n",
            "Requirement already satisfied: soupsieve>1.2 in /usr/local/lib/python3.11/dist-packages (from beautifulsoup4>=4.11.1->yfinance) (2.6)\n",
            "Requirement already satisfied: typing-extensions>=4.0.0 in /usr/local/lib/python3.11/dist-packages (from beautifulsoup4>=4.11.1->yfinance) (4.13.2)\n",
            "Requirement already satisfied: python-dateutil>=2.8.2 in /usr/local/lib/python3.11/dist-packages (from pandas>=1.3.0->yfinance) (2.8.2)\n",
            "Requirement already satisfied: tzdata>=2022.7 in /usr/local/lib/python3.11/dist-packages (from pandas>=1.3.0->yfinance) (2025.2)\n",
            "Requirement already satisfied: charset-normalizer<4,>=2 in /usr/local/lib/python3.11/dist-packages (from requests>=2.31->yfinance) (3.4.1)\n",
            "Requirement already satisfied: idna<4,>=2.5 in /usr/local/lib/python3.11/dist-packages (from requests>=2.31->yfinance) (3.10)\n",
            "Requirement already satisfied: urllib3<3,>=1.21.1 in /usr/local/lib/python3.11/dist-packages (from requests>=2.31->yfinance) (2.3.0)\n",
            "Requirement already satisfied: certifi>=2017.4.17 in /usr/local/lib/python3.11/dist-packages (from requests>=2.31->yfinance) (2025.1.31)\n",
            "Requirement already satisfied: six>=1.5 in /usr/local/lib/python3.11/dist-packages (from python-dateutil>=2.8.2->pandas>=1.3.0->yfinance) (1.17.0)\n"
          ]
        }
      ]
    },
    {
      "cell_type": "code",
      "source": [
        "import backtrader as bt\n",
        "import math\n",
        "import yfinance as yf"
      ],
      "metadata": {
        "id": "k1QqnbTkG9Kt"
      },
      "execution_count": null,
      "outputs": []
    },
    {
      "cell_type": "code",
      "execution_count": 37,
      "metadata": {
        "id": "NDsVvGMrCDtz"
      },
      "outputs": [],
      "source": [
        "import backtrader as bt\n",
        "import datetime\n",
        "\n",
        "import backtrader as bt\n",
        "\n",
        "# 변동성 돌파 전략 (ATR 기반)\n",
        "class VolatilityBreakout(bt.Strategy):\n",
        "    params = dict(\n",
        "        atr_period=14,       # ATR 기간\n",
        "        risk_percent=0.2,    # 손절 비율\n",
        "        profit_percent=0.2,  # 익절 비율\n",
        "    )\n",
        "\n",
        "    def __init__(self):\n",
        "        # ATR 지표 계산\n",
        "        self.atr = bt.indicators.ATR(self.data, period=self.p.atr_period)\n",
        "\n",
        "        # 주문 상태 및 매수/손절 관련 변수 초기화\n",
        "        self.order = None\n",
        "        self.buy_price = None\n",
        "        self.last_date = None\n",
        "        self.entered_today = False\n",
        "\n",
        "    def next(self):\n",
        "        # 현재 날짜 확인\n",
        "        current_date = self.data.datetime.date(0)\n",
        "\n",
        "        # 날짜가 바뀌면 하루 목표 가격과 진입 상태를 초기화\n",
        "        if self.last_date != current_date:\n",
        "            self.target_price = self.data.open[0] + self.atr[0]\n",
        "            self.entered_today = False\n",
        "            self.last_date = current_date\n",
        "\n",
        "        # 주문 처리 중이면 대기\n",
        "        if self.order:\n",
        "            return\n",
        "\n",
        "        # 포지션이 없고 오늘 미진입 상태일 때\n",
        "        if not self.position and not self.entered_today:\n",
        "            # 목표가 돌파 시 매수\n",
        "            if self.data.high[0] >= self.target_price:\n",
        "                self.buy_price = self.target_price\n",
        "                self.order = self.buy()    # 전액 시장가 매수\n",
        "                self.entered_today = True\n",
        "\n",
        "        # 포지션 보유 중일 때 손절/익절 체크\n",
        "        elif self.position:\n",
        "            current_price = self.data.close[0]\n",
        "\n",
        "            # 익절 조건\n",
        "            if current_price >= self.buy_price * (1 + self.p.profit_percent):\n",
        "                self.order = self.sell()  # 전량 시장가 매도\n",
        "\n",
        "            # 손절 조건\n",
        "            elif current_price <= self.buy_price * (1 - self.p.risk_percent):\n",
        "                self.order = self.sell()  # 전량 시장가 매도\n",
        "\n",
        "    def log(self, message):\n",
        "        print(message)\n",
        "\n",
        "    def notify_order(self, order):\n",
        "        # 주문 제출/수락 상태 처리 없음\n",
        "        if order.status in [order.Submitted, order.Accepted]:\n",
        "            return\n",
        "\n",
        "        cur_date = self.data.datetime.date(0)\n",
        "        # 주문 체결 확인\n",
        "        if order.status == order.Completed:\n",
        "            if order.isbuy():\n",
        "                # 매수 체결 로그 및 매수 가격 재설정\n",
        "                self.log(f'{cur_date} [매수 주문 실행] 종목: {order.data._name}  \\t 수량: {order.size}  \\t 가격: {order.executed.price:.2f}')\n",
        "                self.buy_price = order.executed.price\n",
        "\n",
        "            elif order.issell():\n",
        "                # 매도 체결 로그 및 매수 가격 초기화\n",
        "                self.log(f'{cur_date} [매도 주문 실행] 종목: {order.data._name}  \\t 수량: {order.size}  \\t 가격: {order.executed.price:.2f}')\n",
        "                self.buy_price = None\n",
        "\n",
        "        # 주문 거부/취소/마진 부족 처리\n",
        "        elif order.status in [order.Canceled, order.Margin, order.Rejected]:\n",
        "            self.log(f'{cur_date} 주문이 거부되었습니다. 종목: {order.data._name}  \\t 수량: {order.size}')\n",
        "\n",
        "        # 모든 경우에 주문 플래그 초기화\n",
        "        self.order = None\n",
        "\n"
      ]
    },
    {
      "cell_type": "code",
      "source": [
        "if __name__ == '__main__':\n",
        "    import yfinance as yf\n",
        "\n",
        "    cerebro = bt.Cerebro()\n",
        "    cerebro.addstrategy(VolatilityBreakout)\n",
        "\n",
        "    # 초기 자본 및 수수료 세팅\n",
        "    cerebro.broker.setcash(10_000_000)\n",
        "    cerebro.broker.setcommission(commission=0.003)\n",
        "\n",
        "    # 데이터 로드\n",
        "    data = yf.download('BTC-USD', start='2020-01-01', end='2024-12-17')\n",
        "    data.columns = [col[0] if isinstance(col, tuple) else col for col in data.columns]\n",
        "    data_bt = bt.feeds.PandasData(dataname=data)\n",
        "    cerebro.adddata(data_bt)\n",
        "\n",
        "    print('Starting Portfolio Value:', cerebro.broker.getvalue())\n",
        "    cerebro.run()\n",
        "    print('Final Portfolio Value: %.2f' % cerebro.broker.getvalue())\n",
        "    print(f'수익률: {cerebro.broker.getvalue() / 10_000_000 * 100:.2f}%')\n"
      ],
      "metadata": {
        "colab": {
          "base_uri": "https://localhost:8080/"
        },
        "id": "AU2BAgotLXPV",
        "outputId": "a43791e4-0c44-4867-a274-0cf8ee0967a9"
      },
      "execution_count": 38,
      "outputs": [
        {
          "output_type": "stream",
          "name": "stderr",
          "text": [
            "\r[*********************100%***********************]  1 of 1 completed\n"
          ]
        },
        {
          "output_type": "stream",
          "name": "stdout",
          "text": [
            "Starting Portfolio Value: 10000000\n",
            "2020-01-28 [매수 주문 실행] 종목:   \t 수량: 1  \t 가격: 8912.52\n",
            "2020-03-13 [매도 주문 실행] 종목:   \t 수량: -1  \t 가격: 5017.83\n",
            "2020-03-14 [매수 주문 실행] 종목:   \t 수량: 1  \t 가격: 5573.08\n",
            "2020-03-25 [매도 주문 실행] 종목:   \t 수량: -1  \t 가격: 6738.72\n",
            "2020-03-31 [매수 주문 실행] 종목:   \t 수량: 1  \t 가격: 6430.61\n",
            "2020-04-28 [매도 주문 실행] 종목:   \t 수량: -1  \t 가격: 7796.97\n",
            "2020-04-30 [매수 주문 실행] 종목:   \t 수량: 1  \t 가격: 8797.67\n",
            "2020-07-28 [매도 주문 실행] 종목:   \t 수량: -1  \t 가격: 11017.46\n",
            "2020-07-30 [매수 주문 실행] 종목:   \t 수량: 1  \t 가격: 11099.83\n",
            "2020-10-28 [매도 주문 실행] 종목:   \t 수량: -1  \t 가격: 13654.21\n",
            "2020-11-01 [매수 주문 실행] 종목:   \t 수량: 1  \t 가격: 13781.00\n",
            "2020-11-17 [매도 주문 실행] 종목:   \t 수량: -1  \t 가격: 16685.69\n",
            "2020-11-18 [매수 주문 실행] 종목:   \t 수량: 1  \t 가격: 17645.19\n",
            "2020-12-17 [매도 주문 실행] 종목:   \t 수량: -1  \t 가격: 21308.35\n",
            "2020-12-18 [매수 주문 실행] 종목:   \t 수량: 1  \t 가격: 22806.80\n",
            "2020-12-31 [매도 주문 실행] 종목:   \t 수량: -1  \t 가격: 28841.57\n",
            "2021-01-03 [매수 주문 실행] 종목:   \t 수량: 1  \t 가격: 32129.41\n",
            "2021-01-08 [매도 주문 실행] 종목:   \t 수량: -1  \t 가격: 39381.77\n",
            "2021-01-09 [매수 주문 실행] 종목:   \t 수량: 1  \t 가격: 40788.64\n",
            "2021-01-22 [매도 주문 실행] 종목:   \t 수량: -1  \t 가격: 30817.62\n",
            "2021-01-29 [매수 주문 실행] 종목:   \t 수량: 1  \t 가격: 34318.67\n",
            "2021-02-09 [매도 주문 실행] 종목:   \t 수량: -1  \t 가격: 46184.99\n",
            "2021-02-12 [매수 주문 실행] 종목:   \t 수량: 1  \t 가격: 47877.04\n",
            "2021-02-22 [매도 주문 실행] 종목:   \t 수량: -1  \t 가격: 57532.74\n",
            "2021-03-02 [매수 주문 실행] 종목:   \t 수량: 1  \t 가격: 49612.11\n",
            "2021-03-14 [매도 주문 실행] 종목:   \t 수량: -1  \t 가격: 61221.13\n",
            "2021-04-11 [매수 주문 실행] 종목:   \t 수량: 1  \t 가격: 59846.23\n",
            "2021-05-16 [매도 주문 실행] 종목:   \t 수량: -1  \t 가격: 46716.64\n",
            "2021-05-21 [매수 주문 실행] 종목:   \t 수량: 1  \t 가격: 40596.95\n",
            "2021-06-22 [매도 주문 실행] 종목:   \t 수량: -1  \t 가격: 31622.38\n",
            "2021-07-22 [매수 주문 실행] 종목:   \t 수량: 1  \t 가격: 32138.87\n",
            "2021-07-28 [매도 주문 실행] 종목:   \t 수량: -1  \t 가격: 39503.19\n",
            "2021-07-31 [매수 주문 실행] 종목:   \t 수량: 1  \t 가격: 42196.30\n",
            "2021-09-06 [매도 주문 실행] 종목:   \t 수량: -1  \t 가격: 51769.00\n",
            "2021-09-23 [매수 주문 실행] 종목:   \t 수량: 1  \t 가격: 43560.30\n",
            "2021-10-07 [매도 주문 실행] 종목:   \t 수량: -1  \t 가격: 55338.62\n",
            "2021-10-12 [매수 주문 실행] 종목:   \t 수량: 1  \t 가격: 57526.83\n",
            "2022-01-05 [매도 주문 실행] 종목:   \t 수량: -1  \t 가격: 45899.36\n",
            "2022-02-05 [매수 주문 실행] 종목:   \t 수량: 1  \t 가격: 41501.48\n",
            "2022-05-10 [매도 주문 실행] 종목:   \t 수량: -1  \t 가격: 30273.65\n",
            "2022-05-11 [매수 주문 실행] 종목:   \t 수량: 1  \t 가격: 31016.18\n",
            "2022-06-14 [매도 주문 실행] 종목:   \t 수량: -1  \t 가격: 22487.99\n",
            "2022-07-08 [매수 주문 실행] 종목:   \t 수량: 1  \t 가격: 21637.15\n",
            "2022-11-10 [매도 주문 실행] 종목:   \t 수량: -1  \t 가격: 15883.16\n",
            "2022-11-11 [매수 주문 실행] 종목:   \t 수량: 1  \t 가격: 17583.25\n",
            "2023-01-17 [매도 주문 실행] 종목:   \t 수량: -1  \t 가격: 21175.83\n",
            "2023-01-21 [매수 주문 실행] 종목:   \t 수량: 1  \t 가격: 22677.43\n",
            "2023-03-18 [매도 주문 실행] 종목:   \t 수량: -1  \t 가격: 27448.12\n",
            "2023-03-20 [매수 주문 실행] 종목:   \t 수량: 1  \t 가격: 28041.60\n",
            "2023-10-25 [매도 주문 실행] 종목:   \t 수량: -1  \t 가격: 33916.04\n",
            "2023-10-26 [매수 주문 실행] 종목:   \t 수량: 1  \t 가격: 34504.29\n",
            "2023-12-05 [매도 주문 실행] 종목:   \t 수량: -1  \t 가격: 41986.27\n",
            "2023-12-06 [매수 주문 실행] 종목:   \t 수량: 1  \t 가격: 44080.02\n",
            "2024-02-27 [매도 주문 실행] 종목:   \t 수량: -1  \t 가격: 54519.36\n",
            "2024-02-28 [매수 주문 실행] 종목:   \t 수량: 1  \t 가격: 57071.10\n",
            "2024-03-10 [매도 주문 실행] 종목:   \t 수량: -1  \t 가격: 68500.26\n",
            "2024-03-12 [매수 주문 실행] 종목:   \t 수량: 1  \t 가격: 72125.12\n",
            "2024-07-05 [매도 주문 실행] 종목:   \t 수량: -1  \t 가격: 57022.81\n",
            "2024-07-16 [매수 주문 실행] 종목:   \t 수량: 1  \t 가격: 64784.42\n",
            "2024-11-11 [매도 주문 실행] 종목:   \t 수량: -1  \t 가격: 80471.41\n",
            "2024-11-12 [매수 주문 실행] 종목:   \t 수량: 1  \t 가격: 88705.56\n",
            "Final Portfolio Value: 10070886.92\n",
            "수익률: 100.71%\n"
          ]
        }
      ]
    },
    {
      "cell_type": "code",
      "execution_count": 39,
      "metadata": {
        "id": "WfM0iHZ8CDt1"
      },
      "outputs": [],
      "source": [
        "import backtrader as bt\n",
        "import yfinance as yf\n",
        "import datetime\n",
        "\n",
        "# 리스크 고정 투자법 전략\n",
        "class VolatilityBreakoutFixedRiskStrategy(bt.Strategy):\n",
        "    params = (\n",
        "        ('risk_percent', 0.02),  # 리스크 비율 (2%)\n",
        "        ('atr_period', 14),  # ATR 계산 기간\n",
        "        ('atr_multiplier', 2),  # ATR 곱하여 손절 가격 설정\n",
        "    )\n",
        "\n",
        "    def __init__(self):\n",
        "        # ATR 계산 (변동성을 기준으로 손절 가격 설정)\n",
        "        self.atr = bt.indicators.ATR(self.data, period=self.p.atr_period)\n",
        "\n",
        "        # 주문 상태 및 매수/손절 관련 변수 초기화\n",
        "        self.order = None  # 주문 상태 초기화\n",
        "        self.buy_price = None  # 초기 매수 가격 (초기화 추가)\n",
        "\n",
        "    def calculate_position_size(self, entry_price, stop_loss_price):\n",
        "        \"\"\"포지션 크기 계산: 리스크 고정 투자법 적용\"\"\"\n",
        "        # 계좌에서 허용되는 리스크 금액\n",
        "        risk_amount = self.broker.getvalue() * self.p.risk_percent\n",
        "        # 한 주당 손실\n",
        "        per_unit_risk = abs(entry_price - stop_loss_price)\n",
        "        # 포지션 크기 계산\n",
        "        if per_unit_risk > 0:\n",
        "            position_size = risk_amount / per_unit_risk\n",
        "            return int(position_size)  # 소수점 제거\n",
        "        return 0\n",
        "\n",
        "    def next(self):\n",
        "        if self.order:  # 주문이 처리 중이면 대기\n",
        "            return\n",
        "\n",
        "        if not self.position:  # 포지션이 없는 경우\n",
        "            entry_price = self.data.close[0]\n",
        "            stop_loss_price = entry_price - (self.atr[0] * self.p.atr_multiplier)\n",
        "\n",
        "            # 목표 가격 돌파 시 매수\n",
        "            if self.data.close[0] > self.data.open[0]:  # 간단한 상승 신호\n",
        "                position_size = self.calculate_position_size(entry_price, stop_loss_price)\n",
        "                if position_size > 0:\n",
        "                    self.buy_price = entry_price  # 매수 가격 기록\n",
        "                    self.order = self.buy(size=position_size)\n",
        "        else:  # 포지션이 있는 경우\n",
        "            current_price = self.data.close[0]\n",
        "\n",
        "            # 손절 조건: 현재 가격이 손절 가격보다 낮아지면 매도\n",
        "            if current_price < self.buy_price - (self.atr[0] * self.p.atr_multiplier):\n",
        "                self.order = self.sell(size=self.position.size)\n",
        "\n",
        "    def notify_order(self, order):\n",
        "        if order.status in [order.Completed, order.Canceled, order.Rejected]:\n",
        "            self.order = None  # 주문 완료 후 초기화\n"
      ]
    },
    {
      "cell_type": "code",
      "source": [
        "if __name__ == '__main__':\n",
        "\n",
        "  cerebro = bt.Cerebro()\n",
        "  cerebro.addstrategy(VolatilityBreakoutFixedRiskStrategy)\n",
        "  cerebro.broker.setcommission(commission=0.003) # 수수료 0.3%\n",
        "  cerebro.broker.setcash(10_000_000)\n",
        "\n",
        "  print('Starting Portfolio Value: %.2f' % cerebro.broker.getvalue())\n",
        "  data = yf.download('BTC-USD', start='2020-01-01', end='2024-12-17')\n",
        "  # 열 이름 전처리\n",
        "  data.columns = [col[0] if isinstance(col, tuple) else col for col in data.columns]\n",
        "  data_bt = bt.feeds.PandasData(dataname=data)\n",
        "  cerebro.adddata(data_bt)\n",
        "  cerebro.run()\n",
        "  print('Final Portfolio Value: %.2f' % cerebro.broker.getvalue())\n",
        "  print(f'수익률: {cerebro.broker.getvalue() / 10_000_000 * 100:.2f}%')"
      ],
      "metadata": {
        "colab": {
          "base_uri": "https://localhost:8080/"
        },
        "id": "Ieec2vd-TC5m",
        "outputId": "4f072818-a665-47c5-cb5f-1d5aa33146fb"
      },
      "execution_count": 40,
      "outputs": [
        {
          "output_type": "stream",
          "name": "stderr",
          "text": [
            "\r[*********************100%***********************]  1 of 1 completed"
          ]
        },
        {
          "output_type": "stream",
          "name": "stdout",
          "text": [
            "Starting Portfolio Value: 10000000.00\n"
          ]
        },
        {
          "output_type": "stream",
          "name": "stderr",
          "text": [
            "\n"
          ]
        },
        {
          "output_type": "stream",
          "name": "stdout",
          "text": [
            "Final Portfolio Value: 23244720.01\n",
            "수익률: 232.45%\n"
          ]
        }
      ]
    }
  ],
  "metadata": {
    "kernelspec": {
      "display_name": "stat",
      "language": "python",
      "name": "python3"
    },
    "language_info": {
      "codemirror_mode": {
        "name": "ipython",
        "version": 3
      },
      "file_extension": ".py",
      "mimetype": "text/x-python",
      "name": "python",
      "nbconvert_exporter": "python",
      "pygments_lexer": "ipython3",
      "version": "3.10.14"
    },
    "colab": {
      "provenance": []
    }
  },
  "nbformat": 4,
  "nbformat_minor": 0
}