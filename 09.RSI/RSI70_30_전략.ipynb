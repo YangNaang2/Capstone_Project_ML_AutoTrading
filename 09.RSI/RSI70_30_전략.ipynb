{
  "nbformat": 4,
  "nbformat_minor": 0,
  "metadata": {
    "colab": {
      "provenance": []
    },
    "kernelspec": {
      "name": "python3",
      "display_name": "Python 3"
    },
    "language_info": {
      "name": "python"
    }
  },
  "cells": [
    {
      "cell_type": "markdown",
      "source": [
        "RSI 지표 과매수(70)시 매도 청산,  RSI 지표 과매도(30)시 매수 진입"
      ],
      "metadata": {
        "id": "KBEdCZZukvxD"
      }
    },
    {
      "cell_type": "code",
      "source": [
        "!pip install backtrader\n",
        "!pip install yfinance"
      ],
      "metadata": {
        "colab": {
          "base_uri": "https://localhost:8080/"
        },
        "id": "IVN6z4iRku6n",
        "outputId": "7d021437-34f1-4f9f-a3c7-f184b8c22b37"
      },
      "execution_count": null,
      "outputs": [
        {
          "output_type": "stream",
          "name": "stdout",
          "text": [
            "Collecting backtrader\n",
            "  Downloading backtrader-1.9.78.123-py2.py3-none-any.whl.metadata (6.8 kB)\n",
            "Downloading backtrader-1.9.78.123-py2.py3-none-any.whl (419 kB)\n",
            "\u001b[2K   \u001b[90m━━━━━━━━━━━━━━━━━━━━━━━━━━━━━━━━━━━━━━━━\u001b[0m \u001b[32m419.5/419.5 kB\u001b[0m \u001b[31m6.0 MB/s\u001b[0m eta \u001b[36m0:00:00\u001b[0m\n",
            "\u001b[?25hInstalling collected packages: backtrader\n",
            "Successfully installed backtrader-1.9.78.123\n",
            "Requirement already satisfied: yfinance in /usr/local/lib/python3.11/dist-packages (0.2.52)\n",
            "Requirement already satisfied: pandas>=1.3.0 in /usr/local/lib/python3.11/dist-packages (from yfinance) (2.2.2)\n",
            "Requirement already satisfied: numpy>=1.16.5 in /usr/local/lib/python3.11/dist-packages (from yfinance) (1.26.4)\n",
            "Requirement already satisfied: requests>=2.31 in /usr/local/lib/python3.11/dist-packages (from yfinance) (2.32.3)\n",
            "Requirement already satisfied: multitasking>=0.0.7 in /usr/local/lib/python3.11/dist-packages (from yfinance) (0.0.11)\n",
            "Requirement already satisfied: lxml>=4.9.1 in /usr/local/lib/python3.11/dist-packages (from yfinance) (5.3.0)\n",
            "Requirement already satisfied: platformdirs>=2.0.0 in /usr/local/lib/python3.11/dist-packages (from yfinance) (4.3.6)\n",
            "Requirement already satisfied: pytz>=2022.5 in /usr/local/lib/python3.11/dist-packages (from yfinance) (2024.2)\n",
            "Requirement already satisfied: frozendict>=2.3.4 in /usr/local/lib/python3.11/dist-packages (from yfinance) (2.4.6)\n",
            "Requirement already satisfied: peewee>=3.16.2 in /usr/local/lib/python3.11/dist-packages (from yfinance) (3.17.8)\n",
            "Requirement already satisfied: beautifulsoup4>=4.11.1 in /usr/local/lib/python3.11/dist-packages (from yfinance) (4.12.3)\n",
            "Requirement already satisfied: html5lib>=1.1 in /usr/local/lib/python3.11/dist-packages (from yfinance) (1.1)\n",
            "Requirement already satisfied: soupsieve>1.2 in /usr/local/lib/python3.11/dist-packages (from beautifulsoup4>=4.11.1->yfinance) (2.6)\n",
            "Requirement already satisfied: six>=1.9 in /usr/local/lib/python3.11/dist-packages (from html5lib>=1.1->yfinance) (1.17.0)\n",
            "Requirement already satisfied: webencodings in /usr/local/lib/python3.11/dist-packages (from html5lib>=1.1->yfinance) (0.5.1)\n",
            "Requirement already satisfied: python-dateutil>=2.8.2 in /usr/local/lib/python3.11/dist-packages (from pandas>=1.3.0->yfinance) (2.8.2)\n",
            "Requirement already satisfied: tzdata>=2022.7 in /usr/local/lib/python3.11/dist-packages (from pandas>=1.3.0->yfinance) (2025.1)\n",
            "Requirement already satisfied: charset-normalizer<4,>=2 in /usr/local/lib/python3.11/dist-packages (from requests>=2.31->yfinance) (3.4.1)\n",
            "Requirement already satisfied: idna<4,>=2.5 in /usr/local/lib/python3.11/dist-packages (from requests>=2.31->yfinance) (3.10)\n",
            "Requirement already satisfied: urllib3<3,>=1.21.1 in /usr/local/lib/python3.11/dist-packages (from requests>=2.31->yfinance) (2.3.0)\n",
            "Requirement already satisfied: certifi>=2017.4.17 in /usr/local/lib/python3.11/dist-packages (from requests>=2.31->yfinance) (2024.12.14)\n"
          ]
        }
      ]
    },
    {
      "cell_type": "code",
      "execution_count": null,
      "metadata": {
        "id": "x6HXl1nmkklM"
      },
      "outputs": [],
      "source": [
        "import backtrader as bt\n",
        "import math\n",
        "import yfinance as yf"
      ]
    },
    {
      "cell_type": "code",
      "source": [
        "class RSI(bt.Strategy):\n",
        "    params = dict(\n",
        "        rsi_period=14,  # RSI 기간 설정\n",
        "        rsi_low=30,  # RSI low 설정\n",
        "        rsi_high=70  # RSI high 설정\n",
        "    )\n",
        "    def __init__(self):\n",
        "        # RSI 지표 정의\n",
        "        self.rsi = bt.indicators.RSI_SMA(self.data.close, period=self.params.rsi_period)\n",
        "        # 매수 신호 추적 변수\n",
        "        self.order = None\n",
        "\n",
        "    def next(self):\n",
        "        if self.order:  # 만약 주문이 있으면 대기\n",
        "            return\n",
        "        # 포지션이 없을 때(시장 미진입 상태)\n",
        "        if not self.position:\n",
        "            # RSI < 30이면 매수 진입 시도\n",
        "            if self.rsi[-1] <= self.params.rsi_low < self.rsi[0]:  # RSI가 rsi_low보다 낮은지 확인하고 매수\n",
        "                order_size = math.floor(self.broker.get_value() / self.datas[0].close * 0.99)\n",
        "                self.buy(size=order_size)\n",
        "\n",
        "        # 포지션이 있을 때(시장 진입 상태)\n",
        "        else:\n",
        "            if self.rsi[-1] >= self.p.rsi_high > self.rsi[0]:  # RSI가 rsi_high보다 높은지 확인하고 매도\n",
        "                self.close()\n",
        "\n",
        "    def log(self, message):\n",
        "        print(message)\n",
        "\n",
        "    def notify_order(self, order):\n",
        "        if order.status in [order.Submitted, order.Accepted]:\n",
        "            # Buy/Sell order submitted/accepted to/by broker - Nothing to do\n",
        "            return\n",
        "\n",
        "        # Check if an order has been completed\n",
        "        # Attention: broker could reject order if not enough cash\n",
        "        cur_date = None\n",
        "        if order.status in [order.Completed]:\n",
        "            cur_date = order.data.datetime.date(0)\n",
        "            if order.isbuy():\n",
        "                self.log(\n",
        "                    f'{cur_date} [매수 주문 실행] 종목: {order.data._name} \\t 수량: {order.size} \\t 가격: {order.executed.price:.2f}')\n",
        "            elif order.issell():\n",
        "                self.log(\n",
        "                    f'{cur_date} [매도 주문 실행] 종목: {order.data._name} \\t 수량: {order.size} \\t 가격: {order.executed.price:.2f}')\n",
        "            self.bar_executed = len(self)\n",
        "\n",
        "        elif order.status in [order.Canceled, order.Margin, order.Rejected]:\n",
        "            self.log(\n",
        "                f'{cur_date} 주문이 거부되었습니다. 종목: {order.data._name} \\t 수량: {order.size} \\t 가격: {order.executed.price:.2f}')\n"
      ],
      "metadata": {
        "id": "nh4pO-zqmXBM"
      },
      "execution_count": null,
      "outputs": []
    },
    {
      "cell_type": "code",
      "source": [
        "if __name__ == '__main__':\n",
        "\n",
        "    cerebro = bt.Cerebro()\n",
        "    cerebro.addstrategy(RSI)\n",
        "    cerebro.broker.setcommission(commission=0.003) # 수수료 0.3%\n",
        "    cerebro.broker.setcash(10_000_000)\n",
        "\n",
        "    print('Starting Portfolio Value: %.2f' % cerebro.broker.getvalue())\n",
        "    data = yf.download('BTC-USD', start='2020-01-01', end='2024-12-01')\n",
        "    # 열 이름 전처리\n",
        "    data.columns = [col[0] if isinstance(col, tuple) else col for col in data.columns]\n",
        "    data_bt = bt.feeds.PandasData(dataname=data)\n",
        "    cerebro.adddata(data_bt)\n",
        "    cerebro.run()\n",
        "    print('Final Portfolio Value: %.2f' % cerebro.broker.getvalue())\n",
        "    print(f'수익률: {cerebro.broker.getvalue() / 10_000_000 * 100:.2f}%')\n"
      ],
      "metadata": {
        "colab": {
          "base_uri": "https://localhost:8080/"
        },
        "id": "hGa7ybRCp3n5",
        "outputId": "244c5855-78c9-4027-9476-d9d37f0f567c"
      },
      "execution_count": null,
      "outputs": [
        {
          "output_type": "stream",
          "name": "stdout",
          "text": [
            "Starting Portfolio Value: 10000000.00\n"
          ]
        },
        {
          "output_type": "stream",
          "name": "stderr",
          "text": [
            "\r[*********************100%***********************]  1 of 1 completed\n"
          ]
        },
        {
          "output_type": "stream",
          "name": "stdout",
          "text": [
            "2020-03-03 [매수 주문 실행] 종목:  \t 수량: 1116 \t 가격: 8865.39\n",
            "2020-03-28 [매도 주문 실행] 종목:  \t 수량: -1116 \t 가격: 6467.25\n",
            "2020-09-05 [매수 주문 실행] 종목:  \t 수량: 684 \t 가격: 10512.53\n",
            "2020-09-21 [매도 주문 실행] 종목:  \t 수량: -684 \t 가격: 10934.93\n",
            "2021-04-27 [매수 주문 실행] 종목:  \t 수량: 137 \t 가격: 54030.30\n",
            "2021-08-11 [매도 주문 실행] 종목:  \t 수량: -137 \t 가격: 45599.70\n",
            "2021-09-22 [매수 주문 실행] 종목:  \t 수량: 153 \t 가격: 40677.95\n",
            "2021-10-23 [매도 주문 실행] 종목:  \t 수량: -153 \t 가격: 60694.63\n",
            "None 주문이 거부되었습니다. 종목:  \t 수량: 161 \t 가격: 0.00\n",
            "2021-11-28 [매수 주문 실행] 종목:  \t 수량: 168 \t 가격: 54813.02\n",
            "2022-02-12 [매도 주문 실행] 종목:  \t 수량: -168 \t 가격: 42412.30\n",
            "2022-02-25 [매수 주문 실행] 종목:  \t 수량: 186 \t 가격: 38333.75\n",
            "2022-04-03 [매도 주문 실행] 종목:  \t 수량: -186 \t 가격: 45859.13\n",
            "2022-04-20 [매수 주문 실행] 종목:  \t 수량: 204 \t 가격: 41501.75\n",
            "2022-08-10 [매도 주문 실행] 종목:  \t 수량: -204 \t 가격: 23162.90\n",
            "2022-09-03 [매수 주문 실행] 종목:  \t 수량: 236 \t 가격: 19969.72\n",
            "2022-10-28 [매도 주문 실행] 종목:  \t 수량: -236 \t 가격: 20287.96\n",
            "2022-11-11 [매수 주문 실행] 종목:  \t 수량: 271 \t 가격: 17583.25\n",
            "2022-12-15 [매도 주문 실행] 종목:  \t 수량: -271 \t 가격: 17813.64\n",
            "2022-12-30 [매수 주문 실행] 종목:  \t 수량: 288 \t 가격: 16641.33\n",
            "2023-01-31 [매도 주문 실행] 종목:  \t 수량: -288 \t 가격: 22840.80\n",
            "2023-03-06 [매수 주문 실행] 종목:  \t 수량: 291 \t 가격: 22436.82\n",
            "2023-03-28 [매도 주문 실행] 종목:  \t 수량: -291 \t 가격: 27132.89\n",
            "2023-05-16 [매수 주문 실행] 종목:  \t 수량: 288 \t 가격: 27171.51\n",
            "2023-07-06 [매도 주문 실행] 종목:  \t 수량: -288 \t 가격: 30507.15\n",
            "2023-07-29 [매수 주문 실행] 종목:  \t 수량: 298 \t 가격: 29319.45\n",
            "2023-10-10 [매도 주문 실행] 종목:  \t 수량: -298 \t 가격: 27589.20\n",
            "2024-01-27 [매수 주문 실행] 종목:  \t 수량: 195 \t 가격: 41815.62\n",
            "2024-02-26 [매도 주문 실행] 종목:  \t 수량: -195 \t 가격: 51730.54\n",
            "2024-07-01 [매수 주문 실행] 종목:  \t 수량: 160 \t 가격: 62673.61\n",
            "2024-07-30 [매도 주문 실행] 종목:  \t 수량: -160 \t 가격: 66819.05\n",
            "2024-08-09 [매수 주문 실행] 종목:  \t 수량: 172 \t 가격: 61728.21\n",
            "2024-10-01 [매도 주문 실행] 종목:  \t 수량: -172 \t 가격: 63335.61\n",
            "2024-10-12 [매수 주문 실행] 종목:  \t 수량: 173 \t 가격: 62444.62\n",
            "2024-10-22 [매도 주문 실행] 종목:  \t 수량: -173 \t 가격: 67360.70\n",
            "Final Portfolio Value: 11751126.95\n",
            "수익률: 117.51%\n"
          ]
        }
      ]
    },
    {
      "cell_type": "markdown",
      "source": [
        "수익률이 매우 좋지 않다. 이번에는 종목 두 개(BTC, ETH)로 백테스팅 해 볼 예정"
      ],
      "metadata": {
        "id": "axmnJePBroDe"
      }
    },
    {
      "cell_type": "code",
      "source": [
        "class RSI_MULTI(bt.Strategy):\n",
        "    params = dict(\n",
        "        rsi_period=14,  # RSI 기간 설정\n",
        "        rsi_low=30,  # RSI low 설정\n",
        "        rsi_high=70  # RSI high 설정\n",
        "    )\n",
        "\n",
        "    def __init__(self):\n",
        "        self.rsi = bt.indicators.RSI_SMA(self.data.close, period=self.p.rsi_period)\n",
        "        self.ind = dict()\n",
        "        for i, v in enumerate(self.datas):\n",
        "            self.ind[v] = dict()\n",
        "\n",
        "    def next(self):\n",
        "        for i, v in enumerate(self.datas):\n",
        "            if self.getposition(v).size == 0:  # 포지션이 없을 경우\n",
        "                if self.rsi[-1] <= self.p.rsi_low < self.rsi[0]:  # RSI가 rsi_low보다 낮은지 확인하고 매수\n",
        "                    # 진입 가능 포지션 계산 (현금 / 현재가격)\n",
        "                    if self.broker.get_cash() == self.broker.get_value():\n",
        "                        # 진입한 종목이 없을 시 현재 보유한 현금 중 절반을 매수(수수료 때문에 0.99을 곱해줌)\n",
        "                        order_size = math.floor(self.broker.get_cash() / v.close[0] / 2 * 0.99)\n",
        "                    else:\n",
        "                        # 진입한 종목이 있을 경우 나머지 현금으로 모두 매수(수수료 때문에 0.99을 곱해줌)\n",
        "                        order_size = math.floor(self.broker.get_cash() / v.close[0] * 0.99)\n",
        "                    self.buy(data=v, size=order_size)\n",
        "            elif self.rsi[-1] >= self.p.rsi_high > self.rsi[0]:  # RSI가 rsi_high보다 높은지 확인하고 매도\n",
        "                self.close(v)\n",
        "\n",
        "    def log(self, message):\n",
        "        print(message)\n",
        "\n",
        "    def notify_order(self, order):\n",
        "        if order.status in [order.Submitted, order.Accepted]:\n",
        "            # Buy/Sell order submitted/accepted to/by broker - Nothing to do\n",
        "            return\n",
        "\n",
        "        # Check if an order has been completed\n",
        "        # Attention: broker could reject order if not enough cash\n",
        "        cur_date = None\n",
        "        if order.status in [order.Completed]:\n",
        "            cur_date = order.data.datetime.date(0)\n",
        "            if order.isbuy():\n",
        "                self.log(\n",
        "                    f'{cur_date} [매수 주문 실행] 종목: {order.data._name} \\t 수량: {order.size} \\t 가격: {order.executed.price:.2f}')\n",
        "            elif order.issell():\n",
        "                self.log(\n",
        "                    f'{cur_date} [매도 주문 실행] 종목: {order.data._name} \\t 수량: {order.size} \\t 가격: {order.executed.price:.2f}')\n",
        "            self.bar_executed = len(self)\n",
        "\n",
        "        elif order.status in [order.Canceled, order.Margin, order.Rejected]:\n",
        "            self.log(\n",
        "                f'{cur_date} 주문이 거부되었습니다. 종목: {order.data._name} \\t 수량: {order.size} \\t 가격: {order.executed.price:.2f}')\n",
        "\n",
        "\n"
      ],
      "metadata": {
        "id": "mOR4dBTfrdLY"
      },
      "execution_count": null,
      "outputs": []
    },
    {
      "cell_type": "code",
      "source": [
        "if __name__ == \"__main__\":\n",
        "    cerebro = bt.Cerebro()\n",
        "    cerebro.broker.setcommission(commission=0.003)  # 0.3% 수수료 성정\n",
        "    cerebro.broker.setcash(10_000_000)\n",
        "    cerebro.addstrategy(RSI_MULTI)\n",
        "    print(\"시작 포트폴리오 가격: %.2f\" % cerebro.broker.get_value())\n",
        "\n",
        "    # 여러 티커 설정\n",
        "    tickers = ['BTC-USD', 'ETH-USD']\n",
        "    for ticker in tickers:\n",
        "        data = yf.download(ticker, start='2020-01-01', end='2024-12-01')\n",
        "        # 컬럼 이름 정리\n",
        "        data.columns = [col[0] if isinstance(col, tuple) else col for col in data.columns]\n",
        "        # Backtrader 데이터 피드로 변환\n",
        "        data_bt = bt.feeds.PandasData(dataname=data)\n",
        "        # Cerebro에 해당 티커 추가\n",
        "        # name 파라미터로 구분 이름을 붙일 수도 있음(예: name=ticker)\n",
        "        cerebro.adddata(data_bt, name=ticker)\n",
        "\n",
        "    # 백테스트 실행\n",
        "    cerebro.run()\n",
        "    print('Final Portfolio Value: %.2f' % cerebro.broker.getvalue())\n",
        "    print(f'수익률: {cerebro.broker.getvalue() / 10_000_000 * 100:.2f}%')"
      ],
      "metadata": {
        "colab": {
          "base_uri": "https://localhost:8080/"
        },
        "id": "Cvn7zK2usPWV",
        "outputId": "4e2627ae-34de-4318-f97c-ca45ca42c5e2"
      },
      "execution_count": null,
      "outputs": [
        {
          "output_type": "stream",
          "name": "stderr",
          "text": [
            "[*********************100%***********************]  1 of 1 completed\n",
            "[*********************100%***********************]  1 of 1 completed"
          ]
        },
        {
          "output_type": "stream",
          "name": "stdout",
          "text": [
            "시작 포트폴리오 가격: 10000000.00\n"
          ]
        },
        {
          "output_type": "stream",
          "name": "stderr",
          "text": [
            "\n"
          ]
        },
        {
          "output_type": "stream",
          "name": "stdout",
          "text": [
            "2020-03-03 [매수 주문 실행] 종목: BTC-USD \t 수량: 558 \t 가격: 8865.39\n",
            "2020-03-03 [매수 주문 실행] 종목: ETH-USD \t 수량: 21468 \t 가격: 230.52\n",
            "2020-03-28 [매도 주문 실행] 종목: BTC-USD \t 수량: -558 \t 가격: 6467.25\n",
            "2020-03-28 [매도 주문 실행] 종목: ETH-USD \t 수량: -21468 \t 가격: 134.03\n",
            "2020-09-05 [매수 주문 실행] 종목: BTC-USD \t 수량: 308 \t 가격: 10512.53\n",
            "2020-09-05 [매수 주문 실행] 종목: ETH-USD \t 수량: 8339 \t 가격: 388.04\n",
            "2020-09-21 [매도 주문 실행] 종목: BTC-USD \t 수량: -308 \t 가격: 10934.93\n",
            "2020-09-21 [매도 주문 실행] 종목: ETH-USD \t 수량: -8339 \t 가격: 371.40\n",
            "2021-04-27 [매수 주문 실행] 종목: BTC-USD \t 수량: 59 \t 가격: 54030.30\n",
            "2021-04-27 [매수 주문 실행] 종목: ETH-USD \t 수량: 1268 \t 가격: 2534.03\n",
            "2021-08-11 [매도 주문 실행] 종목: BTC-USD \t 수량: -59 \t 가격: 45599.70\n",
            "2021-08-11 [매도 주문 실행] 종목: ETH-USD \t 수량: -1268 \t 가격: 3142.83\n",
            "2021-09-22 [매수 주문 실행] 종목: BTC-USD \t 수량: 81 \t 가격: 40677.95\n",
            "2021-09-22 [매수 주문 실행] 종목: ETH-USD \t 수량: 1204 \t 가격: 2763.21\n",
            "2021-10-23 [매도 주문 실행] 종목: BTC-USD \t 수량: -81 \t 가격: 60694.63\n",
            "2021-10-23 [매도 주문 실행] 종목: ETH-USD \t 수량: -1204 \t 가격: 3971.36\n",
            "2021-11-26 [매수 주문 실행] 종목: BTC-USD \t 수량: 84 \t 가격: 58960.29\n",
            "None 주문이 거부되었습니다. 종목: ETH-USD \t 수량: 1129 \t 가격: 0.00\n",
            "2021-11-28 [매수 주문 실행] 종목: ETH-USD \t 수량: 1157 \t 가격: 4101.65\n",
            "2022-02-12 [매도 주문 실행] 종목: BTC-USD \t 수량: -84 \t 가격: 42412.30\n",
            "2022-02-12 [매도 주문 실행] 종목: ETH-USD \t 수량: -1157 \t 가격: 2927.39\n",
            "2022-02-25 [매수 주문 실행] 종목: BTC-USD \t 수량: 89 \t 가격: 38333.75\n",
            "2022-02-25 [매수 주문 실행] 종목: ETH-USD \t 수량: 1325 \t 가격: 2598.44\n",
            "2022-04-03 [매도 주문 실행] 종목: BTC-USD \t 수량: -89 \t 가격: 45859.13\n",
            "2022-04-03 [매도 주문 실행] 종목: ETH-USD \t 수량: -1325 \t 가격: 3444.81\n",
            "2022-04-20 [매수 주문 실행] 종목: BTC-USD \t 수량: 103 \t 가격: 41501.75\n",
            "2022-04-20 [매수 주문 실행] 종목: ETH-USD \t 수량: 1387 \t 가격: 3103.94\n",
            "2022-08-10 [매도 주문 실행] 종목: BTC-USD \t 수량: -103 \t 가격: 23162.90\n",
            "2022-08-10 [매도 주문 실행] 종목: ETH-USD \t 수량: -1387 \t 가격: 1702.91\n",
            "2022-09-03 [매수 주문 실행] 종목: BTC-USD \t 수량: 119 \t 가격: 19969.72\n",
            "2022-09-03 [매수 주문 실행] 종목: ETH-USD \t 수량: 1515 \t 가격: 1577.21\n",
            "2022-10-28 [매도 주문 실행] 종목: BTC-USD \t 수량: -119 \t 가격: 20287.96\n",
            "2022-10-28 [매도 주문 실행] 종목: ETH-USD \t 수량: -1515 \t 가격: 1514.32\n",
            "2022-11-11 [매수 주문 실행] 종목: BTC-USD \t 수량: 133 \t 가격: 17583.25\n",
            "2022-11-11 [매수 주문 실행] 종목: ETH-USD \t 수량: 1807 \t 가격: 1298.88\n",
            "2022-12-15 [매도 주문 실행] 종목: BTC-USD \t 수량: -133 \t 가격: 17813.64\n",
            "2022-12-15 [매도 주문 실행] 종목: ETH-USD \t 수량: -1807 \t 가격: 1309.19\n",
            "2022-12-30 [매수 주문 실행] 종목: BTC-USD \t 수량: 141 \t 가격: 16641.33\n",
            "2022-12-30 [매수 주문 실행] 종목: ETH-USD \t 수량: 1963 \t 가격: 1201.57\n",
            "2023-01-31 [매도 주문 실행] 종목: BTC-USD \t 수량: -141 \t 가격: 22840.80\n",
            "2023-01-31 [매도 주문 실행] 종목: ETH-USD \t 수량: -1963 \t 가격: 1567.42\n",
            "2023-03-06 [매수 주문 실행] 종목: BTC-USD \t 수량: 139 \t 가격: 22436.82\n",
            "2023-03-06 [매수 주문 실행] 종목: ETH-USD \t 수량: 2001 \t 가격: 1564.38\n",
            "2023-03-28 [매도 주문 실행] 종목: BTC-USD \t 수량: -139 \t 가격: 27132.89\n",
            "2023-03-28 [매도 주문 실행] 종목: ETH-USD \t 수량: -2001 \t 가격: 1715.33\n",
            "2023-05-16 [매수 주문 실행] 종목: BTC-USD \t 수량: 131 \t 가격: 27171.51\n",
            "2023-05-16 [매수 주문 실행] 종목: ETH-USD \t 수량: 1971 \t 가격: 1816.82\n",
            "2023-07-06 [매도 주문 실행] 종목: BTC-USD \t 수량: -131 \t 가격: 30507.15\n",
            "2023-07-06 [매도 주문 실행] 종목: ETH-USD \t 수량: -1971 \t 가격: 1910.42\n",
            "2023-07-29 [매수 주문 실행] 종목: BTC-USD \t 수량: 131 \t 가격: 29319.45\n",
            "2023-07-29 [매수 주문 실행] 종목: ETH-USD \t 수량: 2063 \t 가격: 1874.56\n",
            "2023-10-10 [매도 주문 실행] 종목: BTC-USD \t 수량: -131 \t 가격: 27589.20\n",
            "2023-10-10 [매도 주문 실행] 종목: ETH-USD \t 수량: -2063 \t 가격: 1580.11\n",
            "2024-01-27 [매수 주문 실행] 종목: BTC-USD \t 수량: 82 \t 가격: 41815.62\n",
            "2024-01-27 [매수 주문 실행] 종목: ETH-USD \t 수량: 1514 \t 가격: 2267.32\n",
            "2024-02-26 [매도 주문 실행] 종목: BTC-USD \t 수량: -82 \t 가격: 51730.54\n",
            "2024-02-26 [매도 주문 실행] 종목: ETH-USD \t 수량: -1514 \t 가격: 3112.53\n",
            "2024-07-01 [매수 주문 실행] 종목: BTC-USD \t 수량: 70 \t 가격: 62673.61\n",
            "2024-07-01 [매수 주문 실행] 종목: ETH-USD \t 수량: 1295 \t 가격: 3432.61\n",
            "2024-07-30 [매도 주문 실행] 종목: BTC-USD \t 수량: -70 \t 가격: 66819.05\n",
            "2024-07-30 [매도 주문 실행] 종목: ETH-USD \t 수량: -1295 \t 가격: 3320.64\n",
            "2024-08-09 [매수 주문 실행] 종목: BTC-USD \t 수량: 72 \t 가격: 61728.21\n",
            "2024-08-09 [매수 주문 실행] 종목: ETH-USD \t 수량: 1674 \t 가격: 2683.72\n",
            "2024-10-01 [매도 주문 실행] 종목: BTC-USD \t 수량: -72 \t 가격: 63335.61\n",
            "2024-10-01 [매도 주문 실행] 종목: ETH-USD \t 수량: -1674 \t 가격: 2603.26\n",
            "2024-10-12 [매수 주문 실행] 종목: BTC-USD \t 수량: 71 \t 가격: 62444.62\n",
            "2024-10-12 [매수 주문 실행] 종목: ETH-USD \t 수량: 1828 \t 가격: 2436.52\n",
            "2024-10-22 [매도 주문 실행] 종목: BTC-USD \t 수량: -71 \t 가격: 67360.70\n",
            "2024-10-22 [매도 주문 실행] 종목: ETH-USD \t 수량: -1828 \t 가격: 2665.66\n",
            "Final Portfolio Value: 9714586.18\n",
            "수익률: 97.15%\n"
          ]
        }
      ]
    },
    {
      "cell_type": "markdown",
      "source": [
        "오히려 손해를 봤다."
      ],
      "metadata": {
        "id": "lSuus2CJuSCp"
      }
    }
  ]
}