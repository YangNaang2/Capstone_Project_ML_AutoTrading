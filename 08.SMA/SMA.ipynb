{
  "nbformat": 4,
  "nbformat_minor": 0,
  "metadata": {
    "colab": {
      "provenance": []
    },
    "kernelspec": {
      "name": "python3",
      "display_name": "Python 3"
    },
    "language_info": {
      "name": "python"
    }
  },
  "cells": [
    {
      "cell_type": "code",
      "source": [
        "!pip install backtrader\n",
        "!pip install yfinance"
      ],
      "metadata": {
        "colab": {
          "base_uri": "https://localhost:8080/"
        },
        "id": "lJptvyrzfV9o",
        "outputId": "ceed908e-6083-442d-aad4-f9c0a90c22fa"
      },
      "execution_count": null,
      "outputs": [
        {
          "output_type": "stream",
          "name": "stdout",
          "text": [
            "Collecting backtrader\n",
            "  Downloading backtrader-1.9.78.123-py2.py3-none-any.whl.metadata (6.8 kB)\n",
            "Downloading backtrader-1.9.78.123-py2.py3-none-any.whl (419 kB)\n",
            "\u001b[2K   \u001b[90m━━━━━━━━━━━━━━━━━━━━━━━━━━━━━━━━━━━━━━━━\u001b[0m \u001b[32m419.5/419.5 kB\u001b[0m \u001b[31m4.6 MB/s\u001b[0m eta \u001b[36m0:00:00\u001b[0m\n",
            "\u001b[?25hInstalling collected packages: backtrader\n",
            "Successfully installed backtrader-1.9.78.123\n",
            "Requirement already satisfied: yfinance in /usr/local/lib/python3.11/dist-packages (0.2.52)\n",
            "Requirement already satisfied: pandas>=1.3.0 in /usr/local/lib/python3.11/dist-packages (from yfinance) (2.2.2)\n",
            "Requirement already satisfied: numpy>=1.16.5 in /usr/local/lib/python3.11/dist-packages (from yfinance) (1.26.4)\n",
            "Requirement already satisfied: requests>=2.31 in /usr/local/lib/python3.11/dist-packages (from yfinance) (2.32.3)\n",
            "Requirement already satisfied: multitasking>=0.0.7 in /usr/local/lib/python3.11/dist-packages (from yfinance) (0.0.11)\n",
            "Requirement already satisfied: lxml>=4.9.1 in /usr/local/lib/python3.11/dist-packages (from yfinance) (5.3.0)\n",
            "Requirement already satisfied: platformdirs>=2.0.0 in /usr/local/lib/python3.11/dist-packages (from yfinance) (4.3.6)\n",
            "Requirement already satisfied: pytz>=2022.5 in /usr/local/lib/python3.11/dist-packages (from yfinance) (2024.2)\n",
            "Requirement already satisfied: frozendict>=2.3.4 in /usr/local/lib/python3.11/dist-packages (from yfinance) (2.4.6)\n",
            "Requirement already satisfied: peewee>=3.16.2 in /usr/local/lib/python3.11/dist-packages (from yfinance) (3.17.8)\n",
            "Requirement already satisfied: beautifulsoup4>=4.11.1 in /usr/local/lib/python3.11/dist-packages (from yfinance) (4.12.3)\n",
            "Requirement already satisfied: html5lib>=1.1 in /usr/local/lib/python3.11/dist-packages (from yfinance) (1.1)\n",
            "Requirement already satisfied: soupsieve>1.2 in /usr/local/lib/python3.11/dist-packages (from beautifulsoup4>=4.11.1->yfinance) (2.6)\n",
            "Requirement already satisfied: six>=1.9 in /usr/local/lib/python3.11/dist-packages (from html5lib>=1.1->yfinance) (1.17.0)\n",
            "Requirement already satisfied: webencodings in /usr/local/lib/python3.11/dist-packages (from html5lib>=1.1->yfinance) (0.5.1)\n",
            "Requirement already satisfied: python-dateutil>=2.8.2 in /usr/local/lib/python3.11/dist-packages (from pandas>=1.3.0->yfinance) (2.8.2)\n",
            "Requirement already satisfied: tzdata>=2022.7 in /usr/local/lib/python3.11/dist-packages (from pandas>=1.3.0->yfinance) (2025.1)\n",
            "Requirement already satisfied: charset-normalizer<4,>=2 in /usr/local/lib/python3.11/dist-packages (from requests>=2.31->yfinance) (3.4.1)\n",
            "Requirement already satisfied: idna<4,>=2.5 in /usr/local/lib/python3.11/dist-packages (from requests>=2.31->yfinance) (3.10)\n",
            "Requirement already satisfied: urllib3<3,>=1.21.1 in /usr/local/lib/python3.11/dist-packages (from requests>=2.31->yfinance) (2.3.0)\n",
            "Requirement already satisfied: certifi>=2017.4.17 in /usr/local/lib/python3.11/dist-packages (from requests>=2.31->yfinance) (2024.12.14)\n"
          ]
        }
      ]
    },
    {
      "cell_type": "code",
      "execution_count": null,
      "metadata": {
        "id": "XDL7tngWdNWD"
      },
      "outputs": [],
      "source": [
        "from datetime import datetime\n",
        "import backtrader as bt\n",
        "import math\n",
        "import yfinance as yf\n",
        "\n",
        "# SMA 전략\n",
        "class SmaCross(bt.Strategy):\n",
        "    params = dict(\n",
        "        pfast=30,  # 단기 SMA\n",
        "        pslow=200  # 장기 SMA\n",
        "    )\n",
        "\n",
        "    def __init__(self):\n",
        "        self.sma1 = bt.ind.SMA(period=self.p.pfast) # 단기 SMA\n",
        "        self.sma2 = bt.ind.SMA(period=self.p.pslow) # 장기 SMA\n",
        "\n",
        "    # 인덱싱(self.sma1[0], self.sma1[-1])의 의미\n",
        "    # self.sma1[0]: 가장 최근 시점의 SMA 값을 의미합니다. 인덱스 0은 현재 시점의 데이터를 나타냅니다.\n",
        "    # self.sma1[-1]: 바로 이전 시점의 SMA 값을 의미합니다. 인덱스 -1은 이전 날 또는 이전 데이터 포인트를 나타냅니다.\n",
        "    # 따라서, self.sma1[-1] < self.sma2[-1]는 바로 이전 시점에서 단기 SMA가 장기 SMA보다 낮았다는 것을 의미하며,\n",
        "    # self.sma1[0] >= self.sma2[0]는 현재 시점에서 단기 SMA가 장기 SMA보다 같거나 크다는 것을 의미합니다.\n",
        "    # 이 두 조건을 함께 사용하면, **단기 SMA가 장기 SMA를 방금 막 돌파한 상황(골든 크로스)**을 탐지할 수 있습니다.\n",
        "    def next(self):\n",
        "        if not self.position: #포지션이 없을 경우\n",
        "            # 단기 SMA가 장기 SMA를 위로 돌파했을 경우\n",
        "            if self.sma1[0] >= self.sma2[0] and self.sma1[-1] < self.sma2[-1]:\n",
        "                order_size = math.floor(self.broker.get_value() / self.datas[0].close * 0.99)\n",
        "                self.buy(size=order_size)\n",
        "\n",
        "        # 장기 SMA가 단기 SMA를 아래로 돌파했을 경우\n",
        "        elif self.sma1[0] <= self.sma2[0] and self.sma1[-1] > self.sma2[-1]:\n",
        "            self.close()\n",
        "\n",
        "    def log(self, message):\n",
        "        print(message)\n",
        "\n",
        "    def notify_order(self, order):\n",
        "        if order.status in [order.Submitted, order.Accepted]:\n",
        "            # Buy/Sell order submitted/accepted to/by broker - Nothing to do\n",
        "            return\n",
        "\n",
        "        # Check if an order has been completed\n",
        "        # Attention: broker could reject order if not enough cash\n",
        "        cur_date = None\n",
        "        if order.status in [order.Completed]:\n",
        "            cur_date = order.data.datetime.date(0)\n",
        "            if order.isbuy():\n",
        "                self.log(\n",
        "                    f'{cur_date} [매수 주문 실행] 종목: {order.data._name} \\t 수량: {order.size} \\t 가격: {order.executed.price:.2f}')\n",
        "            elif order.issell():\n",
        "                self.log(\n",
        "                    f'{cur_date} [매도 주문 실행] 종목: {order.data._name} \\t 수량: {order.size} \\t 가격: {order.executed.price:.2f}')\n",
        "            self.bar_executed = len(self)\n",
        "\n",
        "        elif order.status in [order.Canceled, order.Margin, order.Rejected]:\n",
        "            self.log(\n",
        "                f'{cur_date} 주문이 거부되었습니다. 종목: {order.data._name} \\t 수량: {order.size} \\t 가격: {order.executed.price:.2f}')\n",
        "\n"
      ]
    },
    {
      "cell_type": "code",
      "source": [
        "if __name__ == '__main__':\n",
        "\n",
        "    cerebro = bt.Cerebro()\n",
        "    cerebro.addstrategy(SmaCross)\n",
        "    cerebro.broker.setcommission(commission=0.003) # 수수료 0.3%\n",
        "    cerebro.broker.setcash(10_000_000)\n",
        "\n",
        "    print('Starting Portfolio Value: %.2f' % cerebro.broker.getvalue())\n",
        "    data = yf.download('BTC-USD', start='2020-01-01', end='2024-12-01')\n",
        "    # 열 이름 전처리\n",
        "    data.columns = [col[0] if isinstance(col, tuple) else col for col in data.columns]\n",
        "    data_bt = bt.feeds.PandasData(dataname=data)\n",
        "    cerebro.adddata(data_bt)\n",
        "    cerebro.run()\n",
        "    print('Final Portfolio Value: %.2f' % cerebro.broker.getvalue())\n",
        "    print(f'수익률: {cerebro.broker.getvalue() / 10_000_000 * 100:.2f}%')\n"
      ],
      "metadata": {
        "colab": {
          "base_uri": "https://localhost:8080/"
        },
        "id": "pyJps3oZfbaF",
        "outputId": "7106bf07-4ee9-41af-fd7b-8788cc3cdf68"
      },
      "execution_count": null,
      "outputs": [
        {
          "output_type": "stream",
          "name": "stdout",
          "text": [
            "Starting Portfolio Value: 10000000.00\n"
          ]
        },
        {
          "output_type": "stream",
          "name": "stderr",
          "text": [
            "\r[*********************100%***********************]  1 of 1 completed\n"
          ]
        },
        {
          "output_type": "stream",
          "name": "stdout",
          "text": [
            "2021-09-02 [매수 주문 실행] 종목:  \t 수량: 202 \t 가격: 48807.85\n",
            "2022-01-07 [매도 주문 실행] 종목:  \t 수량: -202 \t 가격: 43153.57\n",
            "2023-01-29 [매수 주문 실행] 종목:  \t 수량: 378 \t 가격: 23031.45\n",
            "2023-09-04 [매도 주문 실행] 종목:  \t 수량: -378 \t 가격: 25968.17\n",
            "2023-10-26 [매수 주문 실행] 종목:  \t 수량: 282 \t 가격: 34504.29\n",
            "2024-08-18 [매도 주문 실행] 종목:  \t 수량: -282 \t 가격: 59468.13\n",
            "2024-10-18 [매수 주문 실행] 종목:  \t 수량: 247 \t 가격: 67419.11\n",
            "Final Portfolio Value: 23937364.42\n",
            "수익률: 239.37%\n"
          ]
        }
      ]
    }
  ]
}