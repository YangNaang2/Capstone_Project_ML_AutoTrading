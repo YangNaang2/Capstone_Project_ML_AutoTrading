{
  "nbformat": 4,
  "nbformat_minor": 0,
  "metadata": {
    "colab": {
      "provenance": []
    },
    "kernelspec": {
      "name": "python3",
      "display_name": "Python 3"
    },
    "language_info": {
      "name": "python"
    }
  },
  "cells": [
    {
      "cell_type": "code",
      "source": [
        "#1. 업비트 api 불러오기"
      ],
      "metadata": {
        "id": "dwct5Iw6IVnD"
      },
      "execution_count": 5,
      "outputs": []
    },
    {
      "cell_type": "code",
      "execution_count": 2,
      "metadata": {
        "id": "Rw8onwAhIIaw"
      },
      "outputs": [],
      "source": [
        "import requests\n",
        "\n",
        "access_key = 'YOUR_ACCESS_KEY'\n",
        "secret_key = 'YOUR_SECRET_KEY'\n",
        "base_url = 'https://api.upbit.com/v1'\n",
        "\n",
        "# 예시: 잔고 조회\n",
        "headers = {\n",
        "    'Authorization': f'Bearer {access_key}:{secret_key}'\n",
        "}\n",
        "\n",
        "def get_balance():\n",
        "    response = requests.get(f'{base_url}/accounts', headers=headers)\n",
        "    return response.json()"
      ]
    },
    {
      "cell_type": "code",
      "source": [
        "#2. 트레이딩 전략(이동 평균 교차 전략)"
      ],
      "metadata": {
        "id": "KFLD3-RWIRBL"
      },
      "execution_count": 6,
      "outputs": []
    },
    {
      "cell_type": "code",
      "source": [
        "#2-1. 가격 데이터 가져오기\n",
        "def get_price_data(crypto='KRW-BTC', count=50):\n",
        "    url = f\"{base_url}/candles/days\"\n",
        "    params = {\"market\": crypto, \"count\": count}\n",
        "    response = requests.get(url, params=params, headers=headers)\n",
        "    return [candle['trade_price'] for candle in response.json()]"
      ],
      "metadata": {
        "id": "1dpKJB3cIa98"
      },
      "execution_count": 9,
      "outputs": []
    },
    {
      "cell_type": "code",
      "source": [
        "#2-2. 이동 평균 계산하기\n",
        "def calculate_moving_average(prices, window):\n",
        "    return sum(prices[-window:]) / window"
      ],
      "metadata": {
        "id": "q9thDysxIe81"
      },
      "execution_count": 10,
      "outputs": []
    },
    {
      "cell_type": "code",
      "source": [
        "#2-3. 매수 및 매도 조건 설정\n",
        "def should_buy(prices, short_window=5, long_window=10):\n",
        "    short_ma = calculate_moving_average(prices, short_window)\n",
        "    long_ma = calculate_moving_average(prices, long_window)\n",
        "    return short_ma > long_ma\n",
        "\n",
        "def should_sell(prices, short_window=5, long_window=10):\n",
        "    short_ma = calculate_moving_average(prices, short_window)\n",
        "    long_ma = calculate_moving_average(prices, long_window)\n",
        "    return short_ma < long_ma"
      ],
      "metadata": {
        "id": "8fSnL6jIIgqK"
      },
      "execution_count": 11,
      "outputs": []
    },
    {
      "cell_type": "code",
      "source": [
        "#3. 업비트 API로 주문 실행 함수\n",
        "def place_order(crypto, side, volume):\n",
        "    order_url = f\"{base_url}/orders\"\n",
        "    order_data = {\n",
        "        'market': crypto,\n",
        "        'side': side,\n",
        "        'volume': volume,\n",
        "        'ord_type': 'market'\n",
        "    }\n",
        "    response = requests.post(order_url, json=order_data, headers=headers)\n",
        "    return response.json()"
      ],
      "metadata": {
        "id": "yF5v-_cgIp07"
      },
      "execution_count": 12,
      "outputs": []
    },
    {
      "cell_type": "code",
      "source": [
        "#4. 예시 사용법\n",
        "# buy_order = place_order('KRW-BTC', 'bid', '0.001')\n",
        "# sell_order = place_order('KRW-BTC', 'ask', '0.001')"
      ],
      "metadata": {
        "id": "i4kjapU2Izjv"
      },
      "execution_count": 14,
      "outputs": []
    },
    {
      "cell_type": "code",
      "source": [
        "#5. Bot 자동화\n",
        "import time\n",
        "\n",
        "crypto = 'KRW-BTC'\n",
        "volume = '0.001'  # 예시 거래량\n",
        "\n",
        "while True:\n",
        "    prices = get_price_data(crypto)\n",
        "    if should_buy(prices):\n",
        "        print(\"비트코인 매수 중...\")\n",
        "        place_order(crypto, 'bid', volume)\n",
        "    elif should_sell(prices):\n",
        "        print(\"비트코인 매도 중...\")\n",
        "        place_order(crypto, 'ask', volume)\n",
        "    time.sleep(60)  # 1분마다 실행"
      ],
      "metadata": {
        "colab": {
          "base_uri": "https://localhost:8080/",
          "height": 333
        },
        "id": "cYN-zc29I1LR",
        "outputId": "5171ad08-bb53-405b-dc27-05d849e306e4"
      },
      "execution_count": 15,
      "outputs": [
        {
          "output_type": "error",
          "ename": "TypeError",
          "evalue": "string indices must be integers, not 'str'",
          "traceback": [
            "\u001b[0;31m---------------------------------------------------------------------------\u001b[0m",
            "\u001b[0;31mTypeError\u001b[0m                                 Traceback (most recent call last)",
            "\u001b[0;32m<ipython-input-15-e5eec7381c9a>\u001b[0m in \u001b[0;36m<cell line: 0>\u001b[0;34m()\u001b[0m\n\u001b[1;32m      6\u001b[0m \u001b[0;34m\u001b[0m\u001b[0m\n\u001b[1;32m      7\u001b[0m \u001b[0;32mwhile\u001b[0m \u001b[0;32mTrue\u001b[0m\u001b[0;34m:\u001b[0m\u001b[0;34m\u001b[0m\u001b[0;34m\u001b[0m\u001b[0m\n\u001b[0;32m----> 8\u001b[0;31m     \u001b[0mprices\u001b[0m \u001b[0;34m=\u001b[0m \u001b[0mget_price_data\u001b[0m\u001b[0;34m(\u001b[0m\u001b[0mcrypto\u001b[0m\u001b[0;34m)\u001b[0m\u001b[0;34m\u001b[0m\u001b[0;34m\u001b[0m\u001b[0m\n\u001b[0m\u001b[1;32m      9\u001b[0m     \u001b[0;32mif\u001b[0m \u001b[0mshould_buy\u001b[0m\u001b[0;34m(\u001b[0m\u001b[0mprices\u001b[0m\u001b[0;34m)\u001b[0m\u001b[0;34m:\u001b[0m\u001b[0;34m\u001b[0m\u001b[0;34m\u001b[0m\u001b[0m\n\u001b[1;32m     10\u001b[0m         \u001b[0mprint\u001b[0m\u001b[0;34m(\u001b[0m\u001b[0;34m\"비트코인 매수 중...\"\u001b[0m\u001b[0;34m)\u001b[0m\u001b[0;34m\u001b[0m\u001b[0;34m\u001b[0m\u001b[0m\n",
            "\u001b[0;32m<ipython-input-9-4db108b47d7c>\u001b[0m in \u001b[0;36mget_price_data\u001b[0;34m(crypto, count)\u001b[0m\n\u001b[1;32m      4\u001b[0m     \u001b[0mparams\u001b[0m \u001b[0;34m=\u001b[0m \u001b[0;34m{\u001b[0m\u001b[0;34m\"market\"\u001b[0m\u001b[0;34m:\u001b[0m \u001b[0mcrypto\u001b[0m\u001b[0;34m,\u001b[0m \u001b[0;34m\"count\"\u001b[0m\u001b[0;34m:\u001b[0m \u001b[0mcount\u001b[0m\u001b[0;34m}\u001b[0m\u001b[0;34m\u001b[0m\u001b[0;34m\u001b[0m\u001b[0m\n\u001b[1;32m      5\u001b[0m     \u001b[0mresponse\u001b[0m \u001b[0;34m=\u001b[0m \u001b[0mrequests\u001b[0m\u001b[0;34m.\u001b[0m\u001b[0mget\u001b[0m\u001b[0;34m(\u001b[0m\u001b[0murl\u001b[0m\u001b[0;34m,\u001b[0m \u001b[0mparams\u001b[0m\u001b[0;34m=\u001b[0m\u001b[0mparams\u001b[0m\u001b[0;34m,\u001b[0m \u001b[0mheaders\u001b[0m\u001b[0;34m=\u001b[0m\u001b[0mheaders\u001b[0m\u001b[0;34m)\u001b[0m\u001b[0;34m\u001b[0m\u001b[0;34m\u001b[0m\u001b[0m\n\u001b[0;32m----> 6\u001b[0;31m     \u001b[0;32mreturn\u001b[0m \u001b[0;34m[\u001b[0m\u001b[0mcandle\u001b[0m\u001b[0;34m[\u001b[0m\u001b[0;34m'trade_price'\u001b[0m\u001b[0;34m]\u001b[0m \u001b[0;32mfor\u001b[0m \u001b[0mcandle\u001b[0m \u001b[0;32min\u001b[0m \u001b[0mresponse\u001b[0m\u001b[0;34m.\u001b[0m\u001b[0mjson\u001b[0m\u001b[0;34m(\u001b[0m\u001b[0;34m)\u001b[0m\u001b[0;34m]\u001b[0m\u001b[0;34m\u001b[0m\u001b[0;34m\u001b[0m\u001b[0m\n\u001b[0m",
            "\u001b[0;32m<ipython-input-9-4db108b47d7c>\u001b[0m in \u001b[0;36m<listcomp>\u001b[0;34m(.0)\u001b[0m\n\u001b[1;32m      4\u001b[0m     \u001b[0mparams\u001b[0m \u001b[0;34m=\u001b[0m \u001b[0;34m{\u001b[0m\u001b[0;34m\"market\"\u001b[0m\u001b[0;34m:\u001b[0m \u001b[0mcrypto\u001b[0m\u001b[0;34m,\u001b[0m \u001b[0;34m\"count\"\u001b[0m\u001b[0;34m:\u001b[0m \u001b[0mcount\u001b[0m\u001b[0;34m}\u001b[0m\u001b[0;34m\u001b[0m\u001b[0;34m\u001b[0m\u001b[0m\n\u001b[1;32m      5\u001b[0m     \u001b[0mresponse\u001b[0m \u001b[0;34m=\u001b[0m \u001b[0mrequests\u001b[0m\u001b[0;34m.\u001b[0m\u001b[0mget\u001b[0m\u001b[0;34m(\u001b[0m\u001b[0murl\u001b[0m\u001b[0;34m,\u001b[0m \u001b[0mparams\u001b[0m\u001b[0;34m=\u001b[0m\u001b[0mparams\u001b[0m\u001b[0;34m,\u001b[0m \u001b[0mheaders\u001b[0m\u001b[0;34m=\u001b[0m\u001b[0mheaders\u001b[0m\u001b[0;34m)\u001b[0m\u001b[0;34m\u001b[0m\u001b[0;34m\u001b[0m\u001b[0m\n\u001b[0;32m----> 6\u001b[0;31m     \u001b[0;32mreturn\u001b[0m \u001b[0;34m[\u001b[0m\u001b[0mcandle\u001b[0m\u001b[0;34m[\u001b[0m\u001b[0;34m'trade_price'\u001b[0m\u001b[0;34m]\u001b[0m \u001b[0;32mfor\u001b[0m \u001b[0mcandle\u001b[0m \u001b[0;32min\u001b[0m \u001b[0mresponse\u001b[0m\u001b[0;34m.\u001b[0m\u001b[0mjson\u001b[0m\u001b[0;34m(\u001b[0m\u001b[0;34m)\u001b[0m\u001b[0;34m]\u001b[0m\u001b[0;34m\u001b[0m\u001b[0;34m\u001b[0m\u001b[0m\n\u001b[0m",
            "\u001b[0;31mTypeError\u001b[0m: string indices must be integers, not 'str'"
          ]
        }
      ]
    },
    {
      "cell_type": "code",
      "source": [
        "import logging\n",
        "\n",
        "logging.basicConfig(filename='trading_bot.log', level=logging.INFO)\n",
        "\n",
        "def log_trade(action, crypto, volume):\n",
        "    logging.info(f\"{action} {crypto} - Volume: {volume}\")\n",
        "def place_order(crypto, side, volume):\n",
        "    # 동일한 함수 내용...\n",
        "    log_trade(side, crypto, volume)\n",
        "    return response.json()"
      ],
      "metadata": {
        "id": "5ziilGJjJGpY"
      },
      "execution_count": 16,
      "outputs": []
    },
    {
      "cell_type": "code",
      "source": [
        "import pandas as pd\n",
        "\n",
        "# 가상의 과거 데이터 예시 (날짜와 가격만 사용)\n",
        "# 실제로는 업비트 API에서 과거 데이터를 가져오거나 csv 파일로 가져옵니다.\n",
        "data = {\n",
        "    \"date\": [\"2024-01-01\", \"2024-01-02\", \"2024-01-03\", \"2024-01-04\", \"2024-01-05\"],\n",
        "    \"price\": [100, 102, 101, 103, 105]\n",
        "}\n",
        "df = pd.DataFrame(data)\n",
        "\n",
        "# 이동평균 계산 함수\n",
        "def calculate_moving_average(prices, window):\n",
        "    return sum(prices[-window:]) / window\n",
        "\n",
        "# 백테스팅 실행\n",
        "short_window = 3\n",
        "long_window = 5\n",
        "for i in range(long_window, len(df)):\n",
        "    short_ma = calculate_moving_average(df['price'][:i], short_window)\n",
        "    long_ma = calculate_moving_average(df['price'][:i], long_window)\n",
        "    if short_ma > long_ma:\n",
        "        print(f\"{df['date'][i]}: 매수 신호 발생\")\n",
        "    elif short_ma < long_ma:\n",
        "        print(f\"{df['date'][i]}: 매도 신호 발생\")"
      ],
      "metadata": {
        "id": "Q1mQxMM1JgUf"
      },
      "execution_count": 17,
      "outputs": []
    },
    {
      "cell_type": "code",
      "source": [
        "import time\n",
        "\n",
        "crypto = 'KRW-BTC'\n",
        "volume = '0.001'\n",
        "\n",
        "def should_buy(prices):\n",
        "    return prices[-1] < prices[-2]  # 가격이 떨어질 때 매수 예시 조건\n",
        "\n",
        "def should_sell(prices):\n",
        "    return prices[-1] > prices[-2]  # 가격이 오를 때 매도 예시 조건\n",
        "\n",
        "while True:\n",
        "    # 가상의 현재가 리스트 (실제 데이터에서는 API 호출로 대체)\n",
        "    prices = [100, 99, 101, 100, 98]\n",
        "\n",
        "    if should_buy(prices):\n",
        "        print(\"매수 조건 충족 - 매수 테스트 실행\")\n",
        "    elif should_sell(prices):\n",
        "        print(\"매도 조건 충족 - 매도 테스트 실행\")\n",
        "\n",
        "    time.sleep(60)  # 1분마다 실행"
      ],
      "metadata": {
        "colab": {
          "base_uri": "https://localhost:8080/",
          "height": 255
        },
        "id": "KwWsriNGJp4q",
        "outputId": "2ec453d0-51bc-4a0e-d0f2-4ef017f69037"
      },
      "execution_count": 19,
      "outputs": [
        {
          "output_type": "stream",
          "name": "stdout",
          "text": [
            "매수 조건 충족 - 매수 테스트 실행\n",
            "매수 조건 충족 - 매수 테스트 실행\n",
            "매수 조건 충족 - 매수 테스트 실행\n",
            "매수 조건 충족 - 매수 테스트 실행\n"
          ]
        },
        {
          "output_type": "error",
          "ename": "KeyboardInterrupt",
          "evalue": "",
          "traceback": [
            "\u001b[0;31m---------------------------------------------------------------------------\u001b[0m",
            "\u001b[0;31mKeyboardInterrupt\u001b[0m                         Traceback (most recent call last)",
            "\u001b[0;32m<ipython-input-19-1a7dca58128b>\u001b[0m in \u001b[0;36m<cell line: 0>\u001b[0;34m()\u001b[0m\n\u001b[1;32m     19\u001b[0m         \u001b[0mprint\u001b[0m\u001b[0;34m(\u001b[0m\u001b[0;34m\"매도 조건 충족 - 매도 테스트 실행\"\u001b[0m\u001b[0;34m)\u001b[0m\u001b[0;34m\u001b[0m\u001b[0;34m\u001b[0m\u001b[0m\n\u001b[1;32m     20\u001b[0m \u001b[0;34m\u001b[0m\u001b[0m\n\u001b[0;32m---> 21\u001b[0;31m     \u001b[0mtime\u001b[0m\u001b[0;34m.\u001b[0m\u001b[0msleep\u001b[0m\u001b[0;34m(\u001b[0m\u001b[0;36m60\u001b[0m\u001b[0;34m)\u001b[0m  \u001b[0;31m# 1분마다 실행\u001b[0m\u001b[0;34m\u001b[0m\u001b[0;34m\u001b[0m\u001b[0m\n\u001b[0m",
            "\u001b[0;31mKeyboardInterrupt\u001b[0m: "
          ]
        }
      ]
    }
  ]
}